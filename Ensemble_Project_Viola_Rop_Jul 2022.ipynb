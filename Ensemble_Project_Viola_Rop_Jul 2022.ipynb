{
  "cells": [
    {
      "cell_type": "markdown",
      "source": [
        "# Travel Package Purchase Prediction"
      ],
      "metadata": {
        "id": "q4MG4WNEMU8d"
      }
    },
    {
      "cell_type": "markdown",
      "metadata": {
        "id": "M0ctxbxQQOtD"
      },
      "source": [
        "**Background and Context**\n",
        "\n",
        "You are a Data Scientist for a tourism company named \"Visit with us\". The Policy Maker of the company wants to enable and establish a viable business model to expand the customer base.\n",
        "\n",
        "A viable business model is a central concept that helps you to understand the existing ways of doing the business and how to change the ways for the benefit of the tourism sector.\n",
        "\n",
        "One of the ways to expand the customer base is to introduce a new offering of packages.\n",
        "\n",
        "Currently, there are 5 types of packages the company is offering - Basic, Standard, Deluxe, Super Deluxe, King. Looking at the data of the last year, we observed that 18% of the customers purchased the packages.\n",
        "\n",
        "However, it was difficult to identify the potential customers because customers were contacted at random without looking at the available information.\n",
        "\n",
        "The company is now planning to launch a new product i.e. Wellness Tourism Package. Wellness Tourism is defined as Travel that allows the traveler to maintain, enhance or kick-start a healthy lifestyle, and support or increase one's sense of well-being.\n",
        "\n",
        "This time company wants to harness the available data of existing and potential customers to target the right customers.\n",
        "\n",
        "You as a Data Scientist at \"Visit with us\" travel company has to analyze the customers' data and information to provide recommendations to the Policy Maker and build a model to predict the potential customer who is going to purchase the newly introduced travel package. The model will be built to make predictions before a customer is contacted.\n",
        "\n",
        "**Objective**\n",
        "\n",
        "To predict which customer is more likely to purchase the newly introduced travel package.\n"
      ]
    },
    {
      "cell_type": "markdown",
      "source": [
        "**Data Dictionary**\n",
        "\n",
        "1. CustomerID: Unique customer ID\n",
        "1. ProdTaken: Whether the customer has purchased a package or not (0: No, 1: Yes)\n",
        "2. Age: Age of customer\n",
        "3. TypeofContact: How customer was contacted (Company Invited or Self Inquiry)\n",
        "4. CityTier: City tier depends on the development of a city, population, facilities, and living standards. The categories are ordered i.e. Tier 1 > Tier 2 > Tier 3. It's the city the customer lives in.\n",
        "5. Occupation: Occupation of customer\n",
        "6. Gender: Gender of customer\n",
        "7. NumberOfPersonVisiting: Total number of persons planning to take the trip with the customer\n",
        "8. PreferredPropertyStar: Preferred hotel property rating by customer\n",
        "9. MaritalStatus: Marital status of customer\n",
        "10. NumberOfTrips: Average number of trips in a year by customer\n",
        "11. Passport: The customer has a passport or not (0: No, 1: Yes)\n",
        "12. OwnCar: Whether the customers own a car or not (0: No, 1: Yes)\n",
        "13. NumberOfChildrenVisiting: Total number of children with age less than 5 planning to take the trip with the customer\n",
        "14. Designation: Designation of the customer in the current organization\n",
        "15. MonthlyIncome: Gross monthly income of the customer\n",
        "\n",
        "**Customer interaction data: **\n",
        "1. PitchSatisfactionScore: Sales pitch satisfaction score\n",
        "2. ProductPitched: Product pitched by the salesperson\n",
        "3. NumberOfFollowups: Total number of follow-ups has been done by the salesperson after the sales pitch\n",
        "4. DurationOfPitch: Duration of the pitch by a salesperson to the customer"
      ],
      "metadata": {
        "id": "aJqJkCECM977"
      }
    },
    {
      "cell_type": "markdown",
      "metadata": {
        "id": "SFyI3CAtxLPk"
      },
      "source": [
        "## Import Libraries"
      ]
    },
    {
      "cell_type": "code",
      "execution_count": 69,
      "metadata": {
        "id": "8NjHSaCTxLPl"
      },
      "outputs": [],
      "source": [
        "# Libraries to help with reading and manipulating data\n",
        "import pandas as pd\n",
        "import numpy as np\n",
        "\n",
        "# Library to split data\n",
        "from sklearn import metrics\n",
        "import matplotlib.pyplot as plt\n",
        "%matplotlib inline\n",
        "import warnings\n",
        "warnings.filterwarnings('ignore')\n",
        "\n",
        "import seaborn as sns\n",
        "from sklearn.model_selection import train_test_split\n",
        "from sklearn.model_selection import GridSearchCV\n",
        "from sklearn.ensemble import BaggingClassifier, RandomForestClassifier\n",
        "from sklearn.linear_model import LogisticRegression\n",
        "from sklearn.tree import DecisionTreeClassifier\n",
        "from sklearn.metrics import confusion_matrix, classification_report\n",
        "from sklearn.metrics import accuracy_score,precision_score,recall_score,f1_score\n",
        "import scipy.stats as stats\n",
        "from sklearn import tree\n",
        "from sklearn.ensemble import BaggingRegressor,RandomForestRegressor, GradientBoostingRegressor, AdaBoostRegressor, StackingRegressor\n",
        "from sklearn.tree import DecisionTreeRegressor\n",
        "\n",
        "from xgboost import XGBRegressor\n",
        "from sklearn.metrics import mean_squared_error\n",
        "from sklearn.metrics import r2_score\n",
        "from sklearn.metrics import mean_absolute_error"
      ]
    },
    {
      "cell_type": "markdown",
      "metadata": {
        "id": "PVUNRPMWQOtO"
      },
      "source": [
        "**We will use the same `credit data` used in decision tree hands-on lecture.**"
      ]
    },
    {
      "cell_type": "code",
      "execution_count": 72,
      "metadata": {
        "colab": {
          "base_uri": "https://localhost:8080/",
          "height": 548
        },
        "id": "Dv1So1y8Q2Fi",
        "outputId": "f449d4ea-b86e-4344-b7c0-8c370a3fb554"
      },
      "outputs": [
        {
          "output_type": "execute_result",
          "data": {
            "text/plain": [
              "   CustomerID  ProdTaken   Age    TypeofContact  CityTier  DurationOfPitch  \\\n",
              "0      200000          1  41.0     Self Enquiry         3              6.0   \n",
              "1      200001          0  49.0  Company Invited         1             14.0   \n",
              "2      200002          1  37.0     Self Enquiry         1              8.0   \n",
              "3      200003          0  33.0  Company Invited         1              9.0   \n",
              "4      200004          0   NaN     Self Enquiry         1              8.0   \n",
              "5      200005          0  32.0  Company Invited         1              8.0   \n",
              "6      200006          0  59.0     Self Enquiry         1              9.0   \n",
              "7      200007          0  30.0     Self Enquiry         1             30.0   \n",
              "8      200008          0  38.0  Company Invited         1             29.0   \n",
              "9      200009          0  36.0     Self Enquiry         1             33.0   \n",
              "\n",
              "       Occupation  Gender  NumberOfPersonVisiting  NumberOfFollowups  \\\n",
              "0        Salaried  Female                       3                3.0   \n",
              "1        Salaried    Male                       3                4.0   \n",
              "2     Free Lancer    Male                       3                4.0   \n",
              "3        Salaried  Female                       2                3.0   \n",
              "4  Small Business    Male                       2                3.0   \n",
              "5        Salaried    Male                       3                3.0   \n",
              "6  Small Business  Female                       2                2.0   \n",
              "7        Salaried    Male                       3                3.0   \n",
              "8        Salaried    Male                       2                4.0   \n",
              "9  Small Business    Male                       3                3.0   \n",
              "\n",
              "  ProductPitched  PreferredPropertyStar MaritalStatus  NumberOfTrips  \\\n",
              "0         Deluxe                    3.0        Single            1.0   \n",
              "1         Deluxe                    4.0      Divorced            2.0   \n",
              "2          Basic                    3.0        Single            7.0   \n",
              "3          Basic                    3.0      Divorced            2.0   \n",
              "4          Basic                    4.0      Divorced            1.0   \n",
              "5          Basic                    3.0        Single            1.0   \n",
              "6          Basic                    5.0      Divorced            5.0   \n",
              "7          Basic                    3.0       Married            2.0   \n",
              "8       Standard                    3.0     Unmarried            1.0   \n",
              "9         Deluxe                    3.0      Divorced            7.0   \n",
              "\n",
              "   Passport  PitchSatisfactionScore  OwnCar  NumberOfChildrenVisiting  \\\n",
              "0         1                       2       1                       0.0   \n",
              "1         0                       3       1                       2.0   \n",
              "2         1                       3       0                       0.0   \n",
              "3         1                       5       1                       1.0   \n",
              "4         0                       5       1                       0.0   \n",
              "5         0                       5       1                       1.0   \n",
              "6         1                       2       1                       1.0   \n",
              "7         0                       2       0                       1.0   \n",
              "8         0                       3       0                       0.0   \n",
              "9         0                       3       1                       0.0   \n",
              "\n",
              "      Designation  MonthlyIncome  \n",
              "0         Manager        20993.0  \n",
              "1         Manager        20130.0  \n",
              "2       Executive        17090.0  \n",
              "3       Executive        17909.0  \n",
              "4       Executive        18468.0  \n",
              "5       Executive        18068.0  \n",
              "6       Executive        17670.0  \n",
              "7       Executive        17693.0  \n",
              "8  Senior Manager        24526.0  \n",
              "9         Manager        20237.0  "
            ],
            "text/html": [
              "\n",
              "  <div id=\"df-a47c3d14-d07d-451b-8bbb-e1f0b0e48b97\">\n",
              "    <div class=\"colab-df-container\">\n",
              "      <div>\n",
              "<style scoped>\n",
              "    .dataframe tbody tr th:only-of-type {\n",
              "        vertical-align: middle;\n",
              "    }\n",
              "\n",
              "    .dataframe tbody tr th {\n",
              "        vertical-align: top;\n",
              "    }\n",
              "\n",
              "    .dataframe thead th {\n",
              "        text-align: right;\n",
              "    }\n",
              "</style>\n",
              "<table border=\"1\" class=\"dataframe\">\n",
              "  <thead>\n",
              "    <tr style=\"text-align: right;\">\n",
              "      <th></th>\n",
              "      <th>CustomerID</th>\n",
              "      <th>ProdTaken</th>\n",
              "      <th>Age</th>\n",
              "      <th>TypeofContact</th>\n",
              "      <th>CityTier</th>\n",
              "      <th>DurationOfPitch</th>\n",
              "      <th>Occupation</th>\n",
              "      <th>Gender</th>\n",
              "      <th>NumberOfPersonVisiting</th>\n",
              "      <th>NumberOfFollowups</th>\n",
              "      <th>ProductPitched</th>\n",
              "      <th>PreferredPropertyStar</th>\n",
              "      <th>MaritalStatus</th>\n",
              "      <th>NumberOfTrips</th>\n",
              "      <th>Passport</th>\n",
              "      <th>PitchSatisfactionScore</th>\n",
              "      <th>OwnCar</th>\n",
              "      <th>NumberOfChildrenVisiting</th>\n",
              "      <th>Designation</th>\n",
              "      <th>MonthlyIncome</th>\n",
              "    </tr>\n",
              "  </thead>\n",
              "  <tbody>\n",
              "    <tr>\n",
              "      <th>0</th>\n",
              "      <td>200000</td>\n",
              "      <td>1</td>\n",
              "      <td>41.0</td>\n",
              "      <td>Self Enquiry</td>\n",
              "      <td>3</td>\n",
              "      <td>6.0</td>\n",
              "      <td>Salaried</td>\n",
              "      <td>Female</td>\n",
              "      <td>3</td>\n",
              "      <td>3.0</td>\n",
              "      <td>Deluxe</td>\n",
              "      <td>3.0</td>\n",
              "      <td>Single</td>\n",
              "      <td>1.0</td>\n",
              "      <td>1</td>\n",
              "      <td>2</td>\n",
              "      <td>1</td>\n",
              "      <td>0.0</td>\n",
              "      <td>Manager</td>\n",
              "      <td>20993.0</td>\n",
              "    </tr>\n",
              "    <tr>\n",
              "      <th>1</th>\n",
              "      <td>200001</td>\n",
              "      <td>0</td>\n",
              "      <td>49.0</td>\n",
              "      <td>Company Invited</td>\n",
              "      <td>1</td>\n",
              "      <td>14.0</td>\n",
              "      <td>Salaried</td>\n",
              "      <td>Male</td>\n",
              "      <td>3</td>\n",
              "      <td>4.0</td>\n",
              "      <td>Deluxe</td>\n",
              "      <td>4.0</td>\n",
              "      <td>Divorced</td>\n",
              "      <td>2.0</td>\n",
              "      <td>0</td>\n",
              "      <td>3</td>\n",
              "      <td>1</td>\n",
              "      <td>2.0</td>\n",
              "      <td>Manager</td>\n",
              "      <td>20130.0</td>\n",
              "    </tr>\n",
              "    <tr>\n",
              "      <th>2</th>\n",
              "      <td>200002</td>\n",
              "      <td>1</td>\n",
              "      <td>37.0</td>\n",
              "      <td>Self Enquiry</td>\n",
              "      <td>1</td>\n",
              "      <td>8.0</td>\n",
              "      <td>Free Lancer</td>\n",
              "      <td>Male</td>\n",
              "      <td>3</td>\n",
              "      <td>4.0</td>\n",
              "      <td>Basic</td>\n",
              "      <td>3.0</td>\n",
              "      <td>Single</td>\n",
              "      <td>7.0</td>\n",
              "      <td>1</td>\n",
              "      <td>3</td>\n",
              "      <td>0</td>\n",
              "      <td>0.0</td>\n",
              "      <td>Executive</td>\n",
              "      <td>17090.0</td>\n",
              "    </tr>\n",
              "    <tr>\n",
              "      <th>3</th>\n",
              "      <td>200003</td>\n",
              "      <td>0</td>\n",
              "      <td>33.0</td>\n",
              "      <td>Company Invited</td>\n",
              "      <td>1</td>\n",
              "      <td>9.0</td>\n",
              "      <td>Salaried</td>\n",
              "      <td>Female</td>\n",
              "      <td>2</td>\n",
              "      <td>3.0</td>\n",
              "      <td>Basic</td>\n",
              "      <td>3.0</td>\n",
              "      <td>Divorced</td>\n",
              "      <td>2.0</td>\n",
              "      <td>1</td>\n",
              "      <td>5</td>\n",
              "      <td>1</td>\n",
              "      <td>1.0</td>\n",
              "      <td>Executive</td>\n",
              "      <td>17909.0</td>\n",
              "    </tr>\n",
              "    <tr>\n",
              "      <th>4</th>\n",
              "      <td>200004</td>\n",
              "      <td>0</td>\n",
              "      <td>NaN</td>\n",
              "      <td>Self Enquiry</td>\n",
              "      <td>1</td>\n",
              "      <td>8.0</td>\n",
              "      <td>Small Business</td>\n",
              "      <td>Male</td>\n",
              "      <td>2</td>\n",
              "      <td>3.0</td>\n",
              "      <td>Basic</td>\n",
              "      <td>4.0</td>\n",
              "      <td>Divorced</td>\n",
              "      <td>1.0</td>\n",
              "      <td>0</td>\n",
              "      <td>5</td>\n",
              "      <td>1</td>\n",
              "      <td>0.0</td>\n",
              "      <td>Executive</td>\n",
              "      <td>18468.0</td>\n",
              "    </tr>\n",
              "    <tr>\n",
              "      <th>5</th>\n",
              "      <td>200005</td>\n",
              "      <td>0</td>\n",
              "      <td>32.0</td>\n",
              "      <td>Company Invited</td>\n",
              "      <td>1</td>\n",
              "      <td>8.0</td>\n",
              "      <td>Salaried</td>\n",
              "      <td>Male</td>\n",
              "      <td>3</td>\n",
              "      <td>3.0</td>\n",
              "      <td>Basic</td>\n",
              "      <td>3.0</td>\n",
              "      <td>Single</td>\n",
              "      <td>1.0</td>\n",
              "      <td>0</td>\n",
              "      <td>5</td>\n",
              "      <td>1</td>\n",
              "      <td>1.0</td>\n",
              "      <td>Executive</td>\n",
              "      <td>18068.0</td>\n",
              "    </tr>\n",
              "    <tr>\n",
              "      <th>6</th>\n",
              "      <td>200006</td>\n",
              "      <td>0</td>\n",
              "      <td>59.0</td>\n",
              "      <td>Self Enquiry</td>\n",
              "      <td>1</td>\n",
              "      <td>9.0</td>\n",
              "      <td>Small Business</td>\n",
              "      <td>Female</td>\n",
              "      <td>2</td>\n",
              "      <td>2.0</td>\n",
              "      <td>Basic</td>\n",
              "      <td>5.0</td>\n",
              "      <td>Divorced</td>\n",
              "      <td>5.0</td>\n",
              "      <td>1</td>\n",
              "      <td>2</td>\n",
              "      <td>1</td>\n",
              "      <td>1.0</td>\n",
              "      <td>Executive</td>\n",
              "      <td>17670.0</td>\n",
              "    </tr>\n",
              "    <tr>\n",
              "      <th>7</th>\n",
              "      <td>200007</td>\n",
              "      <td>0</td>\n",
              "      <td>30.0</td>\n",
              "      <td>Self Enquiry</td>\n",
              "      <td>1</td>\n",
              "      <td>30.0</td>\n",
              "      <td>Salaried</td>\n",
              "      <td>Male</td>\n",
              "      <td>3</td>\n",
              "      <td>3.0</td>\n",
              "      <td>Basic</td>\n",
              "      <td>3.0</td>\n",
              "      <td>Married</td>\n",
              "      <td>2.0</td>\n",
              "      <td>0</td>\n",
              "      <td>2</td>\n",
              "      <td>0</td>\n",
              "      <td>1.0</td>\n",
              "      <td>Executive</td>\n",
              "      <td>17693.0</td>\n",
              "    </tr>\n",
              "    <tr>\n",
              "      <th>8</th>\n",
              "      <td>200008</td>\n",
              "      <td>0</td>\n",
              "      <td>38.0</td>\n",
              "      <td>Company Invited</td>\n",
              "      <td>1</td>\n",
              "      <td>29.0</td>\n",
              "      <td>Salaried</td>\n",
              "      <td>Male</td>\n",
              "      <td>2</td>\n",
              "      <td>4.0</td>\n",
              "      <td>Standard</td>\n",
              "      <td>3.0</td>\n",
              "      <td>Unmarried</td>\n",
              "      <td>1.0</td>\n",
              "      <td>0</td>\n",
              "      <td>3</td>\n",
              "      <td>0</td>\n",
              "      <td>0.0</td>\n",
              "      <td>Senior Manager</td>\n",
              "      <td>24526.0</td>\n",
              "    </tr>\n",
              "    <tr>\n",
              "      <th>9</th>\n",
              "      <td>200009</td>\n",
              "      <td>0</td>\n",
              "      <td>36.0</td>\n",
              "      <td>Self Enquiry</td>\n",
              "      <td>1</td>\n",
              "      <td>33.0</td>\n",
              "      <td>Small Business</td>\n",
              "      <td>Male</td>\n",
              "      <td>3</td>\n",
              "      <td>3.0</td>\n",
              "      <td>Deluxe</td>\n",
              "      <td>3.0</td>\n",
              "      <td>Divorced</td>\n",
              "      <td>7.0</td>\n",
              "      <td>0</td>\n",
              "      <td>3</td>\n",
              "      <td>1</td>\n",
              "      <td>0.0</td>\n",
              "      <td>Manager</td>\n",
              "      <td>20237.0</td>\n",
              "    </tr>\n",
              "  </tbody>\n",
              "</table>\n",
              "</div>\n",
              "      <button class=\"colab-df-convert\" onclick=\"convertToInteractive('df-a47c3d14-d07d-451b-8bbb-e1f0b0e48b97')\"\n",
              "              title=\"Convert this dataframe to an interactive table.\"\n",
              "              style=\"display:none;\">\n",
              "        \n",
              "  <svg xmlns=\"http://www.w3.org/2000/svg\" height=\"24px\"viewBox=\"0 0 24 24\"\n",
              "       width=\"24px\">\n",
              "    <path d=\"M0 0h24v24H0V0z\" fill=\"none\"/>\n",
              "    <path d=\"M18.56 5.44l.94 2.06.94-2.06 2.06-.94-2.06-.94-.94-2.06-.94 2.06-2.06.94zm-11 1L8.5 8.5l.94-2.06 2.06-.94-2.06-.94L8.5 2.5l-.94 2.06-2.06.94zm10 10l.94 2.06.94-2.06 2.06-.94-2.06-.94-.94-2.06-.94 2.06-2.06.94z\"/><path d=\"M17.41 7.96l-1.37-1.37c-.4-.4-.92-.59-1.43-.59-.52 0-1.04.2-1.43.59L10.3 9.45l-7.72 7.72c-.78.78-.78 2.05 0 2.83L4 21.41c.39.39.9.59 1.41.59.51 0 1.02-.2 1.41-.59l7.78-7.78 2.81-2.81c.8-.78.8-2.07 0-2.86zM5.41 20L4 18.59l7.72-7.72 1.47 1.35L5.41 20z\"/>\n",
              "  </svg>\n",
              "      </button>\n",
              "      \n",
              "  <style>\n",
              "    .colab-df-container {\n",
              "      display:flex;\n",
              "      flex-wrap:wrap;\n",
              "      gap: 12px;\n",
              "    }\n",
              "\n",
              "    .colab-df-convert {\n",
              "      background-color: #E8F0FE;\n",
              "      border: none;\n",
              "      border-radius: 50%;\n",
              "      cursor: pointer;\n",
              "      display: none;\n",
              "      fill: #1967D2;\n",
              "      height: 32px;\n",
              "      padding: 0 0 0 0;\n",
              "      width: 32px;\n",
              "    }\n",
              "\n",
              "    .colab-df-convert:hover {\n",
              "      background-color: #E2EBFA;\n",
              "      box-shadow: 0px 1px 2px rgba(60, 64, 67, 0.3), 0px 1px 3px 1px rgba(60, 64, 67, 0.15);\n",
              "      fill: #174EA6;\n",
              "    }\n",
              "\n",
              "    [theme=dark] .colab-df-convert {\n",
              "      background-color: #3B4455;\n",
              "      fill: #D2E3FC;\n",
              "    }\n",
              "\n",
              "    [theme=dark] .colab-df-convert:hover {\n",
              "      background-color: #434B5C;\n",
              "      box-shadow: 0px 1px 3px 1px rgba(0, 0, 0, 0.15);\n",
              "      filter: drop-shadow(0px 1px 2px rgba(0, 0, 0, 0.3));\n",
              "      fill: #FFFFFF;\n",
              "    }\n",
              "  </style>\n",
              "\n",
              "      <script>\n",
              "        const buttonEl =\n",
              "          document.querySelector('#df-a47c3d14-d07d-451b-8bbb-e1f0b0e48b97 button.colab-df-convert');\n",
              "        buttonEl.style.display =\n",
              "          google.colab.kernel.accessAllowed ? 'block' : 'none';\n",
              "\n",
              "        async function convertToInteractive(key) {\n",
              "          const element = document.querySelector('#df-a47c3d14-d07d-451b-8bbb-e1f0b0e48b97');\n",
              "          const dataTable =\n",
              "            await google.colab.kernel.invokeFunction('convertToInteractive',\n",
              "                                                     [key], {});\n",
              "          if (!dataTable) return;\n",
              "\n",
              "          const docLinkHtml = 'Like what you see? Visit the ' +\n",
              "            '<a target=\"_blank\" href=https://colab.research.google.com/notebooks/data_table.ipynb>data table notebook</a>'\n",
              "            + ' to learn more about interactive tables.';\n",
              "          element.innerHTML = '';\n",
              "          dataTable['output_type'] = 'display_data';\n",
              "          await google.colab.output.renderOutput(dataTable, element);\n",
              "          const docLink = document.createElement('div');\n",
              "          docLink.innerHTML = docLinkHtml;\n",
              "          element.appendChild(docLink);\n",
              "        }\n",
              "      </script>\n",
              "    </div>\n",
              "  </div>\n",
              "  "
            ]
          },
          "metadata": {},
          "execution_count": 72
        }
      ],
      "source": [
        "url = \"/content/Tourism dataset.xlsx\"\n",
        "traveldata = pd.read_excel(url)\n",
        "\n",
        "traveldata.head(10) #several missing values!"
      ]
    },
    {
      "cell_type": "code",
      "execution_count": 73,
      "metadata": {
        "colab": {
          "base_uri": "https://localhost:8080/"
        },
        "id": "4t1OBSqzxLPr",
        "outputId": "f7bbc3d4-beea-45f8-9352-6d1f5e13d13d"
      },
      "outputs": [
        {
          "output_type": "execute_result",
          "data": {
            "text/plain": [
              "(4888, 20)"
            ]
          },
          "metadata": {},
          "execution_count": 73
        }
      ],
      "source": [
        "traveldata.shape"
      ]
    },
    {
      "cell_type": "markdown",
      "source": [
        "There are 4888 records and 20 variables in the dataset"
      ],
      "metadata": {
        "id": "gQAYlrLENxKf"
      }
    },
    {
      "cell_type": "code",
      "execution_count": 74,
      "metadata": {
        "id": "NxhNqNKXDyCS"
      },
      "outputs": [],
      "source": [
        "# creating a copy of the data to avoid any changes to original data\n",
        "data = traveldata.copy()"
      ]
    },
    {
      "cell_type": "code",
      "execution_count": 75,
      "metadata": {
        "colab": {
          "base_uri": "https://localhost:8080/"
        },
        "id": "XQzU_ppIpybO",
        "outputId": "e6e052df-1c9b-425d-d376-27e19b8b243f"
      },
      "outputs": [
        {
          "output_type": "execute_result",
          "data": {
            "text/plain": [
              "CustomerID                  0\n",
              "ProdTaken                   0\n",
              "Age                         0\n",
              "TypeofContact               0\n",
              "CityTier                    0\n",
              "DurationOfPitch             0\n",
              "Occupation                  0\n",
              "Gender                      0\n",
              "NumberOfPersonVisiting      0\n",
              "NumberOfFollowups           0\n",
              "ProductPitched              0\n",
              "PreferredPropertyStar       0\n",
              "MaritalStatus               0\n",
              "NumberOfTrips               0\n",
              "Passport                    0\n",
              "PitchSatisfactionScore      0\n",
              "OwnCar                      0\n",
              "NumberOfChildrenVisiting    0\n",
              "Designation                 0\n",
              "MonthlyIncome               0\n",
              "dtype: int64"
            ]
          },
          "metadata": {},
          "execution_count": 75
        }
      ],
      "source": [
        "# checking of there are any duplicates in the dataset\n",
        "data[data.duplicated()].count()"
      ]
    },
    {
      "cell_type": "markdown",
      "metadata": {
        "id": "K4qtRrKuDyCT"
      },
      "source": [
        "- There are no duplicate values in the data."
      ]
    },
    {
      "cell_type": "code",
      "execution_count": 76,
      "metadata": {
        "colab": {
          "base_uri": "https://localhost:8080/"
        },
        "id": "X01ndt-vQOtT",
        "outputId": "b94366a2-fff6-4960-897a-a7221979f63e"
      },
      "outputs": [
        {
          "output_type": "execute_result",
          "data": {
            "text/plain": [
              "0    3968\n",
              "1     920\n",
              "Name: ProdTaken, dtype: int64"
            ]
          },
          "metadata": {},
          "execution_count": 76
        }
      ],
      "source": [
        "# variable of interest\n",
        "data['ProdTaken'].value_counts()"
      ]
    },
    {
      "cell_type": "markdown",
      "source": [
        "Among the clients reached by the company, only 920 responded while 3968 did not respond"
      ],
      "metadata": {
        "id": "4xaVlnblOCvv"
      }
    },
    {
      "cell_type": "code",
      "execution_count": 77,
      "metadata": {
        "colab": {
          "base_uri": "https://localhost:8080/"
        },
        "id": "uv_-CH_JxLPx",
        "outputId": "e57a8dfa-e660-47f4-e741-1f29c3db7912"
      },
      "outputs": [
        {
          "output_type": "stream",
          "name": "stdout",
          "text": [
            "<class 'pandas.core.frame.DataFrame'>\n",
            "RangeIndex: 4888 entries, 0 to 4887\n",
            "Data columns (total 20 columns):\n",
            " #   Column                    Non-Null Count  Dtype  \n",
            "---  ------                    --------------  -----  \n",
            " 0   CustomerID                4888 non-null   int64  \n",
            " 1   ProdTaken                 4888 non-null   int64  \n",
            " 2   Age                       4662 non-null   float64\n",
            " 3   TypeofContact             4863 non-null   object \n",
            " 4   CityTier                  4888 non-null   int64  \n",
            " 5   DurationOfPitch           4637 non-null   float64\n",
            " 6   Occupation                4888 non-null   object \n",
            " 7   Gender                    4888 non-null   object \n",
            " 8   NumberOfPersonVisiting    4888 non-null   int64  \n",
            " 9   NumberOfFollowups         4843 non-null   float64\n",
            " 10  ProductPitched            4888 non-null   object \n",
            " 11  PreferredPropertyStar     4862 non-null   float64\n",
            " 12  MaritalStatus             4888 non-null   object \n",
            " 13  NumberOfTrips             4748 non-null   float64\n",
            " 14  Passport                  4888 non-null   int64  \n",
            " 15  PitchSatisfactionScore    4888 non-null   int64  \n",
            " 16  OwnCar                    4888 non-null   int64  \n",
            " 17  NumberOfChildrenVisiting  4822 non-null   float64\n",
            " 18  Designation               4888 non-null   object \n",
            " 19  MonthlyIncome             4655 non-null   float64\n",
            "dtypes: float64(7), int64(7), object(6)\n",
            "memory usage: 763.9+ KB\n"
          ]
        }
      ],
      "source": [
        "data.info()  # many columns are of type object i.e. strings. These need to be converted to ordinal type"
      ]
    },
    {
      "cell_type": "markdown",
      "metadata": {
        "id": "kkceeszl9WJj"
      },
      "source": [
        "* Dependent variable is the ProdTaken, which if of *int* type.\n",
        "* *TypeofContact*, *Occupation*, *Gender*, *ProductPitched*, *MaritalStatus* and *Designation*are of *object* type.\n",
        "* *CustomerID*, *ProdTaken*, *CustomerID*, *NumberOfPersonVisiting*, *Passport*, *PitchSatisfactionScore*, *OwnCar*, column is of *int* type.\n",
        "* All other columns are float in nature."
      ]
    },
    {
      "cell_type": "code",
      "source": [
        "data.drop([\"CustomerID\"], axis=1, inplace=True)"
      ],
      "metadata": {
        "id": "DlynxlE1ShrE"
      },
      "execution_count": 78,
      "outputs": []
    },
    {
      "cell_type": "code",
      "execution_count": 79,
      "metadata": {
        "colab": {
          "base_uri": "https://localhost:8080/"
        },
        "id": "5q1P-hIGqwPg",
        "outputId": "382d6895-ebad-42f9-d0fa-3dbf4271e6b0"
      },
      "outputs": [
        {
          "output_type": "execute_result",
          "data": {
            "text/plain": [
              "ProdTaken                     0\n",
              "Age                         226\n",
              "TypeofContact                25\n",
              "CityTier                      0\n",
              "DurationOfPitch             251\n",
              "Occupation                    0\n",
              "Gender                        0\n",
              "NumberOfPersonVisiting        0\n",
              "NumberOfFollowups            45\n",
              "ProductPitched                0\n",
              "PreferredPropertyStar        26\n",
              "MaritalStatus                 0\n",
              "NumberOfTrips               140\n",
              "Passport                      0\n",
              "PitchSatisfactionScore        0\n",
              "OwnCar                        0\n",
              "NumberOfChildrenVisiting     66\n",
              "Designation                   0\n",
              "MonthlyIncome               233\n",
              "dtype: int64"
            ]
          },
          "metadata": {},
          "execution_count": 79
        }
      ],
      "source": [
        "data.isnull().sum()"
      ]
    },
    {
      "cell_type": "markdown",
      "metadata": {
        "id": "UmNZ1bLKDyCV"
      },
      "source": [
        "* Age, TypeofContact,DurationofPitch,Numberoffollowups,Preferredpropertystar,NumerofTrips,Numberofchildrenvisiting and MonthlyIncome columns have missing values"
      ]
    },
    {
      "cell_type": "code",
      "execution_count": 80,
      "metadata": {
        "colab": {
          "base_uri": "https://localhost:8080/",
          "height": 457
        },
        "id": "32heA0VFxLPt",
        "outputId": "6d076047-cd24-4155-d567-b2766837dca6"
      },
      "outputs": [
        {
          "output_type": "execute_result",
          "data": {
            "text/plain": [
              "                           count          mean          std     min      25%  \\\n",
              "ProdTaken                 4888.0      0.188216     0.390925     0.0      0.0   \n",
              "Age                       4662.0     37.622265     9.316387    18.0     31.0   \n",
              "CityTier                  4888.0      1.654255     0.916583     1.0      1.0   \n",
              "DurationOfPitch           4637.0     15.490835     8.519643     5.0      9.0   \n",
              "NumberOfPersonVisiting    4888.0      2.905074     0.724891     1.0      2.0   \n",
              "NumberOfFollowups         4843.0      3.708445     1.002509     1.0      3.0   \n",
              "PreferredPropertyStar     4862.0      3.581037     0.798009     3.0      3.0   \n",
              "NumberOfTrips             4748.0      3.236521     1.849019     1.0      2.0   \n",
              "Passport                  4888.0      0.290917     0.454232     0.0      0.0   \n",
              "PitchSatisfactionScore    4888.0      3.078151     1.365792     1.0      2.0   \n",
              "OwnCar                    4888.0      0.620295     0.485363     0.0      0.0   \n",
              "NumberOfChildrenVisiting  4822.0      1.187267     0.857861     0.0      1.0   \n",
              "MonthlyIncome             4655.0  23619.853491  5380.698361  1000.0  20346.0   \n",
              "\n",
              "                              50%      75%      max  \n",
              "ProdTaken                     0.0      0.0      1.0  \n",
              "Age                          36.0     44.0     61.0  \n",
              "CityTier                      1.0      3.0      3.0  \n",
              "DurationOfPitch              13.0     20.0    127.0  \n",
              "NumberOfPersonVisiting        3.0      3.0      5.0  \n",
              "NumberOfFollowups             4.0      4.0      6.0  \n",
              "PreferredPropertyStar         3.0      4.0      5.0  \n",
              "NumberOfTrips                 3.0      4.0     22.0  \n",
              "Passport                      0.0      1.0      1.0  \n",
              "PitchSatisfactionScore        3.0      4.0      5.0  \n",
              "OwnCar                        1.0      1.0      1.0  \n",
              "NumberOfChildrenVisiting      1.0      2.0      3.0  \n",
              "MonthlyIncome             22347.0  25571.0  98678.0  "
            ],
            "text/html": [
              "\n",
              "  <div id=\"df-e8088b76-c643-4ad2-8b11-fa33098c9e04\">\n",
              "    <div class=\"colab-df-container\">\n",
              "      <div>\n",
              "<style scoped>\n",
              "    .dataframe tbody tr th:only-of-type {\n",
              "        vertical-align: middle;\n",
              "    }\n",
              "\n",
              "    .dataframe tbody tr th {\n",
              "        vertical-align: top;\n",
              "    }\n",
              "\n",
              "    .dataframe thead th {\n",
              "        text-align: right;\n",
              "    }\n",
              "</style>\n",
              "<table border=\"1\" class=\"dataframe\">\n",
              "  <thead>\n",
              "    <tr style=\"text-align: right;\">\n",
              "      <th></th>\n",
              "      <th>count</th>\n",
              "      <th>mean</th>\n",
              "      <th>std</th>\n",
              "      <th>min</th>\n",
              "      <th>25%</th>\n",
              "      <th>50%</th>\n",
              "      <th>75%</th>\n",
              "      <th>max</th>\n",
              "    </tr>\n",
              "  </thead>\n",
              "  <tbody>\n",
              "    <tr>\n",
              "      <th>ProdTaken</th>\n",
              "      <td>4888.0</td>\n",
              "      <td>0.188216</td>\n",
              "      <td>0.390925</td>\n",
              "      <td>0.0</td>\n",
              "      <td>0.0</td>\n",
              "      <td>0.0</td>\n",
              "      <td>0.0</td>\n",
              "      <td>1.0</td>\n",
              "    </tr>\n",
              "    <tr>\n",
              "      <th>Age</th>\n",
              "      <td>4662.0</td>\n",
              "      <td>37.622265</td>\n",
              "      <td>9.316387</td>\n",
              "      <td>18.0</td>\n",
              "      <td>31.0</td>\n",
              "      <td>36.0</td>\n",
              "      <td>44.0</td>\n",
              "      <td>61.0</td>\n",
              "    </tr>\n",
              "    <tr>\n",
              "      <th>CityTier</th>\n",
              "      <td>4888.0</td>\n",
              "      <td>1.654255</td>\n",
              "      <td>0.916583</td>\n",
              "      <td>1.0</td>\n",
              "      <td>1.0</td>\n",
              "      <td>1.0</td>\n",
              "      <td>3.0</td>\n",
              "      <td>3.0</td>\n",
              "    </tr>\n",
              "    <tr>\n",
              "      <th>DurationOfPitch</th>\n",
              "      <td>4637.0</td>\n",
              "      <td>15.490835</td>\n",
              "      <td>8.519643</td>\n",
              "      <td>5.0</td>\n",
              "      <td>9.0</td>\n",
              "      <td>13.0</td>\n",
              "      <td>20.0</td>\n",
              "      <td>127.0</td>\n",
              "    </tr>\n",
              "    <tr>\n",
              "      <th>NumberOfPersonVisiting</th>\n",
              "      <td>4888.0</td>\n",
              "      <td>2.905074</td>\n",
              "      <td>0.724891</td>\n",
              "      <td>1.0</td>\n",
              "      <td>2.0</td>\n",
              "      <td>3.0</td>\n",
              "      <td>3.0</td>\n",
              "      <td>5.0</td>\n",
              "    </tr>\n",
              "    <tr>\n",
              "      <th>NumberOfFollowups</th>\n",
              "      <td>4843.0</td>\n",
              "      <td>3.708445</td>\n",
              "      <td>1.002509</td>\n",
              "      <td>1.0</td>\n",
              "      <td>3.0</td>\n",
              "      <td>4.0</td>\n",
              "      <td>4.0</td>\n",
              "      <td>6.0</td>\n",
              "    </tr>\n",
              "    <tr>\n",
              "      <th>PreferredPropertyStar</th>\n",
              "      <td>4862.0</td>\n",
              "      <td>3.581037</td>\n",
              "      <td>0.798009</td>\n",
              "      <td>3.0</td>\n",
              "      <td>3.0</td>\n",
              "      <td>3.0</td>\n",
              "      <td>4.0</td>\n",
              "      <td>5.0</td>\n",
              "    </tr>\n",
              "    <tr>\n",
              "      <th>NumberOfTrips</th>\n",
              "      <td>4748.0</td>\n",
              "      <td>3.236521</td>\n",
              "      <td>1.849019</td>\n",
              "      <td>1.0</td>\n",
              "      <td>2.0</td>\n",
              "      <td>3.0</td>\n",
              "      <td>4.0</td>\n",
              "      <td>22.0</td>\n",
              "    </tr>\n",
              "    <tr>\n",
              "      <th>Passport</th>\n",
              "      <td>4888.0</td>\n",
              "      <td>0.290917</td>\n",
              "      <td>0.454232</td>\n",
              "      <td>0.0</td>\n",
              "      <td>0.0</td>\n",
              "      <td>0.0</td>\n",
              "      <td>1.0</td>\n",
              "      <td>1.0</td>\n",
              "    </tr>\n",
              "    <tr>\n",
              "      <th>PitchSatisfactionScore</th>\n",
              "      <td>4888.0</td>\n",
              "      <td>3.078151</td>\n",
              "      <td>1.365792</td>\n",
              "      <td>1.0</td>\n",
              "      <td>2.0</td>\n",
              "      <td>3.0</td>\n",
              "      <td>4.0</td>\n",
              "      <td>5.0</td>\n",
              "    </tr>\n",
              "    <tr>\n",
              "      <th>OwnCar</th>\n",
              "      <td>4888.0</td>\n",
              "      <td>0.620295</td>\n",
              "      <td>0.485363</td>\n",
              "      <td>0.0</td>\n",
              "      <td>0.0</td>\n",
              "      <td>1.0</td>\n",
              "      <td>1.0</td>\n",
              "      <td>1.0</td>\n",
              "    </tr>\n",
              "    <tr>\n",
              "      <th>NumberOfChildrenVisiting</th>\n",
              "      <td>4822.0</td>\n",
              "      <td>1.187267</td>\n",
              "      <td>0.857861</td>\n",
              "      <td>0.0</td>\n",
              "      <td>1.0</td>\n",
              "      <td>1.0</td>\n",
              "      <td>2.0</td>\n",
              "      <td>3.0</td>\n",
              "    </tr>\n",
              "    <tr>\n",
              "      <th>MonthlyIncome</th>\n",
              "      <td>4655.0</td>\n",
              "      <td>23619.853491</td>\n",
              "      <td>5380.698361</td>\n",
              "      <td>1000.0</td>\n",
              "      <td>20346.0</td>\n",
              "      <td>22347.0</td>\n",
              "      <td>25571.0</td>\n",
              "      <td>98678.0</td>\n",
              "    </tr>\n",
              "  </tbody>\n",
              "</table>\n",
              "</div>\n",
              "      <button class=\"colab-df-convert\" onclick=\"convertToInteractive('df-e8088b76-c643-4ad2-8b11-fa33098c9e04')\"\n",
              "              title=\"Convert this dataframe to an interactive table.\"\n",
              "              style=\"display:none;\">\n",
              "        \n",
              "  <svg xmlns=\"http://www.w3.org/2000/svg\" height=\"24px\"viewBox=\"0 0 24 24\"\n",
              "       width=\"24px\">\n",
              "    <path d=\"M0 0h24v24H0V0z\" fill=\"none\"/>\n",
              "    <path d=\"M18.56 5.44l.94 2.06.94-2.06 2.06-.94-2.06-.94-.94-2.06-.94 2.06-2.06.94zm-11 1L8.5 8.5l.94-2.06 2.06-.94-2.06-.94L8.5 2.5l-.94 2.06-2.06.94zm10 10l.94 2.06.94-2.06 2.06-.94-2.06-.94-.94-2.06-.94 2.06-2.06.94z\"/><path d=\"M17.41 7.96l-1.37-1.37c-.4-.4-.92-.59-1.43-.59-.52 0-1.04.2-1.43.59L10.3 9.45l-7.72 7.72c-.78.78-.78 2.05 0 2.83L4 21.41c.39.39.9.59 1.41.59.51 0 1.02-.2 1.41-.59l7.78-7.78 2.81-2.81c.8-.78.8-2.07 0-2.86zM5.41 20L4 18.59l7.72-7.72 1.47 1.35L5.41 20z\"/>\n",
              "  </svg>\n",
              "      </button>\n",
              "      \n",
              "  <style>\n",
              "    .colab-df-container {\n",
              "      display:flex;\n",
              "      flex-wrap:wrap;\n",
              "      gap: 12px;\n",
              "    }\n",
              "\n",
              "    .colab-df-convert {\n",
              "      background-color: #E8F0FE;\n",
              "      border: none;\n",
              "      border-radius: 50%;\n",
              "      cursor: pointer;\n",
              "      display: none;\n",
              "      fill: #1967D2;\n",
              "      height: 32px;\n",
              "      padding: 0 0 0 0;\n",
              "      width: 32px;\n",
              "    }\n",
              "\n",
              "    .colab-df-convert:hover {\n",
              "      background-color: #E2EBFA;\n",
              "      box-shadow: 0px 1px 2px rgba(60, 64, 67, 0.3), 0px 1px 3px 1px rgba(60, 64, 67, 0.15);\n",
              "      fill: #174EA6;\n",
              "    }\n",
              "\n",
              "    [theme=dark] .colab-df-convert {\n",
              "      background-color: #3B4455;\n",
              "      fill: #D2E3FC;\n",
              "    }\n",
              "\n",
              "    [theme=dark] .colab-df-convert:hover {\n",
              "      background-color: #434B5C;\n",
              "      box-shadow: 0px 1px 3px 1px rgba(0, 0, 0, 0.15);\n",
              "      filter: drop-shadow(0px 1px 2px rgba(0, 0, 0, 0.3));\n",
              "      fill: #FFFFFF;\n",
              "    }\n",
              "  </style>\n",
              "\n",
              "      <script>\n",
              "        const buttonEl =\n",
              "          document.querySelector('#df-e8088b76-c643-4ad2-8b11-fa33098c9e04 button.colab-df-convert');\n",
              "        buttonEl.style.display =\n",
              "          google.colab.kernel.accessAllowed ? 'block' : 'none';\n",
              "\n",
              "        async function convertToInteractive(key) {\n",
              "          const element = document.querySelector('#df-e8088b76-c643-4ad2-8b11-fa33098c9e04');\n",
              "          const dataTable =\n",
              "            await google.colab.kernel.invokeFunction('convertToInteractive',\n",
              "                                                     [key], {});\n",
              "          if (!dataTable) return;\n",
              "\n",
              "          const docLinkHtml = 'Like what you see? Visit the ' +\n",
              "            '<a target=\"_blank\" href=https://colab.research.google.com/notebooks/data_table.ipynb>data table notebook</a>'\n",
              "            + ' to learn more about interactive tables.';\n",
              "          element.innerHTML = '';\n",
              "          dataTable['output_type'] = 'display_data';\n",
              "          await google.colab.output.renderOutput(dataTable, element);\n",
              "          const docLink = document.createElement('div');\n",
              "          docLink.innerHTML = docLinkHtml;\n",
              "          element.appendChild(docLink);\n",
              "        }\n",
              "      </script>\n",
              "    </div>\n",
              "  </div>\n",
              "  "
            ]
          },
          "metadata": {},
          "execution_count": 80
        }
      ],
      "source": [
        "data.describe().T"
      ]
    },
    {
      "cell_type": "markdown",
      "metadata": {
        "id": "oLZYWi9TDyCV"
      },
      "source": [
        "* Youngest Customer was 18yrs old, with 50% of the clientsaging than or equal to 37yrs old \n",
        "\n",
        "* Duration of pitch is skewed to the right, shows there are outliers in the dataset, with 75% of the pitch taking less than 21 minutes. \n",
        "\n",
        "* In regards to the number of trips made, 75% of the customers made less than 5 trips with the maximum number of trips being 20.\n"
      ]
    },
    {
      "cell_type": "code",
      "execution_count": 81,
      "metadata": {
        "colab": {
          "base_uri": "https://localhost:8080/",
          "height": 175
        },
        "id": "A-8kyXPssBUf",
        "outputId": "526c2ecd-0cac-4fb8-b6f2-f89e3acf2e13"
      },
      "outputs": [
        {
          "output_type": "execute_result",
          "data": {
            "text/plain": [
              "       TypeofContact Occupation Gender ProductPitched MaritalStatus  \\\n",
              "count           4863       4888   4888           4888          4888   \n",
              "unique             2          4      3              5             4   \n",
              "top     Self Enquiry   Salaried   Male          Basic       Married   \n",
              "freq            3444       2368   2916           1842          2340   \n",
              "\n",
              "       Designation  \n",
              "count         4888  \n",
              "unique           5  \n",
              "top      Executive  \n",
              "freq          1842  "
            ],
            "text/html": [
              "\n",
              "  <div id=\"df-cbdbd56f-5e4a-435f-9c99-c58da624d785\">\n",
              "    <div class=\"colab-df-container\">\n",
              "      <div>\n",
              "<style scoped>\n",
              "    .dataframe tbody tr th:only-of-type {\n",
              "        vertical-align: middle;\n",
              "    }\n",
              "\n",
              "    .dataframe tbody tr th {\n",
              "        vertical-align: top;\n",
              "    }\n",
              "\n",
              "    .dataframe thead th {\n",
              "        text-align: right;\n",
              "    }\n",
              "</style>\n",
              "<table border=\"1\" class=\"dataframe\">\n",
              "  <thead>\n",
              "    <tr style=\"text-align: right;\">\n",
              "      <th></th>\n",
              "      <th>TypeofContact</th>\n",
              "      <th>Occupation</th>\n",
              "      <th>Gender</th>\n",
              "      <th>ProductPitched</th>\n",
              "      <th>MaritalStatus</th>\n",
              "      <th>Designation</th>\n",
              "    </tr>\n",
              "  </thead>\n",
              "  <tbody>\n",
              "    <tr>\n",
              "      <th>count</th>\n",
              "      <td>4863</td>\n",
              "      <td>4888</td>\n",
              "      <td>4888</td>\n",
              "      <td>4888</td>\n",
              "      <td>4888</td>\n",
              "      <td>4888</td>\n",
              "    </tr>\n",
              "    <tr>\n",
              "      <th>unique</th>\n",
              "      <td>2</td>\n",
              "      <td>4</td>\n",
              "      <td>3</td>\n",
              "      <td>5</td>\n",
              "      <td>4</td>\n",
              "      <td>5</td>\n",
              "    </tr>\n",
              "    <tr>\n",
              "      <th>top</th>\n",
              "      <td>Self Enquiry</td>\n",
              "      <td>Salaried</td>\n",
              "      <td>Male</td>\n",
              "      <td>Basic</td>\n",
              "      <td>Married</td>\n",
              "      <td>Executive</td>\n",
              "    </tr>\n",
              "    <tr>\n",
              "      <th>freq</th>\n",
              "      <td>3444</td>\n",
              "      <td>2368</td>\n",
              "      <td>2916</td>\n",
              "      <td>1842</td>\n",
              "      <td>2340</td>\n",
              "      <td>1842</td>\n",
              "    </tr>\n",
              "  </tbody>\n",
              "</table>\n",
              "</div>\n",
              "      <button class=\"colab-df-convert\" onclick=\"convertToInteractive('df-cbdbd56f-5e4a-435f-9c99-c58da624d785')\"\n",
              "              title=\"Convert this dataframe to an interactive table.\"\n",
              "              style=\"display:none;\">\n",
              "        \n",
              "  <svg xmlns=\"http://www.w3.org/2000/svg\" height=\"24px\"viewBox=\"0 0 24 24\"\n",
              "       width=\"24px\">\n",
              "    <path d=\"M0 0h24v24H0V0z\" fill=\"none\"/>\n",
              "    <path d=\"M18.56 5.44l.94 2.06.94-2.06 2.06-.94-2.06-.94-.94-2.06-.94 2.06-2.06.94zm-11 1L8.5 8.5l.94-2.06 2.06-.94-2.06-.94L8.5 2.5l-.94 2.06-2.06.94zm10 10l.94 2.06.94-2.06 2.06-.94-2.06-.94-.94-2.06-.94 2.06-2.06.94z\"/><path d=\"M17.41 7.96l-1.37-1.37c-.4-.4-.92-.59-1.43-.59-.52 0-1.04.2-1.43.59L10.3 9.45l-7.72 7.72c-.78.78-.78 2.05 0 2.83L4 21.41c.39.39.9.59 1.41.59.51 0 1.02-.2 1.41-.59l7.78-7.78 2.81-2.81c.8-.78.8-2.07 0-2.86zM5.41 20L4 18.59l7.72-7.72 1.47 1.35L5.41 20z\"/>\n",
              "  </svg>\n",
              "      </button>\n",
              "      \n",
              "  <style>\n",
              "    .colab-df-container {\n",
              "      display:flex;\n",
              "      flex-wrap:wrap;\n",
              "      gap: 12px;\n",
              "    }\n",
              "\n",
              "    .colab-df-convert {\n",
              "      background-color: #E8F0FE;\n",
              "      border: none;\n",
              "      border-radius: 50%;\n",
              "      cursor: pointer;\n",
              "      display: none;\n",
              "      fill: #1967D2;\n",
              "      height: 32px;\n",
              "      padding: 0 0 0 0;\n",
              "      width: 32px;\n",
              "    }\n",
              "\n",
              "    .colab-df-convert:hover {\n",
              "      background-color: #E2EBFA;\n",
              "      box-shadow: 0px 1px 2px rgba(60, 64, 67, 0.3), 0px 1px 3px 1px rgba(60, 64, 67, 0.15);\n",
              "      fill: #174EA6;\n",
              "    }\n",
              "\n",
              "    [theme=dark] .colab-df-convert {\n",
              "      background-color: #3B4455;\n",
              "      fill: #D2E3FC;\n",
              "    }\n",
              "\n",
              "    [theme=dark] .colab-df-convert:hover {\n",
              "      background-color: #434B5C;\n",
              "      box-shadow: 0px 1px 3px 1px rgba(0, 0, 0, 0.15);\n",
              "      filter: drop-shadow(0px 1px 2px rgba(0, 0, 0, 0.3));\n",
              "      fill: #FFFFFF;\n",
              "    }\n",
              "  </style>\n",
              "\n",
              "      <script>\n",
              "        const buttonEl =\n",
              "          document.querySelector('#df-cbdbd56f-5e4a-435f-9c99-c58da624d785 button.colab-df-convert');\n",
              "        buttonEl.style.display =\n",
              "          google.colab.kernel.accessAllowed ? 'block' : 'none';\n",
              "\n",
              "        async function convertToInteractive(key) {\n",
              "          const element = document.querySelector('#df-cbdbd56f-5e4a-435f-9c99-c58da624d785');\n",
              "          const dataTable =\n",
              "            await google.colab.kernel.invokeFunction('convertToInteractive',\n",
              "                                                     [key], {});\n",
              "          if (!dataTable) return;\n",
              "\n",
              "          const docLinkHtml = 'Like what you see? Visit the ' +\n",
              "            '<a target=\"_blank\" href=https://colab.research.google.com/notebooks/data_table.ipynb>data table notebook</a>'\n",
              "            + ' to learn more about interactive tables.';\n",
              "          element.innerHTML = '';\n",
              "          dataTable['output_type'] = 'display_data';\n",
              "          await google.colab.output.renderOutput(dataTable, element);\n",
              "          const docLink = document.createElement('div');\n",
              "          docLink.innerHTML = docLinkHtml;\n",
              "          element.appendChild(docLink);\n",
              "        }\n",
              "      </script>\n",
              "    </div>\n",
              "  </div>\n",
              "  "
            ]
          },
          "metadata": {},
          "execution_count": 81
        }
      ],
      "source": [
        "data.describe(include=[\"object\", \"bool\"])"
      ]
    },
    {
      "cell_type": "markdown",
      "metadata": {
        "id": "hVDy-BlVxLPz"
      },
      "source": [
        "Lets convert the columns with an 'object' datatype into categorical variables"
      ]
    },
    {
      "cell_type": "code",
      "execution_count": 82,
      "metadata": {
        "colab": {
          "base_uri": "https://localhost:8080/"
        },
        "id": "uTDZaON4sJwG",
        "outputId": "5a67c9ed-9a8d-42a7-8134-dbfd1241e2fe"
      },
      "outputs": [
        {
          "output_type": "stream",
          "name": "stdout",
          "text": [
            "Self Enquiry       3444\n",
            "Company Invited    1419\n",
            "Name: TypeofContact, dtype: int64\n",
            "**************************************************\n",
            "Salaried          2368\n",
            "Small Business    2084\n",
            "Large Business     434\n",
            "Free Lancer          2\n",
            "Name: Occupation, dtype: int64\n",
            "**************************************************\n",
            "Male       2916\n",
            "Female     1817\n",
            "Fe Male     155\n",
            "Name: Gender, dtype: int64\n",
            "**************************************************\n",
            "Basic           1842\n",
            "Deluxe          1732\n",
            "Standard         742\n",
            "Super Deluxe     342\n",
            "King             230\n",
            "Name: ProductPitched, dtype: int64\n",
            "**************************************************\n",
            "Married      2340\n",
            "Divorced      950\n",
            "Single        916\n",
            "Unmarried     682\n",
            "Name: MaritalStatus, dtype: int64\n",
            "**************************************************\n",
            "Executive         1842\n",
            "Manager           1732\n",
            "Senior Manager     742\n",
            "AVP                342\n",
            "VP                 230\n",
            "Name: Designation, dtype: int64\n",
            "**************************************************\n"
          ]
        }
      ],
      "source": [
        "cat_columns = [\"TypeofContact\", \"Occupation\", \"Gender\", \"ProductPitched\", \"MaritalStatus\", \"Designation\" ]\n",
        "for i in cat_columns: \n",
        "    print(data[i].value_counts())\n",
        "    print(\"*\" * 50)"
      ]
    },
    {
      "cell_type": "markdown",
      "source": [
        "The Gender variable has three values; Male, Female and Fe Male. This is a data entry error and we will corrct it"
      ],
      "metadata": {
        "id": "dHDtg8BBZ1zn"
      }
    },
    {
      "cell_type": "markdown",
      "metadata": {
        "id": "d5Migs3DyjFF"
      },
      "source": [
        "**Gender - Replacing Fe Male to Female**"
      ]
    },
    {
      "cell_type": "code",
      "execution_count": 83,
      "metadata": {
        "id": "Md_SW6yyVxdr"
      },
      "outputs": [],
      "source": [
        "data['Gender'] = data['Gender'].str.replace('Fe Male','Female')"
      ]
    },
    {
      "cell_type": "code",
      "execution_count": 84,
      "metadata": {
        "colab": {
          "base_uri": "https://localhost:8080/"
        },
        "id": "Pev0IHNhU90k",
        "outputId": "40e9be52-0eec-4223-df87-7fd82f37cf56"
      },
      "outputs": [
        {
          "output_type": "stream",
          "name": "stdout",
          "text": [
            "Self Enquiry       3444\n",
            "Company Invited    1419\n",
            "Name: TypeofContact, dtype: int64\n",
            "**************************************************\n",
            "Salaried          2368\n",
            "Small Business    2084\n",
            "Large Business     434\n",
            "Free Lancer          2\n",
            "Name: Occupation, dtype: int64\n",
            "**************************************************\n",
            "Male      2916\n",
            "Female    1972\n",
            "Name: Gender, dtype: int64\n",
            "**************************************************\n",
            "Basic           1842\n",
            "Deluxe          1732\n",
            "Standard         742\n",
            "Super Deluxe     342\n",
            "King             230\n",
            "Name: ProductPitched, dtype: int64\n",
            "**************************************************\n",
            "Married      2340\n",
            "Divorced      950\n",
            "Single        916\n",
            "Unmarried     682\n",
            "Name: MaritalStatus, dtype: int64\n",
            "**************************************************\n",
            "Executive         1842\n",
            "Manager           1732\n",
            "Senior Manager     742\n",
            "AVP                342\n",
            "VP                 230\n",
            "Name: Designation, dtype: int64\n",
            "**************************************************\n"
          ]
        }
      ],
      "source": [
        "cat_columns = [\"TypeofContact\", \"Occupation\", \"Gender\", \"ProductPitched\", \"MaritalStatus\", \"Designation\" ]\n",
        "for i in cat_columns:\n",
        "    print(data[i].value_counts())\n",
        "    print(\"*\" * 50)"
      ]
    },
    {
      "cell_type": "markdown",
      "source": [
        "The Gender variable now has two genders; Female and Male"
      ],
      "metadata": {
        "id": "ubgm-LSRZsJp"
      }
    },
    {
      "cell_type": "markdown",
      "metadata": {
        "id": "1XNFjnn0rvnM"
      },
      "source": [
        "# **EDA**"
      ]
    },
    {
      "cell_type": "markdown",
      "metadata": {
        "id": "7Rwx-1ZuhU3D"
      },
      "source": [
        "## Univariate analysis"
      ]
    },
    {
      "cell_type": "code",
      "execution_count": 85,
      "metadata": {
        "id": "6rb1mCroyS8r"
      },
      "outputs": [],
      "source": [
        "def histogram_boxplot(data, feature, figsize=(15, 10), kde=False, bins=None):\n",
        "    \"\"\"\n",
        "    Boxplot and histogram combined\n",
        "\n",
        "    data: dataframe\n",
        "    feature: dataframe column\n",
        "    figsize: size of figure (default (15,10))\n",
        "    kde: whether to show the density curve (default False)\n",
        "    bins: number of bins for histogram (default None)\n",
        "    \"\"\"\n",
        "    f2, (ax_box2, ax_hist2) = plt.subplots(\n",
        "        nrows=2,  # Number of rows of the subplot grid= 2\n",
        "        sharex=True,  # x-axis will be shared among all subplots\n",
        "        gridspec_kw={\"height_ratios\": (0.25, 0.75)},\n",
        "        figsize=figsize,\n",
        "    )  # creating the 2 subplots\n",
        "    sns.boxplot(\n",
        "        data=data, x=feature, ax=ax_box2, showmeans=True, color=\"violet\"\n",
        "    )  # boxplot will be created and a star will indicate the mean value of the column\n",
        "    sns.histplot(\n",
        "        data=data, x=feature, kde=kde, ax=ax_hist2, bins=bins, palette=\"winter\"\n",
        "    ) if bins else sns.histplot(\n",
        "        data=data, x=feature, kde=kde, ax=ax_hist2\n",
        "    )  # For histogram\n",
        "    ax_hist2.axvline(\n",
        "        data[feature].mean(), color=\"green\", linestyle=\"--\"\n",
        "    )  # Add mean to the histogram\n",
        "    ax_hist2.axvline(\n",
        "        data[feature].median(), color=\"black\", linestyle=\"-\"\n",
        "    )  # Add median to the histogram"
      ]
    },
    {
      "cell_type": "code",
      "execution_count": 86,
      "metadata": {
        "id": "NI2xLBxRDyCd"
      },
      "outputs": [],
      "source": [
        "# function to create labeled barplots\n",
        "\n",
        "\n",
        "def labeled_barplot(data, feature, perc=False, n=None):\n",
        "    \"\"\"\n",
        "    Barplot with percentage at the top\n",
        "\n",
        "    data: dataframe\n",
        "    feature: dataframe column\n",
        "    perc: whether to display percentages instead of count (default is False)\n",
        "    n: displays the top n category levels (default is None, i.e., display all levels)\n",
        "    \"\"\"\n",
        "\n",
        "    total = len(data[feature])  # length of the column\n",
        "    count = data[feature].nunique()\n",
        "    if n is None:\n",
        "        plt.figure(figsize=(count + 1, 5))\n",
        "    else:\n",
        "        plt.figure(figsize=(n + 1, 5))\n",
        "\n",
        "    plt.xticks(rotation=90, fontsize=15)\n",
        "    ax = sns.countplot(\n",
        "        data=data,\n",
        "        x=feature,\n",
        "        palette=\"Paired\",\n",
        "        order=data[feature].value_counts().index[:n].sort_values(),\n",
        "    )\n",
        "\n",
        "    for p in ax.patches:\n",
        "        if perc == True:\n",
        "            label = \"{:.1f}%\".format(\n",
        "                100 * p.get_height() / total\n",
        "            )  # percentage of each class of the category\n",
        "        else:\n",
        "            label = p.get_height()  # count of each level of the category\n",
        "\n",
        "        x = p.get_x() + p.get_width() / 2  # width of the plot\n",
        "        y = p.get_height()  # height of the plot\n",
        "\n",
        "        ax.annotate(\n",
        "            label,\n",
        "            (x, y),\n",
        "            ha=\"center\",\n",
        "            va=\"center\",\n",
        "            size=12,\n",
        "            xytext=(0, 5),\n",
        "            textcoords=\"offset points\",\n",
        "        )  # annotate the percentage\n",
        "\n",
        "    plt.show()  # show the plot"
      ]
    },
    {
      "cell_type": "markdown",
      "metadata": {
        "id": "TWE46fTmyS83"
      },
      "source": [
        "### Observations on OwnCar"
      ]
    },
    {
      "cell_type": "code",
      "execution_count": 87,
      "metadata": {
        "colab": {
          "base_uri": "https://localhost:8080/",
          "height": 333
        },
        "id": "lQuiiAiPyS83",
        "outputId": "7eeaaff7-f039-4c40-e231-965ec242fd6a"
      },
      "outputs": [
        {
          "output_type": "display_data",
          "data": {
            "text/plain": [
              "<Figure size 432x360 with 1 Axes>"
            ],
            "image/png": "[encoded data removed]"
          },
          "metadata": {
            "needs_background": "light"
          }
        }
      ],
      "source": [
        "# limiting to only top 5 ocuurences\n",
        "labeled_barplot(data, \"OwnCar\", perc=True, n=5)"
      ]
    },
    {
      "cell_type": "markdown",
      "metadata": {
        "id": "qOocE0yiyS84"
      },
      "source": [
        "* 62% of the customers own cars."
      ]
    },
    {
      "cell_type": "markdown",
      "metadata": {
        "id": "2roV9eU4gLFP"
      },
      "source": [
        "### Observations on TypeofContact"
      ]
    },
    {
      "cell_type": "code",
      "execution_count": 88,
      "metadata": {
        "colab": {
          "base_uri": "https://localhost:8080/",
          "height": 452
        },
        "id": "4UXu9LPQgLrN",
        "outputId": "3f96894b-238c-447e-c6fd-dedf078d3e77"
      },
      "outputs": [
        {
          "output_type": "display_data",
          "data": {
            "text/plain": [
              "<Figure size 432x360 with 1 Axes>"
            ],
            "image/png": "[encoded data removed]"
          },
          "metadata": {
            "needs_background": "light"
          }
        }
      ],
      "source": [
        "# limiting to only top 5 ocuurences\n",
        "labeled_barplot(data, \"TypeofContact\", perc=True, n=5)"
      ]
    },
    {
      "cell_type": "markdown",
      "metadata": {
        "id": "FELG_z-baL0u"
      },
      "source": [
        "* 70% of the customers made inquiries on their own"
      ]
    },
    {
      "cell_type": "markdown",
      "metadata": {
        "id": "kTQH4BwXgazB"
      },
      "source": [
        "### Observations on CityTier"
      ]
    },
    {
      "cell_type": "code",
      "execution_count": 89,
      "metadata": {
        "colab": {
          "base_uri": "https://localhost:8080/",
          "height": 333
        },
        "id": "Lb6Ojrjkg2Ul",
        "outputId": "2f73e96e-bf18-461e-fee5-277f3502dd90"
      },
      "outputs": [
        {
          "output_type": "display_data",
          "data": {
            "text/plain": [
              "<Figure size 432x360 with 1 Axes>"
            ],
            "image/png": "[encoded data removed]"
          },
          "metadata": {
            "needs_background": "light"
          }
        }
      ],
      "source": [
        "# limiting to only top 5 ocuurences\n",
        "labeled_barplot(data, \"CityTier\", perc=True, n=5)"
      ]
    },
    {
      "cell_type": "markdown",
      "metadata": {
        "id": "x7Lxl7imaZUJ"
      },
      "source": [
        "* 65% of the customers come from Tier 1 Cities with the least (4%) coming from Tier 2"
      ]
    },
    {
      "cell_type": "markdown",
      "metadata": {
        "id": "RmgVcJIqg2-e"
      },
      "source": [
        "### Observations on Duration of Pitch"
      ]
    },
    {
      "cell_type": "code",
      "execution_count": 90,
      "metadata": {
        "colab": {
          "base_uri": "https://localhost:8080/",
          "height": 357
        },
        "id": "kJ7GAhLeg2-f",
        "outputId": "322ff353-cfa7-46f4-b3b5-00921453b004"
      },
      "outputs": [
        {
          "output_type": "display_data",
          "data": {
            "text/plain": [
              "<Figure size 432x360 with 1 Axes>"
            ],
            "image/png": "[encoded data removed]"
          },
          "metadata": {
            "needs_background": "light"
          }
        }
      ],
      "source": [
        "# limiting to only top 5 ocuurences\n",
        "labeled_barplot(data, \"DurationOfPitch\", perc=True, n=5)"
      ]
    },
    {
      "cell_type": "markdown",
      "metadata": {
        "id": "NVnAVbqqavIY"
      },
      "source": [
        "* Among the clients who received a pitch, approximately 10% took 9 minutes and the least 5.6% Taking 16 minutes "
      ]
    },
    {
      "cell_type": "markdown",
      "metadata": {
        "id": "GlF9LQZahpwB"
      },
      "source": [
        "### Observations on Occupation"
      ]
    },
    {
      "cell_type": "code",
      "execution_count": 91,
      "metadata": {
        "colab": {
          "base_uri": "https://localhost:8080/",
          "height": 438
        },
        "id": "symKFoJRhpwC",
        "outputId": "66fa400a-e3c2-473e-8321-0a1d4a4ef2bd"
      },
      "outputs": [
        {
          "output_type": "display_data",
          "data": {
            "text/plain": [
              "<Figure size 432x360 with 1 Axes>"
            ],
            "image/png": "[encoded data removed]"
          },
          "metadata": {
            "needs_background": "light"
          }
        }
      ],
      "source": [
        "# limiting to only top 5 ocuurences\n",
        "labeled_barplot(data, \"Occupation\", perc=True, n=5)"
      ]
    },
    {
      "cell_type": "markdown",
      "metadata": {
        "id": "F8qQQ-gWkWG3"
      },
      "source": [
        "* Majority of the customers are either Salried or in Small Businesses"
      ]
    },
    {
      "cell_type": "markdown",
      "metadata": {
        "id": "orQDdui2kW3M"
      },
      "source": [
        "### Observations on Gender"
      ]
    },
    {
      "cell_type": "code",
      "execution_count": 92,
      "metadata": {
        "colab": {
          "base_uri": "https://localhost:8080/",
          "height": 378
        },
        "id": "fvAKiz4zkW3N",
        "outputId": "47f2e9b1-f07c-4694-d7a2-c44e97f29ba4"
      },
      "outputs": [
        {
          "output_type": "display_data",
          "data": {
            "text/plain": [
              "<Figure size 432x360 with 1 Axes>"
            ],
            "image/png": "[encoded data removed]"
          },
          "metadata": {
            "needs_background": "light"
          }
        }
      ],
      "source": [
        "# limiting to only top 5 ocuurences\n",
        "labeled_barplot(data, \"Gender\", perc=True, n=5)"
      ]
    },
    {
      "cell_type": "markdown",
      "metadata": {
        "id": "L1mSz41KbbkE"
      },
      "source": [
        "* Majority of the customers are Male 59% "
      ]
    },
    {
      "cell_type": "markdown",
      "metadata": {
        "id": "rg0Qlhlxkmr-"
      },
      "source": [
        "### Observations on NumberOfPersonVisiting    "
      ]
    },
    {
      "cell_type": "code",
      "execution_count": 93,
      "metadata": {
        "colab": {
          "base_uri": "https://localhost:8080/",
          "height": 335
        },
        "id": "Ytx8g2Nekmr_",
        "outputId": "0ea5434a-6f00-45d0-873a-c5fe462a46ac"
      },
      "outputs": [
        {
          "output_type": "display_data",
          "data": {
            "text/plain": [
              "<Figure size 432x360 with 1 Axes>"
            ],
            "image/png": "[encoded data removed]"
          },
          "metadata": {
            "needs_background": "light"
          }
        }
      ],
      "source": [
        "# limiting to only top 5 ocuurences\n",
        "labeled_barplot(data, \"NumberOfPersonVisiting\", perc=True, n=5)"
      ]
    },
    {
      "cell_type": "markdown",
      "metadata": {
        "id": "qzyEyKHZbeKL"
      },
      "source": [
        "* Among the customers, 49% planned to visit as 3 persons with the least being those traveling alone or in a company of 5 persons."
      ]
    },
    {
      "cell_type": "markdown",
      "metadata": {
        "id": "FOqHFLsHk7Nn"
      },
      "source": [
        "### Observations on NumberOfFollowups     "
      ]
    },
    {
      "cell_type": "code",
      "execution_count": 94,
      "metadata": {
        "colab": {
          "base_uri": "https://localhost:8080/",
          "height": 348
        },
        "id": "YHgfbwbZk7No",
        "outputId": "759d7ddb-24de-427e-d423-591cd34e4d8a"
      },
      "outputs": [
        {
          "output_type": "display_data",
          "data": {
            "text/plain": [
              "<Figure size 432x360 with 1 Axes>"
            ],
            "image/png": "[encoded data removed]"
          },
          "metadata": {
            "needs_background": "light"
          }
        }
      ],
      "source": [
        "# limiting to only top 5 ocuurences\n",
        "labeled_barplot(data, \"NumberOfFollowups\", perc=True, n=5)"
      ]
    },
    {
      "cell_type": "markdown",
      "metadata": {
        "id": "pW_wiS_wbg-w"
      },
      "source": [
        "* 42% of the customers received 4 follow ups, 30% received 3 follow ups while those that received the highest number of follow-ups being 5, of whom they were 15.7%. "
      ]
    },
    {
      "cell_type": "markdown",
      "metadata": {
        "id": "HbvSpigWlXmM"
      },
      "source": [
        "### Observations on ProductPitched     "
      ]
    },
    {
      "cell_type": "code",
      "execution_count": 95,
      "metadata": {
        "colab": {
          "base_uri": "https://localhost:8080/",
          "height": 425
        },
        "id": "9uBJbbaUlXmN",
        "outputId": "6dd4e452-5913-480b-b746-c3388efc2ef0"
      },
      "outputs": [
        {
          "output_type": "display_data",
          "data": {
            "text/plain": [
              "<Figure size 432x360 with 1 Axes>"
            ],
            "image/png": "[encoded data removed]"
          },
          "metadata": {
            "needs_background": "light"
          }
        }
      ],
      "source": [
        "# limiting to only top 5 ocuurences\n",
        "labeled_barplot(data, \"ProductPitched\", perc=True, n=5)"
      ]
    },
    {
      "cell_type": "markdown",
      "metadata": {
        "id": "VMKBJjCWbjsv"
      },
      "source": [
        "* Among the clients who received a pitch, approximately 10% took 9 minutes and the least 5.6% Taking 16 minutes "
      ]
    },
    {
      "cell_type": "markdown",
      "metadata": {
        "id": "dz_L1L3clksq"
      },
      "source": [
        "### Observations on PreferredPropertyStar     "
      ]
    },
    {
      "cell_type": "code",
      "execution_count": 96,
      "metadata": {
        "colab": {
          "base_uri": "https://localhost:8080/",
          "height": 347
        },
        "id": "dr2p0-Celkss",
        "outputId": "dc8bebf8-8ea1-4eea-e705-b9e2e38d5a3d"
      },
      "outputs": [
        {
          "output_type": "display_data",
          "data": {
            "text/plain": [
              "<Figure size 432x360 with 1 Axes>"
            ],
            "image/png": "[encoded data removed]"
          },
          "metadata": {
            "needs_background": "light"
          }
        }
      ],
      "source": [
        "# limiting to only top 5 ocuurences\n",
        "labeled_barplot(data, \"PreferredPropertyStar\", perc=True, n=5)"
      ]
    },
    {
      "cell_type": "markdown",
      "metadata": {
        "id": "f4sbGPwvbmQ_"
      },
      "source": [
        "* Among the clients who received a pitch, approximately 10% took 9 minutes and the least 5.6% Taking 16 minutes "
      ]
    },
    {
      "cell_type": "markdown",
      "metadata": {
        "id": "wJFFdlWzlvnY"
      },
      "source": [
        "### Observations on MaritalStatus     "
      ]
    },
    {
      "cell_type": "code",
      "execution_count": 97,
      "metadata": {
        "colab": {
          "base_uri": "https://localhost:8080/",
          "height": 403
        },
        "id": "sn66rMB5lvnZ",
        "outputId": "b6f11bb0-8244-4977-8542-79b7fbc738f3"
      },
      "outputs": [
        {
          "output_type": "display_data",
          "data": {
            "text/plain": [
              "<Figure size 432x360 with 1 Axes>"
            ],
            "image/png": "[encoded data removed]"
          },
          "metadata": {
            "needs_background": "light"
          }
        }
      ],
      "source": [
        "# limiting to only top 5 ocuurences\n",
        "labeled_barplot(data, \"MaritalStatus\", perc=True, n=5)"
      ]
    },
    {
      "cell_type": "markdown",
      "metadata": {
        "id": "L8hupoYqboLR"
      },
      "source": [
        "* Among the clients who received a pitch, approximately 10% took 9 minutes and the least 5.6% Taking 16 minutes "
      ]
    },
    {
      "cell_type": "markdown",
      "metadata": {
        "id": "UOdjl9myl69y"
      },
      "source": [
        "### Observations on NumberOfTrips     "
      ]
    },
    {
      "cell_type": "code",
      "execution_count": 98,
      "metadata": {
        "colab": {
          "base_uri": "https://localhost:8080/",
          "height": 348
        },
        "id": "xyzaFtU0l69z",
        "outputId": "40dfdfdc-af73-4caa-ab26-4cea2f337ff2"
      },
      "outputs": [
        {
          "output_type": "display_data",
          "data": {
            "text/plain": [
              "<Figure size 432x360 with 1 Axes>"
            ],
            "image/png": "[encoded data removed]"
          },
          "metadata": {
            "needs_background": "light"
          }
        }
      ],
      "source": [
        "# limiting to only top 5 ocuurences\n",
        "labeled_barplot(data, \"NumberOfTrips\", perc=True, n=5)"
      ]
    },
    {
      "cell_type": "markdown",
      "metadata": {
        "id": "IEAl_V_ZbqGn"
      },
      "source": [
        "* Among the clients who received a pitch, approximately 10% took 9 minutes and the least 5.6% Taking 16 minutes "
      ]
    },
    {
      "cell_type": "markdown",
      "metadata": {
        "id": "G6gVqxptmDXL"
      },
      "source": [
        "### Observations on Passport     "
      ]
    },
    {
      "cell_type": "code",
      "execution_count": 99,
      "metadata": {
        "colab": {
          "base_uri": "https://localhost:8080/",
          "height": 333
        },
        "id": "UcWEDzdtmDXM",
        "outputId": "2a67ea77-8d17-441f-959e-98cace7b3b1d"
      },
      "outputs": [
        {
          "output_type": "display_data",
          "data": {
            "text/plain": [
              "<Figure size 432x360 with 1 Axes>"
            ],
            "image/png": "[encoded data removed]"
          },
          "metadata": {
            "needs_background": "light"
          }
        }
      ],
      "source": [
        "# limiting to only top 5 ocuurences\n",
        "labeled_barplot(data, \"Passport\", perc=True, n=5)"
      ]
    },
    {
      "cell_type": "markdown",
      "metadata": {
        "id": "s_eYUmSxbsD4"
      },
      "source": [
        "* Among the clients who received a pitch, approximately 10% took 9 minutes and the least 5.6% Taking 16 minutes "
      ]
    },
    {
      "cell_type": "markdown",
      "metadata": {
        "id": "6dWahmavmP6h"
      },
      "source": [
        "### Observations on PitchSatisfactionScore     "
      ]
    },
    {
      "cell_type": "code",
      "execution_count": 100,
      "metadata": {
        "colab": {
          "base_uri": "https://localhost:8080/",
          "height": 333
        },
        "id": "m7LDXr42mP6i",
        "outputId": "b8eab959-f24b-4401-f5c0-136c4244bce2"
      },
      "outputs": [
        {
          "output_type": "display_data",
          "data": {
            "text/plain": [
              "<Figure size 432x360 with 1 Axes>"
            ],
            "image/png": "[encoded data removed]"
          },
          "metadata": {
            "needs_background": "light"
          }
        }
      ],
      "source": [
        "# limiting to only top 5 ocuurences\n",
        "labeled_barplot(data, \"PitchSatisfactionScore\", perc=True)"
      ]
    },
    {
      "cell_type": "markdown",
      "metadata": {
        "id": "MMN-jDxnbuIN"
      },
      "source": [
        "* Among the clients who received a pitch, approximately 10% took 9 minutes and the least 5.6% Taking 16 minutes "
      ]
    },
    {
      "cell_type": "markdown",
      "metadata": {
        "id": "Ryu0WGZWmnbJ"
      },
      "source": [
        "### Observations on NumberOfChildrenVisiting     "
      ]
    },
    {
      "cell_type": "code",
      "execution_count": 101,
      "metadata": {
        "colab": {
          "base_uri": "https://localhost:8080/",
          "height": 348
        },
        "id": "wuoPKJ21mnbK",
        "outputId": "ac82e9b2-a340-48c8-d6b1-1c1f676f235f"
      },
      "outputs": [
        {
          "output_type": "display_data",
          "data": {
            "text/plain": [
              "<Figure size 360x360 with 1 Axes>"
            ],
            "image/png": "[encoded data removed]"
          },
          "metadata": {
            "needs_background": "light"
          }
        }
      ],
      "source": [
        "# limiting to only top 5 ocuurences\n",
        "labeled_barplot(data, \"NumberOfChildrenVisiting\", perc=True)"
      ]
    },
    {
      "cell_type": "markdown",
      "metadata": {
        "id": "j4vxDUAZbyI4"
      },
      "source": [
        "* Among the clients who received a pitch, approximately 10% took 9 minutes and the least 5.6% Taking 16 minutes "
      ]
    },
    {
      "cell_type": "markdown",
      "metadata": {
        "id": "ppF363edmwau"
      },
      "source": [
        "### Observations on Designation     "
      ]
    },
    {
      "cell_type": "code",
      "execution_count": 102,
      "metadata": {
        "colab": {
          "base_uri": "https://localhost:8080/",
          "height": 443
        },
        "id": "DfwsidYOmwav",
        "outputId": "cfe27e46-7606-4ca2-fcea-51b0e4462d8b"
      },
      "outputs": [
        {
          "output_type": "display_data",
          "data": {
            "text/plain": [
              "<Figure size 432x360 with 1 Axes>"
            ],
            "image/png": "[encoded data removed]"
          },
          "metadata": {
            "needs_background": "light"
          }
        }
      ],
      "source": [
        "# limiting to only top 5 ocuurences\n",
        "labeled_barplot(data, \"Designation\", perc=True)"
      ]
    },
    {
      "cell_type": "markdown",
      "metadata": {
        "id": "JMfj71nGb0GL"
      },
      "source": [
        "* Among the clients who received a pitch, approximately 10% took 9 minutes and the least 5.6% Taking 16 minutes "
      ]
    },
    {
      "cell_type": "markdown",
      "metadata": {
        "id": "yBu74S1ayS8s"
      },
      "source": [
        "### Observations on Age"
      ]
    },
    {
      "cell_type": "code",
      "execution_count": 103,
      "metadata": {
        "colab": {
          "base_uri": "https://localhost:8080/",
          "height": 606
        },
        "id": "qpriAlSGyS8s",
        "outputId": "de0672bb-77bf-447e-8f40-792b2489c919"
      },
      "outputs": [
        {
          "output_type": "display_data",
          "data": {
            "text/plain": [
              "<Figure size 1080x720 with 2 Axes>"
            ],
            "image/png": "[encoded data removed]"
          },
          "metadata": {
            "needs_background": "light"
          }
        }
      ],
      "source": [
        "histogram_boxplot(data, \"Age\")"
      ]
    },
    {
      "cell_type": "markdown",
      "metadata": {
        "id": "yjrBozPiyS8t"
      },
      "source": [
        "* The distribution of Age is normaly distributed, there are no outliers in this variable"
      ]
    },
    {
      "cell_type": "markdown",
      "metadata": {
        "id": "IYMf0FCHcIPg"
      },
      "source": [
        "### Observations on Monthly Income"
      ]
    },
    {
      "cell_type": "code",
      "execution_count": 104,
      "metadata": {
        "colab": {
          "base_uri": "https://localhost:8080/",
          "height": 606
        },
        "id": "eVhu3gbkcIPg",
        "outputId": "3673b696-3d71-4c6c-ccee-a3b324dac4f1"
      },
      "outputs": [
        {
          "output_type": "display_data",
          "data": {
            "text/plain": [
              "<Figure size 1080x720 with 2 Axes>"
            ],
            "image/png": "[encoded data removed]"
          },
          "metadata": {
            "needs_background": "light"
          }
        }
      ],
      "source": [
        "histogram_boxplot(data, \"MonthlyIncome\")"
      ]
    },
    {
      "cell_type": "markdown",
      "metadata": {
        "id": "uRcjuNSqdUq_"
      },
      "source": [
        "The distribution of Monthly income is slightly rightly skewed, with outliers as shown in the boxplot"
      ]
    },
    {
      "cell_type": "markdown",
      "metadata": {
        "id": "1W5eGiw8TibK"
      },
      "source": [
        "# Bi-variate Analysis"
      ]
    },
    {
      "cell_type": "markdown",
      "metadata": {
        "id": "OiqRh-l6DyCg"
      },
      "source": [
        "**We will not consider the *tag* columns for correlation check as they have only 0 or 1 values.**"
      ]
    },
    {
      "cell_type": "code",
      "execution_count": 105,
      "metadata": {
        "colab": {
          "base_uri": "https://localhost:8080/",
          "height": 553
        },
        "id": "NfLFt3JrDyCg",
        "outputId": "f8754a72-273e-43f4-f6a0-0b5405ffe530"
      },
      "outputs": [
        {
          "output_type": "display_data",
          "data": {
            "text/plain": [
              "<Figure size 1080x504 with 2 Axes>"
            ],
            "image/png": "[encoded data removed]"
          },
          "metadata": {
            "needs_background": "light"
          }
        }
      ],
      "source": [
        "plt.figure(figsize=(15, 7))\n",
        "sns.heatmap(data.corr(), annot=True, vmin=-1, vmax=1, fmt=\".2f\", cmap=\"Spectral\")\n",
        "plt.show()"
      ]
    },
    {
      "cell_type": "markdown",
      "metadata": {
        "id": "6zmtZ70_UvHD"
      },
      "source": [
        ""
      ]
    },
    {
      "cell_type": "markdown",
      "metadata": {
        "id": "UCKMB3GSDyCg"
      },
      "source": [
        "* *Number of persons visiting* and *number of children* columns are highly correlated.\n",
        "* *Age* and *Monthly incomes* columns are slighly correlated."
      ]
    },
    {
      "cell_type": "code",
      "execution_count": null,
      "metadata": {
        "id": "9Nc49BsC1AXf"
      },
      "outputs": [],
      "source": [
        "# function to plot stacked bar chart\n",
        "\n",
        "\n",
        "def stacked_barplot(data, predictor, target):\n",
        "    \"\"\"\n",
        "    Print the category counts and plot a stacked bar chart\n",
        "\n",
        "    data: dataframe\n",
        "    predictor: independent variable\n",
        "    target: target variable\n",
        "    \"\"\"\n",
        "    count = data[predictor].nunique()\n",
        "    sorter = data[target].value_counts().index[-1]\n",
        "    tab1 = pd.crosstab(data[predictor], data[target], margins=True).sort_values(\n",
        "        by=sorter, ascending=False\n",
        "    )\n",
        "    print(tab1)\n",
        "    print(\"-\" * 120)\n",
        "    tab = pd.crosstab(data[predictor], data[target], normalize=\"index\").sort_values(\n",
        "        by=sorter, ascending=False\n",
        "    )\n",
        "    tab.plot(kind=\"bar\", stacked=True, figsize=(count + 5, 6))\n",
        "    plt.legend(\n",
        "        loc=\"lower left\", frameon=False,\n",
        "    )\n",
        "    plt.legend(loc=\"upper left\", bbox_to_anchor=(1, 1))\n",
        "    plt.show()"
      ]
    },
    {
      "cell_type": "code",
      "source": [
        "stacked_barplot(data, \"ProductPitched\", \"ProdTaken\")"
      ],
      "metadata": {
        "colab": {
          "base_uri": "https://localhost:8080/",
          "height": 601
        },
        "id": "sNJ1BFdnne0s",
        "outputId": "6d738b91-0691-4958-804d-23985e4d5004"
      },
      "execution_count": null,
      "outputs": [
        {
          "output_type": "stream",
          "name": "stdout",
          "text": [
            "ProdTaken          0    1   All\n",
            "ProductPitched                 \n",
            "All             3968  920  4888\n",
            "Basic           1290  552  1842\n",
            "Deluxe          1528  204  1732\n",
            "Standard         618  124   742\n",
            "King             210   20   230\n",
            "Super Deluxe     322   20   342\n",
            "------------------------------------------------------------------------------------------------------------------------\n"
          ]
        },
        {
          "output_type": "display_data",
          "data": {
            "text/plain": [
              "<Figure size 720x432 with 1 Axes>"
            ],
            "image/png": "[encoded data removed]"
          },
          "metadata": {
            "needs_background": "light"
          }
        }
      ]
    },
    {
      "cell_type": "markdown",
      "source": [
        "* Most customers that accepted to take the package were those for basic, followed by the those that wanted the standard package. Notably, the Super delax package wasnt picked by majority. "
      ],
      "metadata": {
        "id": "34xRBOOctXvV"
      }
    },
    {
      "cell_type": "code",
      "source": [
        "stacked_barplot(data, \"ProductPitched\", 'Gender')"
      ],
      "metadata": {
        "colab": {
          "base_uri": "https://localhost:8080/",
          "height": 601
        },
        "outputId": "3df8bbad-3ea9-4f6c-fc74-d937d16167be",
        "id": "PyQBOl7bome1"
      },
      "execution_count": null,
      "outputs": [
        {
          "output_type": "stream",
          "name": "stdout",
          "text": [
            "Gender          Female  Male   All\n",
            "ProductPitched                    \n",
            "All               1972  2916  4888\n",
            "Deluxe             724  1008  1732\n",
            "Basic              680  1162  1842\n",
            "Standard           326   416   742\n",
            "Super Deluxe       160   182   342\n",
            "King                82   148   230\n",
            "------------------------------------------------------------------------------------------------------------------------\n"
          ]
        },
        {
          "output_type": "display_data",
          "data": {
            "text/plain": [
              "<Figure size 720x432 with 1 Axes>"
            ],
            "image/png": "[encoded data removed]"
          },
          "metadata": {
            "needs_background": "light"
          }
        }
      ]
    },
    {
      "cell_type": "markdown",
      "source": [
        "* Those using Super Deluxe were approximately half of the Male and half of the Female. \n",
        "* King size package was taken by most Male. Female form majority of the clients that used the different packages.  "
      ],
      "metadata": {
        "id": "I8QS0EZTtzYY"
      }
    },
    {
      "cell_type": "code",
      "source": [
        "stacked_barplot(data, \"ProductPitched\", 'TypeofContact')"
      ],
      "metadata": {
        "colab": {
          "base_uri": "https://localhost:8080/",
          "height": 601
        },
        "id": "HreE1qsOpio7",
        "outputId": "7b57899a-8294-48af-a1af-ce9a3c795c8d"
      },
      "execution_count": null,
      "outputs": [
        {
          "output_type": "stream",
          "name": "stdout",
          "text": [
            "TypeofContact   Company Invited  Self Enquiry   All\n",
            "ProductPitched                                     \n",
            "All                        1419          3444  4863\n",
            "Deluxe                      541          1176  1717\n",
            "Basic                       516          1316  1832\n",
            "Standard                    218           524   742\n",
            "Super Deluxe                 96           246   342\n",
            "King                         48           182   230\n",
            "------------------------------------------------------------------------------------------------------------------------\n"
          ]
        },
        {
          "output_type": "display_data",
          "data": {
            "text/plain": [
              "<Figure size 720x432 with 1 Axes>"
            ],
            "image/png": "[encoded data removed]"
          },
          "metadata": {
            "needs_background": "light"
          }
        }
      ]
    },
    {
      "cell_type": "markdown",
      "source": [
        "* Most of the self inquiry clients chose the King package, while among those that the company invited took the Deluxe package. "
      ],
      "metadata": {
        "id": "jPfaz9FMuQjw"
      }
    },
    {
      "cell_type": "code",
      "source": [
        "stacked_barplot(data, \"ProductPitched\", \"CityTier\")"
      ],
      "metadata": {
        "colab": {
          "base_uri": "https://localhost:8080/",
          "height": 601
        },
        "outputId": "ec2aa3aa-19c3-44c1-f48f-13334df1ac23",
        "id": "gdUIXrvBqETl"
      },
      "execution_count": null,
      "outputs": [
        {
          "output_type": "stream",
          "name": "stdout",
          "text": [
            "CityTier           1    2     3   All\n",
            "ProductPitched                       \n",
            "All             3190  198  1500  4888\n",
            "Basic           1466  108   268  1842\n",
            "Deluxe           908   40   784  1732\n",
            "King             168   22    40   230\n",
            "Standard         436   18   288   742\n",
            "Super Deluxe     212   10   120   342\n",
            "------------------------------------------------------------------------------------------------------------------------\n"
          ]
        },
        {
          "output_type": "display_data",
          "data": {
            "text/plain": [
              "<Figure size 720x432 with 1 Axes>"
            ],
            "image/png": "[encoded data removed]"
          },
          "metadata": {
            "needs_background": "light"
          }
        }
      ]
    },
    {
      "cell_type": "markdown",
      "source": [
        "* Most clients from City Tier 1 took the Basic package, followed by those that chose the King package. Among the Tier 2 city clients, most chose the King package, while the Tier 3 city clients chose the Deluxe package followed closely by thse that chose Standard and Super deluxe"
      ],
      "metadata": {
        "id": "wLNQyoNAuxg5"
      }
    },
    {
      "cell_type": "code",
      "source": [
        "stacked_barplot(data, \"ProductPitched\", \"Occupation\")"
      ],
      "metadata": {
        "colab": {
          "base_uri": "https://localhost:8080/",
          "height": 601
        },
        "outputId": "71c63c78-864f-4f3e-ecf2-cd38b1f11f9f",
        "id": "4ZGDFnBPqMtb"
      },
      "execution_count": null,
      "outputs": [
        {
          "output_type": "stream",
          "name": "stdout",
          "text": [
            "Occupation      Free Lancer  Large Business  Salaried  Small Business   All\n",
            "ProductPitched                                                             \n",
            "Basic                     2             196       924             720  1842\n",
            "All                       2             434      2368            2084  4888\n",
            "Deluxe                    0             124       818             790  1732\n",
            "King                      0              12       114             104   230\n",
            "Standard                  0              84       338             320   742\n",
            "Super Deluxe              0              18       174             150   342\n",
            "------------------------------------------------------------------------------------------------------------------------\n"
          ]
        },
        {
          "output_type": "display_data",
          "data": {
            "text/plain": [
              "<Figure size 720x432 with 1 Axes>"
            ],
            "image/png": "[encoded data removed]"
          },
          "metadata": {
            "needs_background": "light"
          }
        }
      ]
    },
    {
      "cell_type": "markdown",
      "source": [
        "* Overall, the small business clients were averagely distributed with slighly less taking the basic package.\n",
        "* Majority of those that chose basic and Super deluxe packages were the Salaried.\n",
        "* Among the Large business clients, majority chose the standard package followed closely by those that chose basic and deluxe packages. "
      ],
      "metadata": {
        "id": "bp2CYZPDvRX9"
      }
    },
    {
      "cell_type": "markdown",
      "metadata": {
        "id": "53IZ1dkAy4VY"
      },
      "source": [
        "# **Data Pre-Processing**"
      ]
    },
    {
      "cell_type": "markdown",
      "metadata": {
        "id": "7AN1t77Uy-ME"
      },
      "source": [
        "## Dealing with missing values"
      ]
    },
    {
      "cell_type": "code",
      "execution_count": 106,
      "metadata": {
        "colab": {
          "base_uri": "https://localhost:8080/"
        },
        "id": "10xESwoUzBpf",
        "outputId": "b8f54033-4eb0-4df0-c923-12ca7572f6c1"
      },
      "outputs": [
        {
          "output_type": "execute_result",
          "data": {
            "text/plain": [
              "0"
            ]
          },
          "metadata": {},
          "execution_count": 106
        }
      ],
      "source": [
        "# nans are floats so they become strings here\n",
        "# we also need this to be strings because we're adding a category that's not present\n",
        "data['TypeofContact'] = data['TypeofContact'].astype(str).replace('nan', 'is_missing').astype('category')\n",
        "data['TypeofContact'].isnull().sum()"
      ]
    },
    {
      "cell_type": "code",
      "execution_count": 107,
      "metadata": {
        "colab": {
          "base_uri": "https://localhost:8080/"
        },
        "id": "bOXX22ys0S1y",
        "outputId": "a5c9a457-22d8-45be-e7d4-c56abb7a0bb9"
      },
      "outputs": [
        {
          "output_type": "stream",
          "name": "stdout",
          "text": [
            "251\n"
          ]
        },
        {
          "output_type": "execute_result",
          "data": {
            "text/plain": [
              "0"
            ]
          },
          "metadata": {},
          "execution_count": 107
        }
      ],
      "source": [
        "# now using `fillna` with a numeric column\n",
        "print(data['DurationOfPitch'].isnull().sum())\n",
        "data['DurationOfPitch'].fillna(data['DurationOfPitch'].mean(), inplace=True)  # mean imputation\n",
        "data['DurationOfPitch'].isnull().sum()"
      ]
    },
    {
      "cell_type": "code",
      "execution_count": 108,
      "metadata": {
        "colab": {
          "base_uri": "https://localhost:8080/"
        },
        "id": "ZX5OO9CY1Bnx",
        "outputId": "a94471af-0428-4adf-caa3-796e11f08747"
      },
      "outputs": [
        {
          "output_type": "stream",
          "name": "stdout",
          "text": [
            "45\n"
          ]
        },
        {
          "output_type": "execute_result",
          "data": {
            "text/plain": [
              "0"
            ]
          },
          "metadata": {},
          "execution_count": 108
        }
      ],
      "source": [
        "# now using `fillna` with a numeric column\n",
        "print(data['NumberOfFollowups'].isnull().sum())\n",
        "data['NumberOfFollowups'].fillna(data['NumberOfFollowups'].mean(), inplace=True)  # mean imputation\n",
        "data['NumberOfFollowups'].isnull().sum()"
      ]
    },
    {
      "cell_type": "code",
      "execution_count": 109,
      "metadata": {
        "colab": {
          "base_uri": "https://localhost:8080/"
        },
        "id": "hdgEcZuy1Mgi",
        "outputId": "32e0bbf7-64dd-45b6-a497-62a618f0f7cf"
      },
      "outputs": [
        {
          "output_type": "stream",
          "name": "stdout",
          "text": [
            "26\n"
          ]
        },
        {
          "output_type": "execute_result",
          "data": {
            "text/plain": [
              "0"
            ]
          },
          "metadata": {},
          "execution_count": 109
        }
      ],
      "source": [
        "# now using `fillna` with a numeric column\n",
        "print(data['PreferredPropertyStar'].isnull().sum())\n",
        "data['PreferredPropertyStar'].fillna(data['PreferredPropertyStar'].mean(), inplace=True)  # mode imputation\n",
        "data['PreferredPropertyStar'].isnull().sum()"
      ]
    },
    {
      "cell_type": "code",
      "execution_count": 110,
      "metadata": {
        "colab": {
          "base_uri": "https://localhost:8080/"
        },
        "id": "YuQv7XuZ1dEn",
        "outputId": "5ed1c3f5-2048-40b1-c65e-73a2b18d0a0f"
      },
      "outputs": [
        {
          "output_type": "stream",
          "name": "stdout",
          "text": [
            "140\n"
          ]
        },
        {
          "output_type": "execute_result",
          "data": {
            "text/plain": [
              "0"
            ]
          },
          "metadata": {},
          "execution_count": 110
        }
      ],
      "source": [
        "# now using `fillna` with a numeric column\n",
        "print(data['NumberOfTrips'].isnull().sum())\n",
        "data['NumberOfTrips'].fillna(data['NumberOfTrips'].mean(), inplace=True)  # mode imputation\n",
        "data['NumberOfTrips'].isnull().sum()"
      ]
    },
    {
      "cell_type": "code",
      "execution_count": 111,
      "metadata": {
        "colab": {
          "base_uri": "https://localhost:8080/"
        },
        "id": "oq0Om-611jhX",
        "outputId": "19c9bd2e-74d8-438f-ce63-4090c8bd4018"
      },
      "outputs": [
        {
          "output_type": "stream",
          "name": "stdout",
          "text": [
            "66\n"
          ]
        },
        {
          "output_type": "execute_result",
          "data": {
            "text/plain": [
              "0"
            ]
          },
          "metadata": {},
          "execution_count": 111
        }
      ],
      "source": [
        "# now using `fillna` with a numeric column\n",
        "print(data['NumberOfChildrenVisiting'].isnull().sum())\n",
        "data['NumberOfChildrenVisiting'].fillna(data['NumberOfChildrenVisiting'].mean(), inplace=True)  # mode imputation\n",
        "data['NumberOfChildrenVisiting'].isnull().sum()"
      ]
    },
    {
      "cell_type": "code",
      "execution_count": 112,
      "metadata": {
        "colab": {
          "base_uri": "https://localhost:8080/"
        },
        "id": "527vrkVQ1swO",
        "outputId": "f9bb975e-3f36-4bcf-a8a0-870116845ad4"
      },
      "outputs": [
        {
          "output_type": "stream",
          "name": "stdout",
          "text": [
            "233\n"
          ]
        },
        {
          "output_type": "execute_result",
          "data": {
            "text/plain": [
              "0"
            ]
          },
          "metadata": {},
          "execution_count": 112
        }
      ],
      "source": [
        "print(data['MonthlyIncome'].isnull().sum())\n",
        "data['MonthlyIncome'].fillna(data['MonthlyIncome'].mean(), inplace=True)  # mode imputation\n",
        "data['MonthlyIncome'].isnull().sum()"
      ]
    },
    {
      "cell_type": "code",
      "execution_count": 113,
      "metadata": {
        "colab": {
          "base_uri": "https://localhost:8080/"
        },
        "id": "pvhwki7gzSmy",
        "outputId": "0c1b18e2-87da-4ef1-873a-f783d9a6f93c"
      },
      "outputs": [
        {
          "output_type": "stream",
          "name": "stdout",
          "text": [
            "226\n"
          ]
        },
        {
          "output_type": "execute_result",
          "data": {
            "text/plain": [
              "0"
            ]
          },
          "metadata": {},
          "execution_count": 113
        }
      ],
      "source": [
        "# now using `fillna` with a numeric column\n",
        "print(data['Age'].isnull().sum())\n",
        "data['Age'].fillna(data['Age'].mean(), inplace=True)  # mean imputation\n",
        "data['Age'].isnull().sum()"
      ]
    },
    {
      "cell_type": "code",
      "execution_count": 114,
      "metadata": {
        "colab": {
          "base_uri": "https://localhost:8080/"
        },
        "id": "8Qoqzbbz0bhL",
        "outputId": "6d24e1d3-2dc1-41c7-c0fe-cb24a36187a8"
      },
      "outputs": [
        {
          "output_type": "stream",
          "name": "stdout",
          "text": [
            "<class 'pandas.core.frame.DataFrame'>\n",
            "RangeIndex: 4888 entries, 0 to 4887\n",
            "Data columns (total 19 columns):\n",
            " #   Column                    Non-Null Count  Dtype   \n",
            "---  ------                    --------------  -----   \n",
            " 0   ProdTaken                 4888 non-null   int64   \n",
            " 1   Age                       4888 non-null   float64 \n",
            " 2   TypeofContact             4888 non-null   category\n",
            " 3   CityTier                  4888 non-null   int64   \n",
            " 4   DurationOfPitch           4888 non-null   float64 \n",
            " 5   Occupation                4888 non-null   object  \n",
            " 6   Gender                    4888 non-null   object  \n",
            " 7   NumberOfPersonVisiting    4888 non-null   int64   \n",
            " 8   NumberOfFollowups         4888 non-null   float64 \n",
            " 9   ProductPitched            4888 non-null   object  \n",
            " 10  PreferredPropertyStar     4888 non-null   float64 \n",
            " 11  MaritalStatus             4888 non-null   object  \n",
            " 12  NumberOfTrips             4888 non-null   float64 \n",
            " 13  Passport                  4888 non-null   int64   \n",
            " 14  PitchSatisfactionScore    4888 non-null   int64   \n",
            " 15  OwnCar                    4888 non-null   int64   \n",
            " 16  NumberOfChildrenVisiting  4888 non-null   float64 \n",
            " 17  Designation               4888 non-null   object  \n",
            " 18  MonthlyIncome             4888 non-null   float64 \n",
            "dtypes: category(1), float64(7), int64(6), object(5)\n",
            "memory usage: 692.4+ KB\n"
          ]
        }
      ],
      "source": [
        "data.info()"
      ]
    },
    {
      "cell_type": "markdown",
      "source": [
        "* There are no null values in teh variables as missing or nan have been imputed"
      ],
      "metadata": {
        "id": "GgHuiqOPyIRd"
      }
    },
    {
      "cell_type": "markdown",
      "source": [
        "**Changing the variable datatypes**"
      ],
      "metadata": {
        "id": "taYhM_hMxvQQ"
      }
    },
    {
      "cell_type": "code",
      "execution_count": 115,
      "metadata": {
        "colab": {
          "base_uri": "https://localhost:8080/",
          "height": 548
        },
        "id": "KQVE5XZJxLPz",
        "outputId": "f52e8529-c324-4c3c-ee9f-262fba695ba7"
      },
      "outputs": [
        {
          "output_type": "execute_result",
          "data": {
            "text/plain": [
              "   ProdTaken        Age    TypeofContact  CityTier  DurationOfPitch  \\\n",
              "0          1  41.000000     Self Enquiry         3              6.0   \n",
              "1          0  49.000000  Company Invited         1             14.0   \n",
              "2          1  37.000000     Self Enquiry         1              8.0   \n",
              "3          0  33.000000  Company Invited         1              9.0   \n",
              "4          0  37.622265     Self Enquiry         1              8.0   \n",
              "5          0  32.000000  Company Invited         1              8.0   \n",
              "6          0  59.000000     Self Enquiry         1              9.0   \n",
              "7          0  30.000000     Self Enquiry         1             30.0   \n",
              "8          0  38.000000  Company Invited         1             29.0   \n",
              "9          0  36.000000     Self Enquiry         1             33.0   \n",
              "\n",
              "       Occupation  Gender  NumberOfPersonVisiting  NumberOfFollowups  \\\n",
              "0        Salaried  Female                       3                3.0   \n",
              "1        Salaried    Male                       3                4.0   \n",
              "2     Free Lancer    Male                       3                4.0   \n",
              "3        Salaried  Female                       2                3.0   \n",
              "4  Small Business    Male                       2                3.0   \n",
              "5        Salaried    Male                       3                3.0   \n",
              "6  Small Business  Female                       2                2.0   \n",
              "7        Salaried    Male                       3                3.0   \n",
              "8        Salaried    Male                       2                4.0   \n",
              "9  Small Business    Male                       3                3.0   \n",
              "\n",
              "  ProductPitched  PreferredPropertyStar MaritalStatus  NumberOfTrips  \\\n",
              "0         Deluxe                    3.0        Single            1.0   \n",
              "1         Deluxe                    4.0      Divorced            2.0   \n",
              "2          Basic                    3.0        Single            7.0   \n",
              "3          Basic                    3.0      Divorced            2.0   \n",
              "4          Basic                    4.0      Divorced            1.0   \n",
              "5          Basic                    3.0        Single            1.0   \n",
              "6          Basic                    5.0      Divorced            5.0   \n",
              "7          Basic                    3.0       Married            2.0   \n",
              "8       Standard                    3.0     Unmarried            1.0   \n",
              "9         Deluxe                    3.0      Divorced            7.0   \n",
              "\n",
              "   Passport  PitchSatisfactionScore  OwnCar  NumberOfChildrenVisiting  \\\n",
              "0         1                       2       1                       0.0   \n",
              "1         0                       3       1                       2.0   \n",
              "2         1                       3       0                       0.0   \n",
              "3         1                       5       1                       1.0   \n",
              "4         0                       5       1                       0.0   \n",
              "5         0                       5       1                       1.0   \n",
              "6         1                       2       1                       1.0   \n",
              "7         0                       2       0                       1.0   \n",
              "8         0                       3       0                       0.0   \n",
              "9         0                       3       1                       0.0   \n",
              "\n",
              "      Designation  MonthlyIncome  \n",
              "0         Manager        20993.0  \n",
              "1         Manager        20130.0  \n",
              "2       Executive        17090.0  \n",
              "3       Executive        17909.0  \n",
              "4       Executive        18468.0  \n",
              "5       Executive        18068.0  \n",
              "6       Executive        17670.0  \n",
              "7       Executive        17693.0  \n",
              "8  Senior Manager        24526.0  \n",
              "9         Manager        20237.0  "
            ],
            "text/html": [
              "\n",
              "  <div id=\"df-48b9ff12-2d87-448a-a183-8b58d5e04b58\">\n",
              "    <div class=\"colab-df-container\">\n",
              "      <div>\n",
              "<style scoped>\n",
              "    .dataframe tbody tr th:only-of-type {\n",
              "        vertical-align: middle;\n",
              "    }\n",
              "\n",
              "    .dataframe tbody tr th {\n",
              "        vertical-align: top;\n",
              "    }\n",
              "\n",
              "    .dataframe thead th {\n",
              "        text-align: right;\n",
              "    }\n",
              "</style>\n",
              "<table border=\"1\" class=\"dataframe\">\n",
              "  <thead>\n",
              "    <tr style=\"text-align: right;\">\n",
              "      <th></th>\n",
              "      <th>ProdTaken</th>\n",
              "      <th>Age</th>\n",
              "      <th>TypeofContact</th>\n",
              "      <th>CityTier</th>\n",
              "      <th>DurationOfPitch</th>\n",
              "      <th>Occupation</th>\n",
              "      <th>Gender</th>\n",
              "      <th>NumberOfPersonVisiting</th>\n",
              "      <th>NumberOfFollowups</th>\n",
              "      <th>ProductPitched</th>\n",
              "      <th>PreferredPropertyStar</th>\n",
              "      <th>MaritalStatus</th>\n",
              "      <th>NumberOfTrips</th>\n",
              "      <th>Passport</th>\n",
              "      <th>PitchSatisfactionScore</th>\n",
              "      <th>OwnCar</th>\n",
              "      <th>NumberOfChildrenVisiting</th>\n",
              "      <th>Designation</th>\n",
              "      <th>MonthlyIncome</th>\n",
              "    </tr>\n",
              "  </thead>\n",
              "  <tbody>\n",
              "    <tr>\n",
              "      <th>0</th>\n",
              "      <td>1</td>\n",
              "      <td>41.000000</td>\n",
              "      <td>Self Enquiry</td>\n",
              "      <td>3</td>\n",
              "      <td>6.0</td>\n",
              "      <td>Salaried</td>\n",
              "      <td>Female</td>\n",
              "      <td>3</td>\n",
              "      <td>3.0</td>\n",
              "      <td>Deluxe</td>\n",
              "      <td>3.0</td>\n",
              "      <td>Single</td>\n",
              "      <td>1.0</td>\n",
              "      <td>1</td>\n",
              "      <td>2</td>\n",
              "      <td>1</td>\n",
              "      <td>0.0</td>\n",
              "      <td>Manager</td>\n",
              "      <td>20993.0</td>\n",
              "    </tr>\n",
              "    <tr>\n",
              "      <th>1</th>\n",
              "      <td>0</td>\n",
              "      <td>49.000000</td>\n",
              "      <td>Company Invited</td>\n",
              "      <td>1</td>\n",
              "      <td>14.0</td>\n",
              "      <td>Salaried</td>\n",
              "      <td>Male</td>\n",
              "      <td>3</td>\n",
              "      <td>4.0</td>\n",
              "      <td>Deluxe</td>\n",
              "      <td>4.0</td>\n",
              "      <td>Divorced</td>\n",
              "      <td>2.0</td>\n",
              "      <td>0</td>\n",
              "      <td>3</td>\n",
              "      <td>1</td>\n",
              "      <td>2.0</td>\n",
              "      <td>Manager</td>\n",
              "      <td>20130.0</td>\n",
              "    </tr>\n",
              "    <tr>\n",
              "      <th>2</th>\n",
              "      <td>1</td>\n",
              "      <td>37.000000</td>\n",
              "      <td>Self Enquiry</td>\n",
              "      <td>1</td>\n",
              "      <td>8.0</td>\n",
              "      <td>Free Lancer</td>\n",
              "      <td>Male</td>\n",
              "      <td>3</td>\n",
              "      <td>4.0</td>\n",
              "      <td>Basic</td>\n",
              "      <td>3.0</td>\n",
              "      <td>Single</td>\n",
              "      <td>7.0</td>\n",
              "      <td>1</td>\n",
              "      <td>3</td>\n",
              "      <td>0</td>\n",
              "      <td>0.0</td>\n",
              "      <td>Executive</td>\n",
              "      <td>17090.0</td>\n",
              "    </tr>\n",
              "    <tr>\n",
              "      <th>3</th>\n",
              "      <td>0</td>\n",
              "      <td>33.000000</td>\n",
              "      <td>Company Invited</td>\n",
              "      <td>1</td>\n",
              "      <td>9.0</td>\n",
              "      <td>Salaried</td>\n",
              "      <td>Female</td>\n",
              "      <td>2</td>\n",
              "      <td>3.0</td>\n",
              "      <td>Basic</td>\n",
              "      <td>3.0</td>\n",
              "      <td>Divorced</td>\n",
              "      <td>2.0</td>\n",
              "      <td>1</td>\n",
              "      <td>5</td>\n",
              "      <td>1</td>\n",
              "      <td>1.0</td>\n",
              "      <td>Executive</td>\n",
              "      <td>17909.0</td>\n",
              "    </tr>\n",
              "    <tr>\n",
              "      <th>4</th>\n",
              "      <td>0</td>\n",
              "      <td>37.622265</td>\n",
              "      <td>Self Enquiry</td>\n",
              "      <td>1</td>\n",
              "      <td>8.0</td>\n",
              "      <td>Small Business</td>\n",
              "      <td>Male</td>\n",
              "      <td>2</td>\n",
              "      <td>3.0</td>\n",
              "      <td>Basic</td>\n",
              "      <td>4.0</td>\n",
              "      <td>Divorced</td>\n",
              "      <td>1.0</td>\n",
              "      <td>0</td>\n",
              "      <td>5</td>\n",
              "      <td>1</td>\n",
              "      <td>0.0</td>\n",
              "      <td>Executive</td>\n",
              "      <td>18468.0</td>\n",
              "    </tr>\n",
              "    <tr>\n",
              "      <th>5</th>\n",
              "      <td>0</td>\n",
              "      <td>32.000000</td>\n",
              "      <td>Company Invited</td>\n",
              "      <td>1</td>\n",
              "      <td>8.0</td>\n",
              "      <td>Salaried</td>\n",
              "      <td>Male</td>\n",
              "      <td>3</td>\n",
              "      <td>3.0</td>\n",
              "      <td>Basic</td>\n",
              "      <td>3.0</td>\n",
              "      <td>Single</td>\n",
              "      <td>1.0</td>\n",
              "      <td>0</td>\n",
              "      <td>5</td>\n",
              "      <td>1</td>\n",
              "      <td>1.0</td>\n",
              "      <td>Executive</td>\n",
              "      <td>18068.0</td>\n",
              "    </tr>\n",
              "    <tr>\n",
              "      <th>6</th>\n",
              "      <td>0</td>\n",
              "      <td>59.000000</td>\n",
              "      <td>Self Enquiry</td>\n",
              "      <td>1</td>\n",
              "      <td>9.0</td>\n",
              "      <td>Small Business</td>\n",
              "      <td>Female</td>\n",
              "      <td>2</td>\n",
              "      <td>2.0</td>\n",
              "      <td>Basic</td>\n",
              "      <td>5.0</td>\n",
              "      <td>Divorced</td>\n",
              "      <td>5.0</td>\n",
              "      <td>1</td>\n",
              "      <td>2</td>\n",
              "      <td>1</td>\n",
              "      <td>1.0</td>\n",
              "      <td>Executive</td>\n",
              "      <td>17670.0</td>\n",
              "    </tr>\n",
              "    <tr>\n",
              "      <th>7</th>\n",
              "      <td>0</td>\n",
              "      <td>30.000000</td>\n",
              "      <td>Self Enquiry</td>\n",
              "      <td>1</td>\n",
              "      <td>30.0</td>\n",
              "      <td>Salaried</td>\n",
              "      <td>Male</td>\n",
              "      <td>3</td>\n",
              "      <td>3.0</td>\n",
              "      <td>Basic</td>\n",
              "      <td>3.0</td>\n",
              "      <td>Married</td>\n",
              "      <td>2.0</td>\n",
              "      <td>0</td>\n",
              "      <td>2</td>\n",
              "      <td>0</td>\n",
              "      <td>1.0</td>\n",
              "      <td>Executive</td>\n",
              "      <td>17693.0</td>\n",
              "    </tr>\n",
              "    <tr>\n",
              "      <th>8</th>\n",
              "      <td>0</td>\n",
              "      <td>38.000000</td>\n",
              "      <td>Company Invited</td>\n",
              "      <td>1</td>\n",
              "      <td>29.0</td>\n",
              "      <td>Salaried</td>\n",
              "      <td>Male</td>\n",
              "      <td>2</td>\n",
              "      <td>4.0</td>\n",
              "      <td>Standard</td>\n",
              "      <td>3.0</td>\n",
              "      <td>Unmarried</td>\n",
              "      <td>1.0</td>\n",
              "      <td>0</td>\n",
              "      <td>3</td>\n",
              "      <td>0</td>\n",
              "      <td>0.0</td>\n",
              "      <td>Senior Manager</td>\n",
              "      <td>24526.0</td>\n",
              "    </tr>\n",
              "    <tr>\n",
              "      <th>9</th>\n",
              "      <td>0</td>\n",
              "      <td>36.000000</td>\n",
              "      <td>Self Enquiry</td>\n",
              "      <td>1</td>\n",
              "      <td>33.0</td>\n",
              "      <td>Small Business</td>\n",
              "      <td>Male</td>\n",
              "      <td>3</td>\n",
              "      <td>3.0</td>\n",
              "      <td>Deluxe</td>\n",
              "      <td>3.0</td>\n",
              "      <td>Divorced</td>\n",
              "      <td>7.0</td>\n",
              "      <td>0</td>\n",
              "      <td>3</td>\n",
              "      <td>1</td>\n",
              "      <td>0.0</td>\n",
              "      <td>Manager</td>\n",
              "      <td>20237.0</td>\n",
              "    </tr>\n",
              "  </tbody>\n",
              "</table>\n",
              "</div>\n",
              "      <button class=\"colab-df-convert\" onclick=\"convertToInteractive('df-48b9ff12-2d87-448a-a183-8b58d5e04b58')\"\n",
              "              title=\"Convert this dataframe to an interactive table.\"\n",
              "              style=\"display:none;\">\n",
              "        \n",
              "  <svg xmlns=\"http://www.w3.org/2000/svg\" height=\"24px\"viewBox=\"0 0 24 24\"\n",
              "       width=\"24px\">\n",
              "    <path d=\"M0 0h24v24H0V0z\" fill=\"none\"/>\n",
              "    <path d=\"M18.56 5.44l.94 2.06.94-2.06 2.06-.94-2.06-.94-.94-2.06-.94 2.06-2.06.94zm-11 1L8.5 8.5l.94-2.06 2.06-.94-2.06-.94L8.5 2.5l-.94 2.06-2.06.94zm10 10l.94 2.06.94-2.06 2.06-.94-2.06-.94-.94-2.06-.94 2.06-2.06.94z\"/><path d=\"M17.41 7.96l-1.37-1.37c-.4-.4-.92-.59-1.43-.59-.52 0-1.04.2-1.43.59L10.3 9.45l-7.72 7.72c-.78.78-.78 2.05 0 2.83L4 21.41c.39.39.9.59 1.41.59.51 0 1.02-.2 1.41-.59l7.78-7.78 2.81-2.81c.8-.78.8-2.07 0-2.86zM5.41 20L4 18.59l7.72-7.72 1.47 1.35L5.41 20z\"/>\n",
              "  </svg>\n",
              "      </button>\n",
              "      \n",
              "  <style>\n",
              "    .colab-df-container {\n",
              "      display:flex;\n",
              "      flex-wrap:wrap;\n",
              "      gap: 12px;\n",
              "    }\n",
              "\n",
              "    .colab-df-convert {\n",
              "      background-color: #E8F0FE;\n",
              "      border: none;\n",
              "      border-radius: 50%;\n",
              "      cursor: pointer;\n",
              "      display: none;\n",
              "      fill: #1967D2;\n",
              "      height: 32px;\n",
              "      padding: 0 0 0 0;\n",
              "      width: 32px;\n",
              "    }\n",
              "\n",
              "    .colab-df-convert:hover {\n",
              "      background-color: #E2EBFA;\n",
              "      box-shadow: 0px 1px 2px rgba(60, 64, 67, 0.3), 0px 1px 3px 1px rgba(60, 64, 67, 0.15);\n",
              "      fill: #174EA6;\n",
              "    }\n",
              "\n",
              "    [theme=dark] .colab-df-convert {\n",
              "      background-color: #3B4455;\n",
              "      fill: #D2E3FC;\n",
              "    }\n",
              "\n",
              "    [theme=dark] .colab-df-convert:hover {\n",
              "      background-color: #434B5C;\n",
              "      box-shadow: 0px 1px 3px 1px rgba(0, 0, 0, 0.15);\n",
              "      filter: drop-shadow(0px 1px 2px rgba(0, 0, 0, 0.3));\n",
              "      fill: #FFFFFF;\n",
              "    }\n",
              "  </style>\n",
              "\n",
              "      <script>\n",
              "        const buttonEl =\n",
              "          document.querySelector('#df-48b9ff12-2d87-448a-a183-8b58d5e04b58 button.colab-df-convert');\n",
              "        buttonEl.style.display =\n",
              "          google.colab.kernel.accessAllowed ? 'block' : 'none';\n",
              "\n",
              "        async function convertToInteractive(key) {\n",
              "          const element = document.querySelector('#df-48b9ff12-2d87-448a-a183-8b58d5e04b58');\n",
              "          const dataTable =\n",
              "            await google.colab.kernel.invokeFunction('convertToInteractive',\n",
              "                                                     [key], {});\n",
              "          if (!dataTable) return;\n",
              "\n",
              "          const docLinkHtml = 'Like what you see? Visit the ' +\n",
              "            '<a target=\"_blank\" href=https://colab.research.google.com/notebooks/data_table.ipynb>data table notebook</a>'\n",
              "            + ' to learn more about interactive tables.';\n",
              "          element.innerHTML = '';\n",
              "          dataTable['output_type'] = 'display_data';\n",
              "          await google.colab.output.renderOutput(dataTable, element);\n",
              "          const docLink = document.createElement('div');\n",
              "          docLink.innerHTML = docLinkHtml;\n",
              "          element.appendChild(docLink);\n",
              "        }\n",
              "      </script>\n",
              "    </div>\n",
              "  </div>\n",
              "  "
            ]
          },
          "metadata": {},
          "execution_count": 115
        }
      ],
      "source": [
        "for feature in data.columns: # Loop through all columns in the dataframe\n",
        "    if data[feature].dtype == 'object': # Only apply for columns with categorical strings\n",
        "        data[feature] = pd.Categorical(data[feature])# Replace strings with an integer\n",
        "data.head(10)"
      ]
    },
    {
      "cell_type": "code",
      "execution_count": 116,
      "metadata": {
        "colab": {
          "base_uri": "https://localhost:8080/"
        },
        "id": "jf4JAhwJxLP2",
        "outputId": "d5e36853-9c4d-4ecd-e45b-768a134c9bcb"
      },
      "outputs": [
        {
          "output_type": "stream",
          "name": "stdout",
          "text": [
            "Self Enquiry       3444\n",
            "Company Invited    1419\n",
            "is_missing           25\n",
            "Name: TypeofContact, dtype: int64\n",
            "Salaried          2368\n",
            "Small Business    2084\n",
            "Large Business     434\n",
            "Free Lancer          2\n",
            "Name: Occupation, dtype: int64\n",
            "Male      2916\n",
            "Female    1972\n",
            "Name: Gender, dtype: int64\n",
            "Basic           1842\n",
            "Deluxe          1732\n",
            "Standard         742\n",
            "Super Deluxe     342\n",
            "King             230\n",
            "Name: ProductPitched, dtype: int64\n",
            "Married      2340\n",
            "Divorced      950\n",
            "Single        916\n",
            "Unmarried     682\n",
            "Name: MaritalStatus, dtype: int64\n",
            "Executive         1842\n",
            "Manager           1732\n",
            "Senior Manager     742\n",
            "AVP                342\n",
            "VP                 230\n",
            "Name: Designation, dtype: int64\n"
          ]
        }
      ],
      "source": [
        "print(data.TypeofContact.value_counts())\n",
        "print(data.Occupation.value_counts())\n",
        "print(data.Gender.value_counts())\n",
        "print(data.ProductPitched.value_counts())\n",
        "print(data.MaritalStatus.value_counts())\n",
        "print(data.Designation.value_counts())\n"
      ]
    },
    {
      "cell_type": "markdown",
      "source": [
        ""
      ],
      "metadata": {
        "id": "5cR-yk9Jx_O9"
      }
    },
    {
      "cell_type": "markdown",
      "source": [
        "**Creating dummy variables**"
      ],
      "metadata": {
        "id": "J7fDb6SXx_d8"
      }
    },
    {
      "cell_type": "code",
      "execution_count": 117,
      "metadata": {
        "id": "Tgft_TIVxLP4",
        "scrolled": true
      },
      "outputs": [],
      "source": [
        "replaceStruct = {\n",
        "                \"ProductPitched\": {\"Basic\": 1, \"Deluxe\":2 , \"Standard\": 3, \"Super Deluxe\": 4,\"King\": 5},\n",
        "                                    }\n",
        "oneHotCols=[\"Occupation\", 'TypeofContact','Gender','MaritalStatus', 'Designation']\n"
      ]
    },
    {
      "cell_type": "code",
      "execution_count": 118,
      "metadata": {
        "colab": {
          "base_uri": "https://localhost:8080/",
          "height": 474
        },
        "id": "jxeyJbJFxLP6",
        "outputId": "50f6f9b6-26da-4a99-c8af-13c0ad5dfcd1",
        "scrolled": false
      },
      "outputs": [
        {
          "output_type": "execute_result",
          "data": {
            "text/plain": [
              "   ProdTaken        Age  CityTier  DurationOfPitch  NumberOfPersonVisiting  \\\n",
              "0          1  41.000000         3              6.0                       3   \n",
              "1          0  49.000000         1             14.0                       3   \n",
              "2          1  37.000000         1              8.0                       3   \n",
              "3          0  33.000000         1              9.0                       2   \n",
              "4          0  37.622265         1              8.0                       2   \n",
              "5          0  32.000000         1              8.0                       3   \n",
              "6          0  59.000000         1              9.0                       2   \n",
              "7          0  30.000000         1             30.0                       3   \n",
              "8          0  38.000000         1             29.0                       2   \n",
              "9          0  36.000000         1             33.0                       3   \n",
              "\n",
              "   NumberOfFollowups  ProductPitched  PreferredPropertyStar  NumberOfTrips  \\\n",
              "0                3.0               2                    3.0            1.0   \n",
              "1                4.0               2                    4.0            2.0   \n",
              "2                4.0               1                    3.0            7.0   \n",
              "3                3.0               1                    3.0            2.0   \n",
              "4                3.0               1                    4.0            1.0   \n",
              "5                3.0               1                    3.0            1.0   \n",
              "6                2.0               1                    5.0            5.0   \n",
              "7                3.0               1                    3.0            2.0   \n",
              "8                4.0               3                    3.0            1.0   \n",
              "9                3.0               2                    3.0            7.0   \n",
              "\n",
              "   Passport  ...  Gender_Male  MaritalStatus_Divorced  MaritalStatus_Married  \\\n",
              "0         1  ...            0                       0                      0   \n",
              "1         0  ...            1                       1                      0   \n",
              "2         1  ...            1                       0                      0   \n",
              "3         1  ...            0                       1                      0   \n",
              "4         0  ...            1                       1                      0   \n",
              "5         0  ...            1                       0                      0   \n",
              "6         1  ...            0                       1                      0   \n",
              "7         0  ...            1                       0                      1   \n",
              "8         0  ...            1                       0                      0   \n",
              "9         0  ...            1                       1                      0   \n",
              "\n",
              "   MaritalStatus_Single  MaritalStatus_Unmarried  Designation_AVP  \\\n",
              "0                     1                        0                0   \n",
              "1                     0                        0                0   \n",
              "2                     1                        0                0   \n",
              "3                     0                        0                0   \n",
              "4                     0                        0                0   \n",
              "5                     1                        0                0   \n",
              "6                     0                        0                0   \n",
              "7                     0                        0                0   \n",
              "8                     0                        1                0   \n",
              "9                     0                        0                0   \n",
              "\n",
              "   Designation_Executive  Designation_Manager  Designation_Senior Manager  \\\n",
              "0                      0                    1                           0   \n",
              "1                      0                    1                           0   \n",
              "2                      1                    0                           0   \n",
              "3                      1                    0                           0   \n",
              "4                      1                    0                           0   \n",
              "5                      1                    0                           0   \n",
              "6                      1                    0                           0   \n",
              "7                      1                    0                           0   \n",
              "8                      0                    0                           1   \n",
              "9                      0                    1                           0   \n",
              "\n",
              "   Designation_VP  \n",
              "0               0  \n",
              "1               0  \n",
              "2               0  \n",
              "3               0  \n",
              "4               0  \n",
              "5               0  \n",
              "6               0  \n",
              "7               0  \n",
              "8               0  \n",
              "9               0  \n",
              "\n",
              "[10 rows x 32 columns]"
            ],
            "text/html": [
              "\n",
              "  <div id=\"df-50e7728f-7e39-4c40-8dd9-205cb9fe4c24\">\n",
              "    <div class=\"colab-df-container\">\n",
              "      <div>\n",
              "<style scoped>\n",
              "    .dataframe tbody tr th:only-of-type {\n",
              "        vertical-align: middle;\n",
              "    }\n",
              "\n",
              "    .dataframe tbody tr th {\n",
              "        vertical-align: top;\n",
              "    }\n",
              "\n",
              "    .dataframe thead th {\n",
              "        text-align: right;\n",
              "    }\n",
              "</style>\n",
              "<table border=\"1\" class=\"dataframe\">\n",
              "  <thead>\n",
              "    <tr style=\"text-align: right;\">\n",
              "      <th></th>\n",
              "      <th>ProdTaken</th>\n",
              "      <th>Age</th>\n",
              "      <th>CityTier</th>\n",
              "      <th>DurationOfPitch</th>\n",
              "      <th>NumberOfPersonVisiting</th>\n",
              "      <th>NumberOfFollowups</th>\n",
              "      <th>ProductPitched</th>\n",
              "      <th>PreferredPropertyStar</th>\n",
              "      <th>NumberOfTrips</th>\n",
              "      <th>Passport</th>\n",
              "      <th>...</th>\n",
              "      <th>Gender_Male</th>\n",
              "      <th>MaritalStatus_Divorced</th>\n",
              "      <th>MaritalStatus_Married</th>\n",
              "      <th>MaritalStatus_Single</th>\n",
              "      <th>MaritalStatus_Unmarried</th>\n",
              "      <th>Designation_AVP</th>\n",
              "      <th>Designation_Executive</th>\n",
              "      <th>Designation_Manager</th>\n",
              "      <th>Designation_Senior Manager</th>\n",
              "      <th>Designation_VP</th>\n",
              "    </tr>\n",
              "  </thead>\n",
              "  <tbody>\n",
              "    <tr>\n",
              "      <th>0</th>\n",
              "      <td>1</td>\n",
              "      <td>41.000000</td>\n",
              "      <td>3</td>\n",
              "      <td>6.0</td>\n",
              "      <td>3</td>\n",
              "      <td>3.0</td>\n",
              "      <td>2</td>\n",
              "      <td>3.0</td>\n",
              "      <td>1.0</td>\n",
              "      <td>1</td>\n",
              "      <td>...</td>\n",
              "      <td>0</td>\n",
              "      <td>0</td>\n",
              "      <td>0</td>\n",
              "      <td>1</td>\n",
              "      <td>0</td>\n",
              "      <td>0</td>\n",
              "      <td>0</td>\n",
              "      <td>1</td>\n",
              "      <td>0</td>\n",
              "      <td>0</td>\n",
              "    </tr>\n",
              "    <tr>\n",
              "      <th>1</th>\n",
              "      <td>0</td>\n",
              "      <td>49.000000</td>\n",
              "      <td>1</td>\n",
              "      <td>14.0</td>\n",
              "      <td>3</td>\n",
              "      <td>4.0</td>\n",
              "      <td>2</td>\n",
              "      <td>4.0</td>\n",
              "      <td>2.0</td>\n",
              "      <td>0</td>\n",
              "      <td>...</td>\n",
              "      <td>1</td>\n",
              "      <td>1</td>\n",
              "      <td>0</td>\n",
              "      <td>0</td>\n",
              "      <td>0</td>\n",
              "      <td>0</td>\n",
              "      <td>0</td>\n",
              "      <td>1</td>\n",
              "      <td>0</td>\n",
              "      <td>0</td>\n",
              "    </tr>\n",
              "    <tr>\n",
              "      <th>2</th>\n",
              "      <td>1</td>\n",
              "      <td>37.000000</td>\n",
              "      <td>1</td>\n",
              "      <td>8.0</td>\n",
              "      <td>3</td>\n",
              "      <td>4.0</td>\n",
              "      <td>1</td>\n",
              "      <td>3.0</td>\n",
              "      <td>7.0</td>\n",
              "      <td>1</td>\n",
              "      <td>...</td>\n",
              "      <td>1</td>\n",
              "      <td>0</td>\n",
              "      <td>0</td>\n",
              "      <td>1</td>\n",
              "      <td>0</td>\n",
              "      <td>0</td>\n",
              "      <td>1</td>\n",
              "      <td>0</td>\n",
              "      <td>0</td>\n",
              "      <td>0</td>\n",
              "    </tr>\n",
              "    <tr>\n",
              "      <th>3</th>\n",
              "      <td>0</td>\n",
              "      <td>33.000000</td>\n",
              "      <td>1</td>\n",
              "      <td>9.0</td>\n",
              "      <td>2</td>\n",
              "      <td>3.0</td>\n",
              "      <td>1</td>\n",
              "      <td>3.0</td>\n",
              "      <td>2.0</td>\n",
              "      <td>1</td>\n",
              "      <td>...</td>\n",
              "      <td>0</td>\n",
              "      <td>1</td>\n",
              "      <td>0</td>\n",
              "      <td>0</td>\n",
              "      <td>0</td>\n",
              "      <td>0</td>\n",
              "      <td>1</td>\n",
              "      <td>0</td>\n",
              "      <td>0</td>\n",
              "      <td>0</td>\n",
              "    </tr>\n",
              "    <tr>\n",
              "      <th>4</th>\n",
              "      <td>0</td>\n",
              "      <td>37.622265</td>\n",
              "      <td>1</td>\n",
              "      <td>8.0</td>\n",
              "      <td>2</td>\n",
              "      <td>3.0</td>\n",
              "      <td>1</td>\n",
              "      <td>4.0</td>\n",
              "      <td>1.0</td>\n",
              "      <td>0</td>\n",
              "      <td>...</td>\n",
              "      <td>1</td>\n",
              "      <td>1</td>\n",
              "      <td>0</td>\n",
              "      <td>0</td>\n",
              "      <td>0</td>\n",
              "      <td>0</td>\n",
              "      <td>1</td>\n",
              "      <td>0</td>\n",
              "      <td>0</td>\n",
              "      <td>0</td>\n",
              "    </tr>\n",
              "    <tr>\n",
              "      <th>5</th>\n",
              "      <td>0</td>\n",
              "      <td>32.000000</td>\n",
              "      <td>1</td>\n",
              "      <td>8.0</td>\n",
              "      <td>3</td>\n",
              "      <td>3.0</td>\n",
              "      <td>1</td>\n",
              "      <td>3.0</td>\n",
              "      <td>1.0</td>\n",
              "      <td>0</td>\n",
              "      <td>...</td>\n",
              "      <td>1</td>\n",
              "      <td>0</td>\n",
              "      <td>0</td>\n",
              "      <td>1</td>\n",
              "      <td>0</td>\n",
              "      <td>0</td>\n",
              "      <td>1</td>\n",
              "      <td>0</td>\n",
              "      <td>0</td>\n",
              "      <td>0</td>\n",
              "    </tr>\n",
              "    <tr>\n",
              "      <th>6</th>\n",
              "      <td>0</td>\n",
              "      <td>59.000000</td>\n",
              "      <td>1</td>\n",
              "      <td>9.0</td>\n",
              "      <td>2</td>\n",
              "      <td>2.0</td>\n",
              "      <td>1</td>\n",
              "      <td>5.0</td>\n",
              "      <td>5.0</td>\n",
              "      <td>1</td>\n",
              "      <td>...</td>\n",
              "      <td>0</td>\n",
              "      <td>1</td>\n",
              "      <td>0</td>\n",
              "      <td>0</td>\n",
              "      <td>0</td>\n",
              "      <td>0</td>\n",
              "      <td>1</td>\n",
              "      <td>0</td>\n",
              "      <td>0</td>\n",
              "      <td>0</td>\n",
              "    </tr>\n",
              "    <tr>\n",
              "      <th>7</th>\n",
              "      <td>0</td>\n",
              "      <td>30.000000</td>\n",
              "      <td>1</td>\n",
              "      <td>30.0</td>\n",
              "      <td>3</td>\n",
              "      <td>3.0</td>\n",
              "      <td>1</td>\n",
              "      <td>3.0</td>\n",
              "      <td>2.0</td>\n",
              "      <td>0</td>\n",
              "      <td>...</td>\n",
              "      <td>1</td>\n",
              "      <td>0</td>\n",
              "      <td>1</td>\n",
              "      <td>0</td>\n",
              "      <td>0</td>\n",
              "      <td>0</td>\n",
              "      <td>1</td>\n",
              "      <td>0</td>\n",
              "      <td>0</td>\n",
              "      <td>0</td>\n",
              "    </tr>\n",
              "    <tr>\n",
              "      <th>8</th>\n",
              "      <td>0</td>\n",
              "      <td>38.000000</td>\n",
              "      <td>1</td>\n",
              "      <td>29.0</td>\n",
              "      <td>2</td>\n",
              "      <td>4.0</td>\n",
              "      <td>3</td>\n",
              "      <td>3.0</td>\n",
              "      <td>1.0</td>\n",
              "      <td>0</td>\n",
              "      <td>...</td>\n",
              "      <td>1</td>\n",
              "      <td>0</td>\n",
              "      <td>0</td>\n",
              "      <td>0</td>\n",
              "      <td>1</td>\n",
              "      <td>0</td>\n",
              "      <td>0</td>\n",
              "      <td>0</td>\n",
              "      <td>1</td>\n",
              "      <td>0</td>\n",
              "    </tr>\n",
              "    <tr>\n",
              "      <th>9</th>\n",
              "      <td>0</td>\n",
              "      <td>36.000000</td>\n",
              "      <td>1</td>\n",
              "      <td>33.0</td>\n",
              "      <td>3</td>\n",
              "      <td>3.0</td>\n",
              "      <td>2</td>\n",
              "      <td>3.0</td>\n",
              "      <td>7.0</td>\n",
              "      <td>0</td>\n",
              "      <td>...</td>\n",
              "      <td>1</td>\n",
              "      <td>1</td>\n",
              "      <td>0</td>\n",
              "      <td>0</td>\n",
              "      <td>0</td>\n",
              "      <td>0</td>\n",
              "      <td>0</td>\n",
              "      <td>1</td>\n",
              "      <td>0</td>\n",
              "      <td>0</td>\n",
              "    </tr>\n",
              "  </tbody>\n",
              "</table>\n",
              "<p>10 rows × 32 columns</p>\n",
              "</div>\n",
              "      <button class=\"colab-df-convert\" onclick=\"convertToInteractive('df-50e7728f-7e39-4c40-8dd9-205cb9fe4c24')\"\n",
              "              title=\"Convert this dataframe to an interactive table.\"\n",
              "              style=\"display:none;\">\n",
              "        \n",
              "  <svg xmlns=\"http://www.w3.org/2000/svg\" height=\"24px\"viewBox=\"0 0 24 24\"\n",
              "       width=\"24px\">\n",
              "    <path d=\"M0 0h24v24H0V0z\" fill=\"none\"/>\n",
              "    <path d=\"M18.56 5.44l.94 2.06.94-2.06 2.06-.94-2.06-.94-.94-2.06-.94 2.06-2.06.94zm-11 1L8.5 8.5l.94-2.06 2.06-.94-2.06-.94L8.5 2.5l-.94 2.06-2.06.94zm10 10l.94 2.06.94-2.06 2.06-.94-2.06-.94-.94-2.06-.94 2.06-2.06.94z\"/><path d=\"M17.41 7.96l-1.37-1.37c-.4-.4-.92-.59-1.43-.59-.52 0-1.04.2-1.43.59L10.3 9.45l-7.72 7.72c-.78.78-.78 2.05 0 2.83L4 21.41c.39.39.9.59 1.41.59.51 0 1.02-.2 1.41-.59l7.78-7.78 2.81-2.81c.8-.78.8-2.07 0-2.86zM5.41 20L4 18.59l7.72-7.72 1.47 1.35L5.41 20z\"/>\n",
              "  </svg>\n",
              "      </button>\n",
              "      \n",
              "  <style>\n",
              "    .colab-df-container {\n",
              "      display:flex;\n",
              "      flex-wrap:wrap;\n",
              "      gap: 12px;\n",
              "    }\n",
              "\n",
              "    .colab-df-convert {\n",
              "      background-color: #E8F0FE;\n",
              "      border: none;\n",
              "      border-radius: 50%;\n",
              "      cursor: pointer;\n",
              "      display: none;\n",
              "      fill: #1967D2;\n",
              "      height: 32px;\n",
              "      padding: 0 0 0 0;\n",
              "      width: 32px;\n",
              "    }\n",
              "\n",
              "    .colab-df-convert:hover {\n",
              "      background-color: #E2EBFA;\n",
              "      box-shadow: 0px 1px 2px rgba(60, 64, 67, 0.3), 0px 1px 3px 1px rgba(60, 64, 67, 0.15);\n",
              "      fill: #174EA6;\n",
              "    }\n",
              "\n",
              "    [theme=dark] .colab-df-convert {\n",
              "      background-color: #3B4455;\n",
              "      fill: #D2E3FC;\n",
              "    }\n",
              "\n",
              "    [theme=dark] .colab-df-convert:hover {\n",
              "      background-color: #434B5C;\n",
              "      box-shadow: 0px 1px 3px 1px rgba(0, 0, 0, 0.15);\n",
              "      filter: drop-shadow(0px 1px 2px rgba(0, 0, 0, 0.3));\n",
              "      fill: #FFFFFF;\n",
              "    }\n",
              "  </style>\n",
              "\n",
              "      <script>\n",
              "        const buttonEl =\n",
              "          document.querySelector('#df-50e7728f-7e39-4c40-8dd9-205cb9fe4c24 button.colab-df-convert');\n",
              "        buttonEl.style.display =\n",
              "          google.colab.kernel.accessAllowed ? 'block' : 'none';\n",
              "\n",
              "        async function convertToInteractive(key) {\n",
              "          const element = document.querySelector('#df-50e7728f-7e39-4c40-8dd9-205cb9fe4c24');\n",
              "          const dataTable =\n",
              "            await google.colab.kernel.invokeFunction('convertToInteractive',\n",
              "                                                     [key], {});\n",
              "          if (!dataTable) return;\n",
              "\n",
              "          const docLinkHtml = 'Like what you see? Visit the ' +\n",
              "            '<a target=\"_blank\" href=https://colab.research.google.com/notebooks/data_table.ipynb>data table notebook</a>'\n",
              "            + ' to learn more about interactive tables.';\n",
              "          element.innerHTML = '';\n",
              "          dataTable['output_type'] = 'display_data';\n",
              "          await google.colab.output.renderOutput(dataTable, element);\n",
              "          const docLink = document.createElement('div');\n",
              "          docLink.innerHTML = docLinkHtml;\n",
              "          element.appendChild(docLink);\n",
              "        }\n",
              "      </script>\n",
              "    </div>\n",
              "  </div>\n",
              "  "
            ]
          },
          "metadata": {},
          "execution_count": 118
        }
      ],
      "source": [
        "data=data.replace(replaceStruct)\n",
        "data=pd.get_dummies(data, columns=oneHotCols)\n",
        "data.head(10)\n"
      ]
    },
    {
      "cell_type": "code",
      "execution_count": 119,
      "metadata": {
        "colab": {
          "base_uri": "https://localhost:8080/"
        },
        "id": "PqTiaxCrxLP8",
        "outputId": "e17923e5-9496-4280-946c-c7010e9014fd"
      },
      "outputs": [
        {
          "output_type": "stream",
          "name": "stdout",
          "text": [
            "<class 'pandas.core.frame.DataFrame'>\n",
            "RangeIndex: 4888 entries, 0 to 4887\n",
            "Data columns (total 32 columns):\n",
            " #   Column                         Non-Null Count  Dtype  \n",
            "---  ------                         --------------  -----  \n",
            " 0   ProdTaken                      4888 non-null   int64  \n",
            " 1   Age                            4888 non-null   float64\n",
            " 2   CityTier                       4888 non-null   int64  \n",
            " 3   DurationOfPitch                4888 non-null   float64\n",
            " 4   NumberOfPersonVisiting         4888 non-null   int64  \n",
            " 5   NumberOfFollowups              4888 non-null   float64\n",
            " 6   ProductPitched                 4888 non-null   int64  \n",
            " 7   PreferredPropertyStar          4888 non-null   float64\n",
            " 8   NumberOfTrips                  4888 non-null   float64\n",
            " 9   Passport                       4888 non-null   int64  \n",
            " 10  PitchSatisfactionScore         4888 non-null   int64  \n",
            " 11  OwnCar                         4888 non-null   int64  \n",
            " 12  NumberOfChildrenVisiting       4888 non-null   float64\n",
            " 13  MonthlyIncome                  4888 non-null   float64\n",
            " 14  Occupation_Free Lancer         4888 non-null   uint8  \n",
            " 15  Occupation_Large Business      4888 non-null   uint8  \n",
            " 16  Occupation_Salaried            4888 non-null   uint8  \n",
            " 17  Occupation_Small Business      4888 non-null   uint8  \n",
            " 18  TypeofContact_Company Invited  4888 non-null   uint8  \n",
            " 19  TypeofContact_Self Enquiry     4888 non-null   uint8  \n",
            " 20  TypeofContact_is_missing       4888 non-null   uint8  \n",
            " 21  Gender_Female                  4888 non-null   uint8  \n",
            " 22  Gender_Male                    4888 non-null   uint8  \n",
            " 23  MaritalStatus_Divorced         4888 non-null   uint8  \n",
            " 24  MaritalStatus_Married          4888 non-null   uint8  \n",
            " 25  MaritalStatus_Single           4888 non-null   uint8  \n",
            " 26  MaritalStatus_Unmarried        4888 non-null   uint8  \n",
            " 27  Designation_AVP                4888 non-null   uint8  \n",
            " 28  Designation_Executive          4888 non-null   uint8  \n",
            " 29  Designation_Manager            4888 non-null   uint8  \n",
            " 30  Designation_Senior Manager     4888 non-null   uint8  \n",
            " 31  Designation_VP                 4888 non-null   uint8  \n",
            "dtypes: float64(7), int64(7), uint8(18)\n",
            "memory usage: 620.7 KB\n"
          ]
        }
      ],
      "source": [
        "data.info()"
      ]
    },
    {
      "cell_type": "markdown",
      "source": [
        "* There are no missing values in the dataset"
      ],
      "metadata": {
        "id": "j2uyr3Ybxcvt"
      }
    },
    {
      "cell_type": "markdown",
      "metadata": {
        "id": "uD91wTZkzHm8"
      },
      "source": [
        "# **Modelling**"
      ]
    },
    {
      "cell_type": "markdown",
      "metadata": {
        "id": "0L-oAMItxLP-"
      },
      "source": [
        "## Split the data into train and test sets"
      ]
    },
    {
      "cell_type": "markdown",
      "metadata": {
        "id": "UmkBWykVQOtZ"
      },
      "source": [
        "- When data (classification) exhibit a significant imbalance in the distribution of the target classes, it is good to use stratified sampling to ensure that relative class frequencies are approximately preserved in train and test sets. \n",
        "- This is done by setting the `stratify` parameter to target variable in the train_test_split function."
      ]
    },
    {
      "cell_type": "code",
      "execution_count": 120,
      "metadata": {
        "id": "AWq265BvxLP_"
      },
      "outputs": [],
      "source": [
        "X = data.drop(\"ProdTaken\" , axis=1)\n",
        "y = data.pop(\"ProdTaken\")"
      ]
    },
    {
      "cell_type": "code",
      "execution_count": 121,
      "metadata": {
        "id": "8EIKHRCmxLQB"
      },
      "outputs": [],
      "source": [
        "X_train, X_test, y_train, y_test = train_test_split(X, y, test_size=.30, random_state=1,stratify=y)"
      ]
    },
    {
      "cell_type": "markdown",
      "metadata": {
        "id": "QLvq0iqZJnF4"
      },
      "source": [
        "## Model evaluation criterion\n",
        "\n",
        "### Model can make wrong predictions as:\n",
        "1. Predicting a customer will take the Product pitched and the customer doesn't take the product\n",
        "2. Predicting a customer will not take the product and the customer takes the product\n",
        "\n",
        "### Which case is more important? \n",
        "* Predicting that a customer will not take a product but he takes i.e. losing on a valuable customer. \n",
        "\n",
        "### How to reduce this loss i.e need to reduce False Negatives?\n",
        "* Company wants Recall to be maximized, greater the Recall higher the chances of minimizing false negatives. Hence, the focus should be on increasing Recall or minimizing the false negatives or in other words identifying the true positives(i.e. Class 1) so that the company can contact potential customers who is most likely to purchase the newly introduced travel package"
      ]
    },
    {
      "cell_type": "markdown",
      "metadata": {
        "id": "rQIk0G9YQOtb"
      },
      "source": [
        "## Building the model\n",
        "- We are going to build 3 models here - Decision Tree, Bagging Classifier and Random Forest Classifier.\n",
        "- First, let's build these models with default parameters and then use hyperparameter tuning to optimize the model performance.\n",
        "- We will calculate all three metrics - Accuracy, Precision and Recall but the metric of interest here is recall.\n",
        "- `Recall` - It gives the ratio of True positives to Actual positives, so high Recall implies low false negatives, i.e. low chances of predicting that a customer will take the new package as that who will not take the package. "
      ]
    },
    {
      "cell_type": "markdown",
      "metadata": {
        "id": "rv5LIaaaGv0V"
      },
      "source": [
        "**Let's define function to provide metric scores(accuracy,recall and precision) on train and test set and a function to show confusion matrix so that we do not have use the same code repetitively while evaluating models.**"
      ]
    },
    {
      "cell_type": "code",
      "execution_count": 122,
      "metadata": {
        "id": "SaYx_oE0Gv0W"
      },
      "outputs": [],
      "source": [
        "# defining a function to compute different metrics to check performance of a classification model built using sklearn\n",
        "def model_performance_classification_sklearn(model, predictors, target):\n",
        "    \"\"\"\n",
        "    Function to compute different metrics to check classification model performance\n",
        "\n",
        "    model: classifier\n",
        "    predictors: independent variables\n",
        "    target: dependent variable\n",
        "    \"\"\"\n",
        "\n",
        "    # predicting using the independent variables\n",
        "    pred = model.predict(predictors)\n",
        "\n",
        "    acc = accuracy_score(target, pred)  # to compute Accuracy\n",
        "    recall = recall_score(target, pred)  # to compute Recall\n",
        "    precision = precision_score(target, pred)  # to compute Precision\n",
        "    f1 = f1_score(target, pred)  # to compute F1-score\n",
        "\n",
        "    # creating a dataframe of metrics\n",
        "    df_perf = pd.DataFrame(\n",
        "        {\n",
        "            \"Accuracy\": acc,\n",
        "            \"Recall\": recall,\n",
        "            \"Precision\": precision,\n",
        "            \"F1\": f1,\n",
        "        },\n",
        "        index=[0],\n",
        "    )\n",
        "\n",
        "    return df_perf"
      ]
    },
    {
      "cell_type": "code",
      "execution_count": 123,
      "metadata": {
        "id": "xSfVF5IjGv0W"
      },
      "outputs": [],
      "source": [
        "def confusion_matrix_sklearn(model, predictors, target):\n",
        "    \"\"\"\n",
        "    To plot the confusion_matrix with percentages\n",
        "\n",
        "    model: classifier\n",
        "    predictors: independent variables\n",
        "    target: dependent variable\n",
        "    \"\"\"\n",
        "    y_pred = model.predict(predictors)\n",
        "    cm = confusion_matrix(target, y_pred)\n",
        "    labels = np.asarray(\n",
        "        [\n",
        "            [\"{0:0.0f}\".format(item) + \"\\n{0:.2%}\".format(item / cm.flatten().sum())]\n",
        "            for item in cm.flatten()\n",
        "        ]\n",
        "    ).reshape(2, 2)\n",
        "\n",
        "    plt.figure(figsize=(6, 4))\n",
        "    sns.heatmap(cm, annot=labels, fmt=\"\")\n",
        "    plt.ylabel(\"True label\")\n",
        "    plt.xlabel(\"Predicted label\")"
      ]
    },
    {
      "cell_type": "markdown",
      "metadata": {
        "id": "1MoJybF9ISZu"
      },
      "source": [
        "**Let's define function to provide metric scores(accuracy,recall and precision) on train and test set and a function to show confusion matrix so that we do not have use the same code repetitively while evaluating models.**"
      ]
    },
    {
      "cell_type": "code",
      "execution_count": 124,
      "metadata": {
        "id": "JHVXWR7PISZv"
      },
      "outputs": [],
      "source": [
        "# defining a function to compute different metrics to check performance of a classification model built using sklearn\n",
        "def model_performance_classification_sklearn(model, predictors, target):\n",
        "    \"\"\"\n",
        "    Function to compute different metrics to check classification model performance\n",
        "\n",
        "    model: classifier\n",
        "    predictors: independent variables\n",
        "    target: dependent variable\n",
        "    \"\"\"\n",
        "\n",
        "    # predicting using the independent variables\n",
        "    pred = model.predict(predictors)\n",
        "\n",
        "    acc = accuracy_score(target, pred)  # to compute Accuracy\n",
        "    recall = recall_score(target, pred)  # to compute Recall\n",
        "    precision = precision_score(target, pred)  # to compute Precision\n",
        "    f1 = f1_score(target, pred)  # to compute F1-score\n",
        "\n",
        "    # creating a dataframe of metrics\n",
        "    df_perf = pd.DataFrame(\n",
        "        {\n",
        "            \"Accuracy\": acc,\n",
        "            \"Recall\": recall,\n",
        "            \"Precision\": precision,\n",
        "            \"F1\": f1,\n",
        "        },\n",
        "        index=[0],\n",
        "    )\n",
        "\n",
        "    return df_perf"
      ]
    },
    {
      "cell_type": "code",
      "execution_count": 125,
      "metadata": {
        "id": "ziWkSCIxISZw"
      },
      "outputs": [],
      "source": [
        "def confusion_matrix_sklearn(model, predictors, target):\n",
        "    \"\"\"\n",
        "    To plot the confusion_matrix with percentages\n",
        "\n",
        "    model: classifier\n",
        "    predictors: independent variables\n",
        "    target: dependent variable\n",
        "    \"\"\"\n",
        "    y_pred = model.predict(predictors)\n",
        "    cm = confusion_matrix(target, y_pred)\n",
        "    labels = np.asarray(\n",
        "        [\n",
        "            [\"{0:0.0f}\".format(item) + \"\\n{0:.2%}\".format(item / cm.flatten().sum())]\n",
        "            for item in cm.flatten()\n",
        "        ]\n",
        "    ).reshape(2, 2)\n",
        "\n",
        "    plt.figure(figsize=(6, 4))\n",
        "    sns.heatmap(cm, annot=labels, fmt=\"\")\n",
        "    plt.ylabel(\"True label\")\n",
        "    plt.xlabel(\"Predicted label\")"
      ]
    },
    {
      "cell_type": "markdown",
      "metadata": {
        "id": "U_imjVzRxLQC"
      },
      "source": [
        "## Build Decision Tree Model"
      ]
    },
    {
      "cell_type": "code",
      "execution_count": 131,
      "metadata": {
        "id": "oPJysCfqIc22"
      },
      "outputs": [],
      "source": [
        "# defining a function to compute different metrics to check performance of a classification model built using sklearn\n",
        "def model_performance_classification_sklearn(model, predictors, target):\n",
        "    \"\"\"\n",
        "    Function to compute different metrics to check classification model performance\n",
        "\n",
        "    model: classifier\n",
        "    predictors: independent variables\n",
        "    target: dependent variable\n",
        "    \"\"\"\n",
        "\n",
        "    # predicting using the independent variables\n",
        "    pred = model.predict(predictors)\n",
        "\n",
        "    acc = accuracy_score(target, pred)  # to compute Accuracy\n",
        "    recall = recall_score(target, pred)  # to compute Recall\n",
        "    precision = precision_score(target, pred)  # to compute Precision\n",
        "    f1 = f1_score(target, pred)  # to compute F1-score\n",
        "\n",
        "    # creating a dataframe of metrics\n",
        "    df_perf = pd.DataFrame(\n",
        "        {\n",
        "            \"Accuracy\": acc,\n",
        "            \"Recall\": recall,\n",
        "            \"Precision\": precision,\n",
        "            \"F1\": f1,\n",
        "        },\n",
        "        index=[0],\n",
        "    )\n",
        "\n",
        "    return df_perf"
      ]
    },
    {
      "cell_type": "code",
      "execution_count": 132,
      "metadata": {
        "id": "tlr1p1MoIc23"
      },
      "outputs": [],
      "source": [
        "def confusion_matrix_sklearn(model, predictors, target):\n",
        "    \"\"\"\n",
        "    To plot the confusion_matrix with percentages\n",
        "\n",
        "    model: classifier\n",
        "    predictors: independent variables\n",
        "    target: dependent variable\n",
        "    \"\"\"\n",
        "    y_pred = model.predict(predictors)\n",
        "    cm = confusion_matrix(target, y_pred)\n",
        "    labels = np.asarray(\n",
        "        [\n",
        "            [\"{0:0.0f}\".format(item) + \"\\n{0:.2%}\".format(item / cm.flatten().sum())]\n",
        "            for item in cm.flatten()\n",
        "        ]\n",
        "    ).reshape(2, 2)\n",
        "\n",
        "    plt.figure(figsize=(6, 4))\n",
        "    sns.heatmap(cm, annot=labels, fmt=\"\")\n",
        "    plt.ylabel(\"True label\")\n",
        "    plt.xlabel(\"Predicted label\")"
      ]
    },
    {
      "cell_type": "markdown",
      "metadata": {
        "id": "qI-qD3JbIc25"
      },
      "source": [
        "* We will build our model using the DecisionTreeClassifier function. Using default 'gini' criteria to split. \n",
        "* If the frequency of class A is 10% and the frequency of class B is 90%, then class B will become the dominant class and the decision tree will become biased toward the dominant classes.\n",
        "\n",
        "* In this case, we can pass a dictionary {0:0.17,1:0.83} to the model to specify the weight of each class and the decision tree will give more weightage to class 1.\n",
        "\n",
        "* class_weight is a hyperparameter for the decision tree classifier."
      ]
    },
    {
      "cell_type": "code",
      "execution_count": 133,
      "metadata": {
        "id": "7GqrkZ8gIc25"
      },
      "outputs": [],
      "source": [
        "dtree = DecisionTreeClassifier(criterion='gini',class_weight={0:0.17,1:0.83},random_state=1)"
      ]
    },
    {
      "cell_type": "code",
      "execution_count": 134,
      "metadata": {
        "outputId": "ce63b947-4de2-4d46-d04b-74e8cde9c333",
        "colab": {
          "base_uri": "https://localhost:8080/"
        },
        "id": "QmKYMEPIIc26"
      },
      "outputs": [
        {
          "output_type": "execute_result",
          "data": {
            "text/plain": [
              "DecisionTreeClassifier(class_weight={0: 0.17, 1: 0.83}, random_state=1)"
            ]
          },
          "metadata": {},
          "execution_count": 134
        }
      ],
      "source": [
        "dtree.fit(X_train, y_train)"
      ]
    },
    {
      "cell_type": "code",
      "execution_count": 135,
      "metadata": {
        "outputId": "cb5a4b8f-061a-4654-81ba-b9cbeee860a8",
        "colab": {
          "base_uri": "https://localhost:8080/",
          "height": 279
        },
        "id": "x7zdMB-ZIc27"
      },
      "outputs": [
        {
          "output_type": "display_data",
          "data": {
            "text/plain": [
              "<Figure size 432x288 with 2 Axes>"
            ],
            "image/png": "[encoded data removed]"
          },
          "metadata": {
            "needs_background": "light"
          }
        }
      ],
      "source": [
        "confusion_matrix_sklearn(dtree, X_test, y_test)"
      ]
    },
    {
      "cell_type": "code",
      "execution_count": 136,
      "metadata": {
        "outputId": "01ca9b35-1577-4f07-cb9b-1756f707597d",
        "colab": {
          "base_uri": "https://localhost:8080/"
        },
        "id": "bAkr0NgGIc28"
      },
      "outputs": [
        {
          "output_type": "stream",
          "name": "stdout",
          "text": [
            "Training performance \n",
            "    Accuracy  Recall  Precision   F1\n",
            "0       1.0     1.0        1.0  1.0\n"
          ]
        }
      ],
      "source": [
        "dtree_model_train_perf=model_performance_classification_sklearn(dtree, X_train, y_train)\n",
        "print(\"Training performance \\n\",dtree_model_train_perf)"
      ]
    },
    {
      "cell_type": "code",
      "execution_count": 137,
      "metadata": {
        "outputId": "61cb1a71-d2b5-4e2f-943c-bff613a6dbe2",
        "colab": {
          "base_uri": "https://localhost:8080/"
        },
        "id": "-bzIwi7RIc28"
      },
      "outputs": [
        {
          "output_type": "stream",
          "name": "stdout",
          "text": [
            "Testing performance \n",
            "    Accuracy    Recall  Precision        F1\n",
            "0  0.882754  0.677536   0.692593  0.684982\n"
          ]
        }
      ],
      "source": [
        "dtree_model_test_perf=model_performance_classification_sklearn(dtree, X_test, y_test)\n",
        "print(\"Testing performance \\n\",dtree_model_test_perf)"
      ]
    },
    {
      "cell_type": "markdown",
      "metadata": {
        "id": "6Ist40eaIc29"
      },
      "source": [
        "* Decision tree is working well on the training data but is not able to generalize well on the test data concerning the recall."
      ]
    },
    {
      "cell_type": "markdown",
      "metadata": {
        "id": "cxFTVYuAGv0Y"
      },
      "source": [
        "### Bagging Classifier"
      ]
    },
    {
      "cell_type": "code",
      "execution_count": 138,
      "metadata": {
        "id": "0hQRHNznGv0Y",
        "outputId": "740df22d-84ec-41b5-ebfc-fda9c15fc865",
        "colab": {
          "base_uri": "https://localhost:8080/"
        }
      },
      "outputs": [
        {
          "output_type": "execute_result",
          "data": {
            "text/plain": [
              "BaggingClassifier(random_state=1)"
            ]
          },
          "metadata": {},
          "execution_count": 138
        }
      ],
      "source": [
        "bagging = BaggingClassifier(random_state=1)\n",
        "bagging.fit(X_train,y_train)"
      ]
    },
    {
      "cell_type": "code",
      "execution_count": 139,
      "metadata": {
        "id": "B9cfDjnAGv0Z",
        "outputId": "52d8b897-e36f-49a2-8469-9a33ab3f27ea",
        "colab": {
          "base_uri": "https://localhost:8080/",
          "height": 279
        }
      },
      "outputs": [
        {
          "output_type": "display_data",
          "data": {
            "text/plain": [
              "<Figure size 432x288 with 2 Axes>"
            ],
            "image/png": "[encoded data removed]"
          },
          "metadata": {
            "needs_background": "light"
          }
        }
      ],
      "source": [
        "confusion_matrix_sklearn(bagging, X_test, y_test)"
      ]
    },
    {
      "cell_type": "code",
      "execution_count": 140,
      "metadata": {
        "id": "6QXhi5qxGv0Z",
        "outputId": "16351cfb-1e8a-4187-f9f2-39cc2ae2e3a7",
        "colab": {
          "base_uri": "https://localhost:8080/"
        }
      },
      "outputs": [
        {
          "output_type": "stream",
          "name": "stdout",
          "text": [
            "Training performance \n",
            "    Accuracy    Recall  Precision        F1\n",
            "0  0.993861  0.968944     0.9984  0.983452\n"
          ]
        }
      ],
      "source": [
        "bagging_model_train_perf=model_performance_classification_sklearn(bagging, X_train, y_train)\n",
        "print(\"Training performance \\n\",bagging_model_train_perf)"
      ]
    },
    {
      "cell_type": "code",
      "execution_count": 141,
      "metadata": {
        "id": "KoFdgHfIGv0Z",
        "outputId": "2b54d80c-4fd3-4d53-bf24-683e056b26d5",
        "colab": {
          "base_uri": "https://localhost:8080/"
        }
      },
      "outputs": [
        {
          "output_type": "stream",
          "name": "stdout",
          "text": [
            "Testing performance \n",
            "    Accuracy    Recall  Precision        F1\n",
            "0  0.909339  0.612319   0.866667  0.717622\n"
          ]
        }
      ],
      "source": [
        "bagging_model_test_perf=model_performance_classification_sklearn(bagging, X_test, y_test)\n",
        "print(\"Testing performance \\n\",bagging_model_test_perf)"
      ]
    },
    {
      "cell_type": "markdown",
      "metadata": {
        "id": "-JJ60uLeGv0Z"
      },
      "source": [
        "* Bagging classifier is overfitting on the training set and is performing poorly on the test set in terms of recall."
      ]
    },
    {
      "cell_type": "markdown",
      "metadata": {
        "id": "C7_essGAGv0Z"
      },
      "source": [
        "**Bagging Classifier with weighted decision tree**"
      ]
    },
    {
      "cell_type": "code",
      "execution_count": 142,
      "metadata": {
        "id": "JPwsaWhjGv0a",
        "outputId": "6ad79ad9-697c-453b-98ed-8a5385c4b403",
        "colab": {
          "base_uri": "https://localhost:8080/"
        }
      },
      "outputs": [
        {
          "output_type": "execute_result",
          "data": {
            "text/plain": [
              "BaggingClassifier(base_estimator=DecisionTreeClassifier(class_weight={0: 0.17,\n",
              "                                                                      1: 0.83},\n",
              "                                                        random_state=1),\n",
              "                  random_state=1)"
            ]
          },
          "metadata": {},
          "execution_count": 142
        }
      ],
      "source": [
        "bagging_wt = BaggingClassifier(base_estimator=DecisionTreeClassifier(criterion='gini',class_weight={0:0.17,1:0.83},random_state=1),random_state=1)\n",
        "bagging_wt.fit(X_train,y_train)"
      ]
    },
    {
      "cell_type": "code",
      "execution_count": 143,
      "metadata": {
        "id": "Jl1NeT_YGv0a",
        "outputId": "21ce7438-d8ca-431e-e24e-b26f9a9837ca",
        "colab": {
          "base_uri": "https://localhost:8080/",
          "height": 279
        }
      },
      "outputs": [
        {
          "output_type": "display_data",
          "data": {
            "text/plain": [
              "<Figure size 432x288 with 2 Axes>"
            ],
            "image/png": "[encoded data removed]"
          },
          "metadata": {
            "needs_background": "light"
          }
        }
      ],
      "source": [
        "confusion_matrix_sklearn(bagging_wt,X_test,y_test)"
      ]
    },
    {
      "cell_type": "code",
      "execution_count": 144,
      "metadata": {
        "id": "4QNEav3rGv0a",
        "outputId": "a1846c42-a3dc-4688-c958-34a7af1d9382",
        "colab": {
          "base_uri": "https://localhost:8080/"
        }
      },
      "outputs": [
        {
          "output_type": "stream",
          "name": "stdout",
          "text": [
            "Training performance \n",
            "    Accuracy    Recall  Precision        F1\n",
            "0  0.994738  0.973602   0.998408  0.985849\n"
          ]
        }
      ],
      "source": [
        "bagging_wt_model_train_perf=model_performance_classification_sklearn(bagging_wt,X_train,y_train)\n",
        "print(\"Training performance \\n\",bagging_wt_model_train_perf)"
      ]
    },
    {
      "cell_type": "code",
      "execution_count": 145,
      "metadata": {
        "id": "4rS8xblhGv0a",
        "outputId": "2022cab5-a74d-4ed3-c366-94fcc7bd0a28",
        "colab": {
          "base_uri": "https://localhost:8080/"
        }
      },
      "outputs": [
        {
          "output_type": "stream",
          "name": "stdout",
          "text": [
            "Testing performance \n",
            "    Accuracy    Recall  Precision        F1\n",
            "0  0.901159  0.543478   0.887574  0.674157\n"
          ]
        }
      ],
      "source": [
        "bagging_wt_model_test_perf=model_performance_classification_sklearn(bagging_wt, X_test, y_test)\n",
        "print(\"Testing performance \\n\",bagging_wt_model_test_perf)"
      ]
    },
    {
      "cell_type": "markdown",
      "metadata": {
        "id": "eI4ojU5fGv0a"
      },
      "source": [
        "* Bagging classifier with a weighted decision tree is giving a fairly good accuracy and prediction but is not able to generalize well on test data in terms of recall."
      ]
    },
    {
      "cell_type": "markdown",
      "metadata": {
        "id": "K5zrOUo1Gv0b"
      },
      "source": [
        "### Random Forest"
      ]
    },
    {
      "cell_type": "code",
      "execution_count": 146,
      "metadata": {
        "id": "Cu-VTmNSGv0b",
        "outputId": "45aec734-cbb4-45cf-b0b2-11c5eaadf48b",
        "colab": {
          "base_uri": "https://localhost:8080/"
        }
      },
      "outputs": [
        {
          "output_type": "execute_result",
          "data": {
            "text/plain": [
              "RandomForestClassifier(random_state=1)"
            ]
          },
          "metadata": {},
          "execution_count": 146
        }
      ],
      "source": [
        "rf = RandomForestClassifier(random_state=1)\n",
        "rf.fit(X_train,y_train)"
      ]
    },
    {
      "cell_type": "code",
      "execution_count": 147,
      "metadata": {
        "id": "PI8Lz2ZVGv0b",
        "outputId": "31944f34-4b72-4444-af00-6e7532759b97",
        "colab": {
          "base_uri": "https://localhost:8080/",
          "height": 279
        }
      },
      "outputs": [
        {
          "output_type": "display_data",
          "data": {
            "text/plain": [
              "<Figure size 432x288 with 2 Axes>"
            ],
            "image/png": "[encoded data removed]"
          },
          "metadata": {
            "needs_background": "light"
          }
        }
      ],
      "source": [
        "confusion_matrix_sklearn(rf,X_test,y_test)"
      ]
    },
    {
      "cell_type": "code",
      "execution_count": 148,
      "metadata": {
        "id": "X-Ty3srDGv0b",
        "outputId": "f2b4c854-e264-4793-a074-ffb68e96a949",
        "colab": {
          "base_uri": "https://localhost:8080/"
        }
      },
      "outputs": [
        {
          "output_type": "stream",
          "name": "stdout",
          "text": [
            "Training performance \n",
            "    Accuracy  Recall  Precision   F1\n",
            "0       1.0     1.0        1.0  1.0\n"
          ]
        }
      ],
      "source": [
        "rf_model_train_perf=model_performance_classification_sklearn(rf,X_train,y_train)\n",
        "print(\"Training performance \\n\",rf_model_train_perf)"
      ]
    },
    {
      "cell_type": "code",
      "execution_count": 149,
      "metadata": {
        "id": "Okv5JoRDGv0b",
        "outputId": "a8a49cdd-2083-4a49-848a-8e7ca75841a6",
        "colab": {
          "base_uri": "https://localhost:8080/"
        }
      },
      "outputs": [
        {
          "output_type": "stream",
          "name": "stdout",
          "text": [
            "Testing performance \n",
            "    Accuracy    Recall  Precision        F1\n",
            "0  0.911384  0.568841   0.934524  0.707207\n"
          ]
        }
      ],
      "source": [
        "rf_model_test_perf=model_performance_classification_sklearn(rf,X_test,y_test)\n",
        "print(\"Testing performance \\n\",rf_model_test_perf)"
      ]
    },
    {
      "cell_type": "markdown",
      "metadata": {
        "id": "EWDymkGsGv0c"
      },
      "source": [
        "* Random Forest has performed well in terms of accuracy and precision, but it is not able to generalize well on the test data in terms of recall. There is overfitting in the data"
      ]
    },
    {
      "cell_type": "markdown",
      "metadata": {
        "id": "AeJhfRUvGv0c"
      },
      "source": [
        "**Random forest with class weights**"
      ]
    },
    {
      "cell_type": "code",
      "execution_count": 150,
      "metadata": {
        "id": "aeWoLnaeGv0c",
        "outputId": "fc2dadb7-0341-4f62-905c-45b7c5c55418",
        "colab": {
          "base_uri": "https://localhost:8080/"
        }
      },
      "outputs": [
        {
          "output_type": "execute_result",
          "data": {
            "text/plain": [
              "RandomForestClassifier(class_weight={0: 0.17, 1: 0.83}, random_state=1)"
            ]
          },
          "metadata": {},
          "execution_count": 150
        }
      ],
      "source": [
        "rf_wt = RandomForestClassifier(class_weight={0:0.17,1:0.83}, random_state=1)\n",
        "rf_wt.fit(X_train,y_train)"
      ]
    },
    {
      "cell_type": "code",
      "execution_count": 151,
      "metadata": {
        "id": "GUB-RtVTGv0c",
        "outputId": "32004f80-bf54-4c49-b41c-581564f14961",
        "colab": {
          "base_uri": "https://localhost:8080/",
          "height": 279
        }
      },
      "outputs": [
        {
          "output_type": "display_data",
          "data": {
            "text/plain": [
              "<Figure size 432x288 with 2 Axes>"
            ],
            "image/png": "[encoded data removed]"
          },
          "metadata": {
            "needs_background": "light"
          }
        }
      ],
      "source": [
        "confusion_matrix_sklearn(rf_wt, X_test,y_test)"
      ]
    },
    {
      "cell_type": "code",
      "execution_count": 152,
      "metadata": {
        "id": "6eE7q_R4Gv0c",
        "outputId": "bf4ef36d-55cd-432c-a937-1266e9c7348f",
        "colab": {
          "base_uri": "https://localhost:8080/"
        }
      },
      "outputs": [
        {
          "output_type": "stream",
          "name": "stdout",
          "text": [
            "Training performance \n",
            "    Accuracy  Recall  Precision   F1\n",
            "0       1.0     1.0        1.0  1.0\n"
          ]
        }
      ],
      "source": [
        "rf_wt_model_train_perf=model_performance_classification_sklearn(rf_wt, X_train,y_train)\n",
        "print(\"Training performance \\n\",rf_wt_model_train_perf)"
      ]
    },
    {
      "cell_type": "code",
      "execution_count": 153,
      "metadata": {
        "id": "h6xcURJLGv0d",
        "outputId": "8ad806c9-4b1e-4123-85aa-aa1c54b9ed0e",
        "colab": {
          "base_uri": "https://localhost:8080/"
        }
      },
      "outputs": [
        {
          "output_type": "stream",
          "name": "stdout",
          "text": [
            "Testing performance \n",
            "    Accuracy    Recall  Precision        F1\n",
            "0  0.903204  0.518116   0.940789  0.668224\n"
          ]
        }
      ],
      "source": [
        "rf_wt_model_test_perf=model_performance_classification_sklearn(rf_wt, X_test,y_test)\n",
        "print(\"Testing performance \\n\",rf_wt_model_test_perf)"
      ]
    },
    {
      "cell_type": "markdown",
      "metadata": {
        "id": "MZCuClfLGv0d"
      },
      "source": [
        "* There is not much improvement in metrics of weighted random forest as compared to the unweighted random forest."
      ]
    },
    {
      "cell_type": "markdown",
      "metadata": {
        "id": "WTu_5hR_Gv0d"
      },
      "source": [
        "### Tuning Models"
      ]
    },
    {
      "cell_type": "markdown",
      "metadata": {
        "id": "6Ep6lGxpxLQr"
      },
      "source": [
        "### Using GridSearch for Hyperparameter tuning model"
      ]
    },
    {
      "cell_type": "markdown",
      "metadata": {
        "id": "sAZ5rgWrxLQs"
      },
      "source": [
        "* Hyperparameter tuning is also tricky in the sense that there is no direct way to calculate how a change in the\n",
        "  hyperparameter value will reduce the loss of your model, so we usually resort to experimentation. i.e we'll use Grid search\n",
        "* Grid search is a tuning technique that attempts to compute the optimum values of hyperparameters. \n",
        "* It is an exhaustive search that is performed on a the specific parameter values of a model.\n",
        "* The parameters of the estimator/model used to apply these methods are optimized by cross-validated grid-search over a parameter grid."
      ]
    },
    {
      "cell_type": "markdown",
      "metadata": {
        "id": "l0EYWVAZGv0d"
      },
      "source": [
        "**Tuning Decision Tree**"
      ]
    },
    {
      "cell_type": "code",
      "execution_count": 154,
      "metadata": {
        "id": "8fWQiBSzGv0e",
        "outputId": "ecfc7217-20a6-4e98-f049-c3226c676231",
        "colab": {
          "base_uri": "https://localhost:8080/"
        }
      },
      "outputs": [
        {
          "output_type": "execute_result",
          "data": {
            "text/plain": [
              "DecisionTreeClassifier(max_depth=20, min_impurity_decrease=0.0001,\n",
              "                       random_state=1)"
            ]
          },
          "metadata": {},
          "execution_count": 154
        }
      ],
      "source": [
        "# Choose the type of classifier. \n",
        "dtree_estimator = DecisionTreeClassifier(random_state=1)\n",
        "\n",
        "# Grid of parameters to choose from\n",
        "parameters = {'max_depth': np.arange(2,30), \n",
        "              'min_samples_leaf': [1, 2, 5, 7, 10],\n",
        "              'max_leaf_nodes' : [2, 3, 5, 10,15, None],\n",
        "              'min_impurity_decrease': [0.0001,0.001,0.01,0.1]\n",
        "             }\n",
        "\n",
        "# Type of scoring used to compare parameter combinations\n",
        "scorer = metrics.make_scorer(metrics.recall_score)\n",
        "\n",
        "# Run the grid search\n",
        "grid_obj = GridSearchCV(dtree_estimator, parameters, scoring=scorer)\n",
        "grid_obj = grid_obj.fit(X_train, y_train)\n",
        "\n",
        "# Set the clf to the best combination of parameters\n",
        "dtree_estimator = grid_obj.best_estimator_\n",
        "\n",
        "# Fit the best algorithm to the data. \n",
        "dtree_estimator.fit(X_train, y_train)"
      ]
    },
    {
      "cell_type": "code",
      "execution_count": 155,
      "metadata": {
        "id": "TTV6Yf9fGv0e",
        "outputId": "9babac07-ddf9-4fde-953f-f2a345a7712b",
        "colab": {
          "base_uri": "https://localhost:8080/",
          "height": 279
        }
      },
      "outputs": [
        {
          "output_type": "display_data",
          "data": {
            "text/plain": [
              "<Figure size 432x288 with 2 Axes>"
            ],
            "image/png": "[encoded data removed]"
          },
          "metadata": {
            "needs_background": "light"
          }
        }
      ],
      "source": [
        "confusion_matrix_sklearn(dtree_estimator, X_test,y_test)"
      ]
    },
    {
      "cell_type": "code",
      "execution_count": 156,
      "metadata": {
        "id": "NGi5YOZwGv0e",
        "outputId": "9701df44-8529-4fae-fbfb-6deed732486d",
        "colab": {
          "base_uri": "https://localhost:8080/"
        }
      },
      "outputs": [
        {
          "output_type": "stream",
          "name": "stdout",
          "text": [
            "Training performance \n",
            "    Accuracy    Recall  Precision        F1\n",
            "0  0.993569  0.965839        1.0  0.982622\n"
          ]
        }
      ],
      "source": [
        "dtree_estimator_model_train_perf=model_performance_classification_sklearn(dtree_estimator, X_train,y_train)\n",
        "print(\"Training performance \\n\",dtree_estimator_model_train_perf)"
      ]
    },
    {
      "cell_type": "code",
      "execution_count": 157,
      "metadata": {
        "id": "-KOH6I3lGv0e",
        "outputId": "feb72810-51e7-4c1f-a503-64ebd139fa79",
        "colab": {
          "base_uri": "https://localhost:8080/"
        }
      },
      "outputs": [
        {
          "output_type": "stream",
          "name": "stdout",
          "text": [
            "Testing performance \n",
            "    Accuracy    Recall  Precision        F1\n",
            "0  0.882072  0.641304   0.705179  0.671727\n"
          ]
        }
      ],
      "source": [
        "dtree_estimator_model_test_perf=model_performance_classification_sklearn(dtree_estimator, X_test, y_test)\n",
        "print(\"Testing performance \\n\",dtree_estimator_model_test_perf)"
      ]
    },
    {
      "cell_type": "markdown",
      "metadata": {
        "id": "Tszr1uRDGv0f"
      },
      "source": [
        "* Overfitting in decision tree has reduced but the recall has also reduced immensly."
      ]
    },
    {
      "cell_type": "markdown",
      "metadata": {
        "id": "U5EYkN4hGv0f"
      },
      "source": [
        "**Tuning Bagging Classifier**"
      ]
    },
    {
      "cell_type": "code",
      "execution_count": 158,
      "metadata": {
        "id": "5H0_VlGyGv0f",
        "outputId": "1e6d4198-506f-46d9-afc3-7ea070ee0067",
        "colab": {
          "base_uri": "https://localhost:8080/"
        }
      },
      "outputs": [
        {
          "output_type": "execute_result",
          "data": {
            "text/plain": [
              "GridSearchCV(cv=5, estimator=BaggingClassifier(random_state=1),\n",
              "             param_grid={'base_estimator': [DecisionTreeClassifier(random_state=1)],\n",
              "                         'max_features': [0.7, 0.8, 0.9, 1],\n",
              "                         'n_estimators': [5, 7, 15, 51, 101]},\n",
              "             scoring='recall')"
            ]
          },
          "metadata": {},
          "execution_count": 158
        }
      ],
      "source": [
        "# grid search for bagging classifier\n",
        "cl1 = DecisionTreeClassifier(random_state=1)\n",
        "param_grid = {'base_estimator':[cl1],\n",
        "              'n_estimators':[5,7,15,51,101],\n",
        "              'max_features': [0.7,0.8,0.9,1]\n",
        "             }\n",
        "\n",
        "grid = GridSearchCV(BaggingClassifier(random_state=1,bootstrap=True), param_grid=param_grid, scoring = 'recall', cv = 5)\n",
        "grid.fit(X_train, y_train)"
      ]
    },
    {
      "cell_type": "code",
      "execution_count": 159,
      "metadata": {
        "id": "9Ulq89YhGv0f",
        "outputId": "ac5ef525-13f1-4e61-e189-1eb4155d722f",
        "colab": {
          "base_uri": "https://localhost:8080/"
        }
      },
      "outputs": [
        {
          "output_type": "execute_result",
          "data": {
            "text/plain": [
              "BaggingClassifier(base_estimator=DecisionTreeClassifier(random_state=1),\n",
              "                  max_features=0.9, n_estimators=101, random_state=1)"
            ]
          },
          "metadata": {},
          "execution_count": 159
        }
      ],
      "source": [
        "## getting the best estimator\n",
        "bagging_estimator  = grid.best_estimator_\n",
        "bagging_estimator.fit(X_train,y_train)"
      ]
    },
    {
      "cell_type": "code",
      "execution_count": 160,
      "metadata": {
        "id": "95Xy8B-ZGv0f",
        "outputId": "3d1ab8a2-28be-48f0-f77e-341f6d64ef18",
        "colab": {
          "base_uri": "https://localhost:8080/",
          "height": 279
        }
      },
      "outputs": [
        {
          "output_type": "display_data",
          "data": {
            "text/plain": [
              "<Figure size 432x288 with 2 Axes>"
            ],
            "image/png": "[encoded data removed]"
          },
          "metadata": {
            "needs_background": "light"
          }
        }
      ],
      "source": [
        "confusion_matrix_sklearn(bagging_estimator, X_test,y_test)"
      ]
    },
    {
      "cell_type": "code",
      "execution_count": 161,
      "metadata": {
        "id": "5vGULDykGv0g",
        "outputId": "bdc60895-ad58-493c-8eee-17f9fe54df95",
        "colab": {
          "base_uri": "https://localhost:8080/"
        }
      },
      "outputs": [
        {
          "output_type": "stream",
          "name": "stdout",
          "text": [
            "Training performance \n",
            "    Accuracy  Recall  Precision   F1\n",
            "0       1.0     1.0        1.0  1.0\n"
          ]
        }
      ],
      "source": [
        "bagging_estimator_model_train_perf=model_performance_classification_sklearn(bagging_estimator, X_train,y_train)\n",
        "print(\"Training performance \\n\",bagging_estimator_model_train_perf)"
      ]
    },
    {
      "cell_type": "code",
      "execution_count": 162,
      "metadata": {
        "id": "hD1sVQyLGv0g",
        "outputId": "9bfdab76-7899-4153-c56f-f65d4f37c1ba",
        "colab": {
          "base_uri": "https://localhost:8080/"
        }
      },
      "outputs": [
        {
          "output_type": "stream",
          "name": "stdout",
          "text": [
            "Testing performance \n",
            "    Accuracy   Recall  Precision        F1\n",
            "0  0.928425  0.67029   0.929648  0.778947\n"
          ]
        }
      ],
      "source": [
        "bagging_estimator_model_test_perf=model_performance_classification_sklearn(bagging_estimator, X_test, y_test)\n",
        "print(\"Testing performance \\n\",bagging_estimator_model_test_perf)"
      ]
    },
    {
      "cell_type": "markdown",
      "metadata": {
        "id": "A-Z88ePJGv0g"
      },
      "source": [
        "* Recall has improved but the accuracy and precision of the model has dropped drastically which is an indication that overall the model is making many mistakes."
      ]
    },
    {
      "cell_type": "markdown",
      "metadata": {
        "id": "DxWMW_71Gv0g"
      },
      "source": [
        "**Tuning Random Forest**"
      ]
    },
    {
      "cell_type": "code",
      "execution_count": 163,
      "metadata": {
        "id": "bV6wiJRCGv0g",
        "outputId": "6b91a1f7-9c4c-4216-8c49-7ab913bd3a6e",
        "colab": {
          "base_uri": "https://localhost:8080/"
        }
      },
      "outputs": [
        {
          "output_type": "execute_result",
          "data": {
            "text/plain": [
              "RandomForestClassifier(max_features=0.9, n_estimators=251, random_state=1)"
            ]
          },
          "metadata": {},
          "execution_count": 163
        }
      ],
      "source": [
        "# Choose the type of classifier. \n",
        "rf_estimator = RandomForestClassifier(random_state=1)\n",
        "\n",
        "# Grid of parameters to choose from\n",
        "parameters = {  \n",
        "        \"n_estimators\": [110,251,501],\n",
        "        \"min_samples_leaf\": np.arange(1, 6,1),\n",
        "        \"max_features\": [0.7,0.9,'log2','auto'],\n",
        "        \"max_samples\": [0.7,0.9,None],\n",
        "}\n",
        "\n",
        "# Run the grid search\n",
        "grid_obj = GridSearchCV(rf_estimator, parameters, scoring='recall',cv=5)\n",
        "grid_obj = grid_obj.fit(X_train, y_train)\n",
        "\n",
        "# Set the clf to the best combination of parameters\n",
        "rf_estimator = grid_obj.best_estimator_\n",
        "\n",
        "# Fit the best algorithm to the data. \n",
        "rf_estimator.fit(X_train, y_train)"
      ]
    },
    {
      "cell_type": "code",
      "execution_count": 164,
      "metadata": {
        "id": "npL5zpzyGv0g",
        "outputId": "6fdb9456-96cd-4fde-b466-33769a82a0c7",
        "colab": {
          "base_uri": "https://localhost:8080/",
          "height": 279
        }
      },
      "outputs": [
        {
          "output_type": "display_data",
          "data": {
            "text/plain": [
              "<Figure size 432x288 with 2 Axes>"
            ],
            "image/png": "[encoded data removed]"
          },
          "metadata": {
            "needs_background": "light"
          }
        }
      ],
      "source": [
        "confusion_matrix_sklearn(rf_estimator, X_test,y_test)"
      ]
    },
    {
      "cell_type": "code",
      "execution_count": 165,
      "metadata": {
        "id": "3Zlek5--Gv0h",
        "outputId": "01af5887-f012-422d-b219-0b3722520c9b",
        "colab": {
          "base_uri": "https://localhost:8080/"
        }
      },
      "outputs": [
        {
          "output_type": "stream",
          "name": "stdout",
          "text": [
            "Training performance \n",
            "    Accuracy  Recall  Precision   F1\n",
            "0       1.0     1.0        1.0  1.0\n"
          ]
        }
      ],
      "source": [
        "rf_estimator_model_train_perf=model_performance_classification_sklearn(rf_estimator, X_train,y_train)\n",
        "print(\"Training performance \\n\",rf_estimator_model_train_perf)"
      ]
    },
    {
      "cell_type": "code",
      "execution_count": 166,
      "metadata": {
        "id": "HfUowR5bGv0h",
        "outputId": "a40ac559-1649-4a1a-ff18-81cf8e514573",
        "colab": {
          "base_uri": "https://localhost:8080/"
        }
      },
      "outputs": [
        {
          "output_type": "stream",
          "name": "stdout",
          "text": [
            "Testing performance \n",
            "    Accuracy    Recall  Precision        F1\n",
            "0  0.929789  0.688406   0.917874  0.786749\n"
          ]
        }
      ],
      "source": [
        "rf_estimator_model_test_perf=model_performance_classification_sklearn(rf_estimator, X_test, y_test)\n",
        "print(\"Testing performance \\n\",rf_estimator_model_test_perf)"
      ]
    },
    {
      "cell_type": "markdown",
      "metadata": {
        "id": "t2q_FzEdGv0h"
      },
      "source": [
        "* Random forest after tuning has given same performance as un-tuned random forest."
      ]
    },
    {
      "cell_type": "markdown",
      "metadata": {
        "id": "nToC0cpVGv0h"
      },
      "source": [
        "### Comparing all the models"
      ]
    },
    {
      "cell_type": "code",
      "execution_count": 167,
      "metadata": {
        "id": "3yaWvC8_Gv0h",
        "outputId": "959db509-f49f-4258-e2d9-9868f11d0db1",
        "colab": {
          "base_uri": "https://localhost:8080/",
          "height": 254
        }
      },
      "outputs": [
        {
          "output_type": "stream",
          "name": "stdout",
          "text": [
            "Training performance comparison:\n"
          ]
        },
        {
          "output_type": "execute_result",
          "data": {
            "text/plain": [
              "           Decision Tree  Bagging Classifier  Weighted Bagging Classifier  \\\n",
              "Accuracy             1.0            0.993861                     0.994738   \n",
              "Recall               1.0            0.968944                     0.973602   \n",
              "Precision            1.0            0.998400                     0.998408   \n",
              "F1                   1.0            0.983452                     0.985849   \n",
              "\n",
              "           Random Forest Classifier  Weighted Random Forest Classifier  \\\n",
              "Accuracy                        1.0                                1.0   \n",
              "Recall                          1.0                                1.0   \n",
              "Precision                       1.0                                1.0   \n",
              "F1                              1.0                                1.0   \n",
              "\n",
              "           Decision Tree Estimator  Bagging Estimator  Random Forest Estimator  \n",
              "Accuracy                  0.993569                1.0                      1.0  \n",
              "Recall                    0.965839                1.0                      1.0  \n",
              "Precision                 1.000000                1.0                      1.0  \n",
              "F1                        0.982622                1.0                      1.0  "
            ],
            "text/html": [
              "\n",
              "  <div id=\"df-14d1ce25-e3b5-49a4-baa3-6d2b911fc009\">\n",
              "    <div class=\"colab-df-container\">\n",
              "      <div>\n",
              "<style scoped>\n",
              "    .dataframe tbody tr th:only-of-type {\n",
              "        vertical-align: middle;\n",
              "    }\n",
              "\n",
              "    .dataframe tbody tr th {\n",
              "        vertical-align: top;\n",
              "    }\n",
              "\n",
              "    .dataframe thead th {\n",
              "        text-align: right;\n",
              "    }\n",
              "</style>\n",
              "<table border=\"1\" class=\"dataframe\">\n",
              "  <thead>\n",
              "    <tr style=\"text-align: right;\">\n",
              "      <th></th>\n",
              "      <th>Decision Tree</th>\n",
              "      <th>Bagging Classifier</th>\n",
              "      <th>Weighted Bagging Classifier</th>\n",
              "      <th>Random Forest Classifier</th>\n",
              "      <th>Weighted Random Forest Classifier</th>\n",
              "      <th>Decision Tree Estimator</th>\n",
              "      <th>Bagging Estimator</th>\n",
              "      <th>Random Forest Estimator</th>\n",
              "    </tr>\n",
              "  </thead>\n",
              "  <tbody>\n",
              "    <tr>\n",
              "      <th>Accuracy</th>\n",
              "      <td>1.0</td>\n",
              "      <td>0.993861</td>\n",
              "      <td>0.994738</td>\n",
              "      <td>1.0</td>\n",
              "      <td>1.0</td>\n",
              "      <td>0.993569</td>\n",
              "      <td>1.0</td>\n",
              "      <td>1.0</td>\n",
              "    </tr>\n",
              "    <tr>\n",
              "      <th>Recall</th>\n",
              "      <td>1.0</td>\n",
              "      <td>0.968944</td>\n",
              "      <td>0.973602</td>\n",
              "      <td>1.0</td>\n",
              "      <td>1.0</td>\n",
              "      <td>0.965839</td>\n",
              "      <td>1.0</td>\n",
              "      <td>1.0</td>\n",
              "    </tr>\n",
              "    <tr>\n",
              "      <th>Precision</th>\n",
              "      <td>1.0</td>\n",
              "      <td>0.998400</td>\n",
              "      <td>0.998408</td>\n",
              "      <td>1.0</td>\n",
              "      <td>1.0</td>\n",
              "      <td>1.000000</td>\n",
              "      <td>1.0</td>\n",
              "      <td>1.0</td>\n",
              "    </tr>\n",
              "    <tr>\n",
              "      <th>F1</th>\n",
              "      <td>1.0</td>\n",
              "      <td>0.983452</td>\n",
              "      <td>0.985849</td>\n",
              "      <td>1.0</td>\n",
              "      <td>1.0</td>\n",
              "      <td>0.982622</td>\n",
              "      <td>1.0</td>\n",
              "      <td>1.0</td>\n",
              "    </tr>\n",
              "  </tbody>\n",
              "</table>\n",
              "</div>\n",
              "      <button class=\"colab-df-convert\" onclick=\"convertToInteractive('df-14d1ce25-e3b5-49a4-baa3-6d2b911fc009')\"\n",
              "              title=\"Convert this dataframe to an interactive table.\"\n",
              "              style=\"display:none;\">\n",
              "        \n",
              "  <svg xmlns=\"http://www.w3.org/2000/svg\" height=\"24px\"viewBox=\"0 0 24 24\"\n",
              "       width=\"24px\">\n",
              "    <path d=\"M0 0h24v24H0V0z\" fill=\"none\"/>\n",
              "    <path d=\"M18.56 5.44l.94 2.06.94-2.06 2.06-.94-2.06-.94-.94-2.06-.94 2.06-2.06.94zm-11 1L8.5 8.5l.94-2.06 2.06-.94-2.06-.94L8.5 2.5l-.94 2.06-2.06.94zm10 10l.94 2.06.94-2.06 2.06-.94-2.06-.94-.94-2.06-.94 2.06-2.06.94z\"/><path d=\"M17.41 7.96l-1.37-1.37c-.4-.4-.92-.59-1.43-.59-.52 0-1.04.2-1.43.59L10.3 9.45l-7.72 7.72c-.78.78-.78 2.05 0 2.83L4 21.41c.39.39.9.59 1.41.59.51 0 1.02-.2 1.41-.59l7.78-7.78 2.81-2.81c.8-.78.8-2.07 0-2.86zM5.41 20L4 18.59l7.72-7.72 1.47 1.35L5.41 20z\"/>\n",
              "  </svg>\n",
              "      </button>\n",
              "      \n",
              "  <style>\n",
              "    .colab-df-container {\n",
              "      display:flex;\n",
              "      flex-wrap:wrap;\n",
              "      gap: 12px;\n",
              "    }\n",
              "\n",
              "    .colab-df-convert {\n",
              "      background-color: #E8F0FE;\n",
              "      border: none;\n",
              "      border-radius: 50%;\n",
              "      cursor: pointer;\n",
              "      display: none;\n",
              "      fill: #1967D2;\n",
              "      height: 32px;\n",
              "      padding: 0 0 0 0;\n",
              "      width: 32px;\n",
              "    }\n",
              "\n",
              "    .colab-df-convert:hover {\n",
              "      background-color: #E2EBFA;\n",
              "      box-shadow: 0px 1px 2px rgba(60, 64, 67, 0.3), 0px 1px 3px 1px rgba(60, 64, 67, 0.15);\n",
              "      fill: #174EA6;\n",
              "    }\n",
              "\n",
              "    [theme=dark] .colab-df-convert {\n",
              "      background-color: #3B4455;\n",
              "      fill: #D2E3FC;\n",
              "    }\n",
              "\n",
              "    [theme=dark] .colab-df-convert:hover {\n",
              "      background-color: #434B5C;\n",
              "      box-shadow: 0px 1px 3px 1px rgba(0, 0, 0, 0.15);\n",
              "      filter: drop-shadow(0px 1px 2px rgba(0, 0, 0, 0.3));\n",
              "      fill: #FFFFFF;\n",
              "    }\n",
              "  </style>\n",
              "\n",
              "      <script>\n",
              "        const buttonEl =\n",
              "          document.querySelector('#df-14d1ce25-e3b5-49a4-baa3-6d2b911fc009 button.colab-df-convert');\n",
              "        buttonEl.style.display =\n",
              "          google.colab.kernel.accessAllowed ? 'block' : 'none';\n",
              "\n",
              "        async function convertToInteractive(key) {\n",
              "          const element = document.querySelector('#df-14d1ce25-e3b5-49a4-baa3-6d2b911fc009');\n",
              "          const dataTable =\n",
              "            await google.colab.kernel.invokeFunction('convertToInteractive',\n",
              "                                                     [key], {});\n",
              "          if (!dataTable) return;\n",
              "\n",
              "          const docLinkHtml = 'Like what you see? Visit the ' +\n",
              "            '<a target=\"_blank\" href=https://colab.research.google.com/notebooks/data_table.ipynb>data table notebook</a>'\n",
              "            + ' to learn more about interactive tables.';\n",
              "          element.innerHTML = '';\n",
              "          dataTable['output_type'] = 'display_data';\n",
              "          await google.colab.output.renderOutput(dataTable, element);\n",
              "          const docLink = document.createElement('div');\n",
              "          docLink.innerHTML = docLinkHtml;\n",
              "          element.appendChild(docLink);\n",
              "        }\n",
              "      </script>\n",
              "    </div>\n",
              "  </div>\n",
              "  "
            ]
          },
          "metadata": {},
          "execution_count": 167
        }
      ],
      "source": [
        "# training performance comparison\n",
        "\n",
        "models_train_comp_df = pd.concat(\n",
        "    [dtree_model_train_perf.T,bagging_model_train_perf.T, bagging_wt_model_train_perf.T,rf_model_train_perf.T,\n",
        "    rf_wt_model_train_perf.T,dtree_estimator_model_train_perf.T, bagging_estimator_model_train_perf.T,\n",
        "     rf_estimator_model_train_perf.T],\n",
        "    axis=1,\n",
        ")\n",
        "models_train_comp_df.columns = [\n",
        "    \"Decision Tree\",\n",
        "    \"Bagging Classifier\",\n",
        "    \"Weighted Bagging Classifier\",\n",
        "    \"Random Forest Classifier\",\n",
        "    \"Weighted Random Forest Classifier\",\n",
        "    \"Decision Tree Estimator\",\n",
        "    \"Bagging Estimator\",\n",
        "    \"Random Forest Estimator\"]\n",
        "print(\"Training performance comparison:\")\n",
        "models_train_comp_df"
      ]
    },
    {
      "cell_type": "code",
      "execution_count": 168,
      "metadata": {
        "id": "dF22iUuGGv0h",
        "outputId": "d18f65b5-1760-44d9-d262-3b124700fdf5",
        "colab": {
          "base_uri": "https://localhost:8080/",
          "height": 254
        }
      },
      "outputs": [
        {
          "output_type": "stream",
          "name": "stdout",
          "text": [
            "Testing performance comparison:\n"
          ]
        },
        {
          "output_type": "execute_result",
          "data": {
            "text/plain": [
              "           Decision Tree  Bagging Classifier  Weighted Bagging Classifier  \\\n",
              "Accuracy        0.882754            0.909339                     0.901159   \n",
              "Recall          0.677536            0.612319                     0.543478   \n",
              "Precision       0.692593            0.866667                     0.887574   \n",
              "F1              0.684982            0.717622                     0.674157   \n",
              "\n",
              "           Random Forest Classifier  Weighted Random Forest Classifier  \\\n",
              "Accuracy                   0.911384                           0.903204   \n",
              "Recall                     0.568841                           0.518116   \n",
              "Precision                  0.934524                           0.940789   \n",
              "F1                         0.707207                           0.668224   \n",
              "\n",
              "           Decision Tree Estimator  Bagging Estimator  Random Forest Estimator  \n",
              "Accuracy                  0.882072           0.928425                 0.929789  \n",
              "Recall                    0.641304           0.670290                 0.688406  \n",
              "Precision                 0.705179           0.929648                 0.917874  \n",
              "F1                        0.671727           0.778947                 0.786749  "
            ],
            "text/html": [
              "\n",
              "  <div id=\"df-4a8c4653-b6e7-4543-aeef-623192fced0c\">\n",
              "    <div class=\"colab-df-container\">\n",
              "      <div>\n",
              "<style scoped>\n",
              "    .dataframe tbody tr th:only-of-type {\n",
              "        vertical-align: middle;\n",
              "    }\n",
              "\n",
              "    .dataframe tbody tr th {\n",
              "        vertical-align: top;\n",
              "    }\n",
              "\n",
              "    .dataframe thead th {\n",
              "        text-align: right;\n",
              "    }\n",
              "</style>\n",
              "<table border=\"1\" class=\"dataframe\">\n",
              "  <thead>\n",
              "    <tr style=\"text-align: right;\">\n",
              "      <th></th>\n",
              "      <th>Decision Tree</th>\n",
              "      <th>Bagging Classifier</th>\n",
              "      <th>Weighted Bagging Classifier</th>\n",
              "      <th>Random Forest Classifier</th>\n",
              "      <th>Weighted Random Forest Classifier</th>\n",
              "      <th>Decision Tree Estimator</th>\n",
              "      <th>Bagging Estimator</th>\n",
              "      <th>Random Forest Estimator</th>\n",
              "    </tr>\n",
              "  </thead>\n",
              "  <tbody>\n",
              "    <tr>\n",
              "      <th>Accuracy</th>\n",
              "      <td>0.882754</td>\n",
              "      <td>0.909339</td>\n",
              "      <td>0.901159</td>\n",
              "      <td>0.911384</td>\n",
              "      <td>0.903204</td>\n",
              "      <td>0.882072</td>\n",
              "      <td>0.928425</td>\n",
              "      <td>0.929789</td>\n",
              "    </tr>\n",
              "    <tr>\n",
              "      <th>Recall</th>\n",
              "      <td>0.677536</td>\n",
              "      <td>0.612319</td>\n",
              "      <td>0.543478</td>\n",
              "      <td>0.568841</td>\n",
              "      <td>0.518116</td>\n",
              "      <td>0.641304</td>\n",
              "      <td>0.670290</td>\n",
              "      <td>0.688406</td>\n",
              "    </tr>\n",
              "    <tr>\n",
              "      <th>Precision</th>\n",
              "      <td>0.692593</td>\n",
              "      <td>0.866667</td>\n",
              "      <td>0.887574</td>\n",
              "      <td>0.934524</td>\n",
              "      <td>0.940789</td>\n",
              "      <td>0.705179</td>\n",
              "      <td>0.929648</td>\n",
              "      <td>0.917874</td>\n",
              "    </tr>\n",
              "    <tr>\n",
              "      <th>F1</th>\n",
              "      <td>0.684982</td>\n",
              "      <td>0.717622</td>\n",
              "      <td>0.674157</td>\n",
              "      <td>0.707207</td>\n",
              "      <td>0.668224</td>\n",
              "      <td>0.671727</td>\n",
              "      <td>0.778947</td>\n",
              "      <td>0.786749</td>\n",
              "    </tr>\n",
              "  </tbody>\n",
              "</table>\n",
              "</div>\n",
              "      <button class=\"colab-df-convert\" onclick=\"convertToInteractive('df-4a8c4653-b6e7-4543-aeef-623192fced0c')\"\n",
              "              title=\"Convert this dataframe to an interactive table.\"\n",
              "              style=\"display:none;\">\n",
              "        \n",
              "  <svg xmlns=\"http://www.w3.org/2000/svg\" height=\"24px\"viewBox=\"0 0 24 24\"\n",
              "       width=\"24px\">\n",
              "    <path d=\"M0 0h24v24H0V0z\" fill=\"none\"/>\n",
              "    <path d=\"M18.56 5.44l.94 2.06.94-2.06 2.06-.94-2.06-.94-.94-2.06-.94 2.06-2.06.94zm-11 1L8.5 8.5l.94-2.06 2.06-.94-2.06-.94L8.5 2.5l-.94 2.06-2.06.94zm10 10l.94 2.06.94-2.06 2.06-.94-2.06-.94-.94-2.06-.94 2.06-2.06.94z\"/><path d=\"M17.41 7.96l-1.37-1.37c-.4-.4-.92-.59-1.43-.59-.52 0-1.04.2-1.43.59L10.3 9.45l-7.72 7.72c-.78.78-.78 2.05 0 2.83L4 21.41c.39.39.9.59 1.41.59.51 0 1.02-.2 1.41-.59l7.78-7.78 2.81-2.81c.8-.78.8-2.07 0-2.86zM5.41 20L4 18.59l7.72-7.72 1.47 1.35L5.41 20z\"/>\n",
              "  </svg>\n",
              "      </button>\n",
              "      \n",
              "  <style>\n",
              "    .colab-df-container {\n",
              "      display:flex;\n",
              "      flex-wrap:wrap;\n",
              "      gap: 12px;\n",
              "    }\n",
              "\n",
              "    .colab-df-convert {\n",
              "      background-color: #E8F0FE;\n",
              "      border: none;\n",
              "      border-radius: 50%;\n",
              "      cursor: pointer;\n",
              "      display: none;\n",
              "      fill: #1967D2;\n",
              "      height: 32px;\n",
              "      padding: 0 0 0 0;\n",
              "      width: 32px;\n",
              "    }\n",
              "\n",
              "    .colab-df-convert:hover {\n",
              "      background-color: #E2EBFA;\n",
              "      box-shadow: 0px 1px 2px rgba(60, 64, 67, 0.3), 0px 1px 3px 1px rgba(60, 64, 67, 0.15);\n",
              "      fill: #174EA6;\n",
              "    }\n",
              "\n",
              "    [theme=dark] .colab-df-convert {\n",
              "      background-color: #3B4455;\n",
              "      fill: #D2E3FC;\n",
              "    }\n",
              "\n",
              "    [theme=dark] .colab-df-convert:hover {\n",
              "      background-color: #434B5C;\n",
              "      box-shadow: 0px 1px 3px 1px rgba(0, 0, 0, 0.15);\n",
              "      filter: drop-shadow(0px 1px 2px rgba(0, 0, 0, 0.3));\n",
              "      fill: #FFFFFF;\n",
              "    }\n",
              "  </style>\n",
              "\n",
              "      <script>\n",
              "        const buttonEl =\n",
              "          document.querySelector('#df-4a8c4653-b6e7-4543-aeef-623192fced0c button.colab-df-convert');\n",
              "        buttonEl.style.display =\n",
              "          google.colab.kernel.accessAllowed ? 'block' : 'none';\n",
              "\n",
              "        async function convertToInteractive(key) {\n",
              "          const element = document.querySelector('#df-4a8c4653-b6e7-4543-aeef-623192fced0c');\n",
              "          const dataTable =\n",
              "            await google.colab.kernel.invokeFunction('convertToInteractive',\n",
              "                                                     [key], {});\n",
              "          if (!dataTable) return;\n",
              "\n",
              "          const docLinkHtml = 'Like what you see? Visit the ' +\n",
              "            '<a target=\"_blank\" href=https://colab.research.google.com/notebooks/data_table.ipynb>data table notebook</a>'\n",
              "            + ' to learn more about interactive tables.';\n",
              "          element.innerHTML = '';\n",
              "          dataTable['output_type'] = 'display_data';\n",
              "          await google.colab.output.renderOutput(dataTable, element);\n",
              "          const docLink = document.createElement('div');\n",
              "          docLink.innerHTML = docLinkHtml;\n",
              "          element.appendChild(docLink);\n",
              "        }\n",
              "      </script>\n",
              "    </div>\n",
              "  </div>\n",
              "  "
            ]
          },
          "metadata": {},
          "execution_count": 168
        }
      ],
      "source": [
        "# training performance comparison\n",
        "\n",
        "models_test_comp_df = pd.concat(\n",
        "    [dtree_model_test_perf.T,bagging_model_test_perf.T, bagging_wt_model_test_perf.T,rf_model_test_perf.T,\n",
        "    rf_wt_model_test_perf.T,dtree_estimator_model_test_perf.T, bagging_estimator_model_test_perf.T,\n",
        "     rf_estimator_model_test_perf.T],\n",
        "    axis=1,\n",
        ")\n",
        "models_test_comp_df.columns = [\n",
        "    \"Decision Tree\",\n",
        "    \"Bagging Classifier\",\n",
        "    \"Weighted Bagging Classifier\",\n",
        "    \"Random Forest Classifier\",\n",
        "    \"Weighted Random Forest Classifier\",\n",
        "    \"Decision Tree Estimator\",\n",
        "    \"Bagging Estimator\",\n",
        "    \"Random Forest Estimator\"]\n",
        "print(\"Testing performance comparison:\")\n",
        "models_test_comp_df"
      ]
    },
    {
      "cell_type": "markdown",
      "metadata": {
        "id": "03fA8A2OGv0i"
      },
      "source": [
        "* Decision tree performed well on training and test set.\n",
        "* Bagging classifier performed better than Decision Tree. \n",
        "* Random Forest with default parameters performed lower  after tuning - As the final results depend on the parameters used/checked using GridSearchCV, There may be yet better parameters which may result in a better performance."
      ]
    },
    {
      "cell_type": "markdown",
      "source": [
        "# **Model Building Boosting**"
      ],
      "metadata": {
        "id": "3ypz1mVUKw3X"
      }
    },
    {
      "cell_type": "code",
      "execution_count": 169,
      "metadata": {
        "id": "w_wwpxaepkfQ"
      },
      "outputs": [],
      "source": [
        "##  Function to calculate r2_score and RMSE on train and test data\n",
        "def get_model_score(model, flag=True):\n",
        "    '''\n",
        "    model : classifier to predict values of X\n",
        "\n",
        "    '''\n",
        "    # defining an empty list to store train and test results\n",
        "    score_list=[] \n",
        "    \n",
        "    pred_train = model.predict(X_train)\n",
        "    pred_test = model.predict(X_test)\n",
        "    \n",
        "    train_r2=metrics.r2_score(y_train,pred_train)\n",
        "    test_r2=metrics.r2_score(y_test,pred_test)\n",
        "    train_rmse=np.sqrt(metrics.mean_squared_error(y_train,pred_train))\n",
        "    test_rmse=np.sqrt(metrics.mean_squared_error(y_test,pred_test))\n",
        "    \n",
        "    #Adding all scores in the list\n",
        "    score_list.extend((train_r2,test_r2,train_rmse,test_rmse))\n",
        "    \n",
        "    # If the flag is set to True then only the following print statements will be dispayed, the default value is True\n",
        "    if flag==True: \n",
        "        print(\"R-sqaure on training set : \",metrics.r2_score(y_train,pred_train))\n",
        "        print(\"R-square on test set : \",metrics.r2_score(y_test,pred_test))\n",
        "        print(\"RMSE on training set : \",np.sqrt(metrics.mean_squared_error(y_train,pred_train)))\n",
        "        print(\"RMSE on test set : \",np.sqrt(metrics.mean_squared_error(y_test,pred_test)))\n",
        "    \n",
        "    # returning the list with train and test scores\n",
        "    return score_list"
      ]
    },
    {
      "cell_type": "markdown",
      "metadata": {
        "id": "GZw_di98pkfV"
      },
      "source": [
        "### AdaBoost Regressor"
      ]
    },
    {
      "cell_type": "code",
      "execution_count": 170,
      "metadata": {
        "id": "YElA_stqpkfV",
        "outputId": "4c266af2-3902-4d7a-cf07-ceb60c56a4c8",
        "colab": {
          "base_uri": "https://localhost:8080/"
        }
      },
      "outputs": [
        {
          "output_type": "execute_result",
          "data": {
            "text/plain": [
              "AdaBoostRegressor(random_state=1)"
            ]
          },
          "metadata": {},
          "execution_count": 170
        }
      ],
      "source": [
        "ab_regressor=AdaBoostRegressor(random_state=1)\n",
        "ab_regressor.fit(X_train,y_train)"
      ]
    },
    {
      "cell_type": "code",
      "execution_count": 171,
      "metadata": {
        "id": "K-m1keWXpkfV",
        "outputId": "8803cb2a-036b-48db-f9c9-b5b789fb40f9",
        "colab": {
          "base_uri": "https://localhost:8080/"
        }
      },
      "outputs": [
        {
          "output_type": "stream",
          "name": "stdout",
          "text": [
            "R-sqaure on training set :  0.1530620840115442\n",
            "R-square on test set :  0.18754196931652367\n",
            "RMSE on training set :  0.35975230675205505\n",
            "RMSE on test set :  0.35227415012572016\n"
          ]
        }
      ],
      "source": [
        "ab_regressor_score=get_model_score(ab_regressor)"
      ]
    },
    {
      "cell_type": "markdown",
      "metadata": {
        "id": "8NWDbMSTpkfV"
      },
      "source": [
        "- AdaBoost is generalizing well but it is giving poor performance, in terms of r2 score as well as RMSE, as compared to decision tree and random forest model.  "
      ]
    },
    {
      "cell_type": "markdown",
      "metadata": {
        "id": "SlRV-tn-pkfW"
      },
      "source": [
        "### Hyperparameter Tuning"
      ]
    },
    {
      "cell_type": "code",
      "execution_count": 172,
      "metadata": {
        "id": "aDq6BJx0pkfW",
        "outputId": "ea23f138-c69a-436b-c20d-8329de546904",
        "colab": {
          "base_uri": "https://localhost:8080/"
        }
      },
      "outputs": [
        {
          "output_type": "execute_result",
          "data": {
            "text/plain": [
              "AdaBoostRegressor(learning_rate=0.1, n_estimators=20, random_state=1)"
            ]
          },
          "metadata": {},
          "execution_count": 172
        }
      ],
      "source": [
        "# Choose the type of classifier. \n",
        "ab_tuned = AdaBoostRegressor(random_state=1)\n",
        "\n",
        "# Grid of parameters to choose from\n",
        "parameters = {'n_estimators': np.arange(10,100,10), \n",
        "              'learning_rate': [1, 0.1, 0.5, 0.01],\n",
        "              }\n",
        "\n",
        "# Type of scoring used to compare parameter combinations\n",
        "scorer = metrics.make_scorer(metrics.r2_score)\n",
        "\n",
        "# Run the grid search\n",
        "grid_obj = GridSearchCV(ab_tuned, parameters, scoring=scorer,cv=5)\n",
        "grid_obj = grid_obj.fit(X_train, y_train)\n",
        "\n",
        "# Set the clf to the best combination of parameters\n",
        "ab_tuned = grid_obj.best_estimator_\n",
        "\n",
        "# Fit the best algorithm to the data. \n",
        "ab_tuned.fit(X_train, y_train)"
      ]
    },
    {
      "cell_type": "code",
      "execution_count": 173,
      "metadata": {
        "id": "0PotV8tqpkfW",
        "outputId": "167c541b-6254-4763-8874-2ac7ca869524",
        "colab": {
          "base_uri": "https://localhost:8080/"
        }
      },
      "outputs": [
        {
          "output_type": "stream",
          "name": "stdout",
          "text": [
            "R-sqaure on training set :  0.1848427604897589\n",
            "R-square on test set :  0.20714648787074996\n",
            "RMSE on training set :  0.35293806013312806\n",
            "RMSE on test set :  0.3479980297336148\n"
          ]
        }
      ],
      "source": [
        "ab_tuned_score=get_model_score(ab_tuned)"
      ]
    },
    {
      "cell_type": "markdown",
      "metadata": {
        "id": "xTTIJ9RopkfW"
      },
      "source": [
        "- There is no significant improvement in the model after hyperparameter tuning."
      ]
    },
    {
      "cell_type": "code",
      "execution_count": 174,
      "metadata": {
        "id": "iblPSSCYpkfW",
        "outputId": "2196f60f-eb56-40c3-b74a-fa421f8617e2",
        "colab": {
          "base_uri": "https://localhost:8080/"
        }
      },
      "outputs": [
        {
          "output_type": "stream",
          "name": "stdout",
          "text": [
            "                                    Imp\n",
            "Passport                       0.313431\n",
            "Age                            0.112868\n",
            "ProductPitched                 0.110406\n",
            "CityTier                       0.102270\n",
            "Designation_Executive          0.092279\n",
            "MaritalStatus_Single           0.082708\n",
            "PreferredPropertyStar          0.030304\n",
            "MonthlyIncome                  0.029244\n",
            "DurationOfPitch                0.026180\n",
            "NumberOfFollowups              0.021962\n",
            "NumberOfTrips                  0.021274\n",
            "MaritalStatus_Divorced         0.017079\n",
            "PitchSatisfactionScore         0.010908\n",
            "MaritalStatus_Married          0.007701\n",
            "Occupation_Large Business      0.007539\n",
            "MaritalStatus_Unmarried        0.006566\n",
            "TypeofContact_Self Enquiry     0.004658\n",
            "NumberOfPersonVisiting         0.002461\n",
            "NumberOfChildrenVisiting       0.000162\n",
            "Designation_Manager            0.000000\n",
            "Designation_Senior Manager     0.000000\n",
            "Designation_AVP                0.000000\n",
            "Occupation_Salaried            0.000000\n",
            "Gender_Male                    0.000000\n",
            "Gender_Female                  0.000000\n",
            "TypeofContact_is_missing       0.000000\n",
            "TypeofContact_Company Invited  0.000000\n",
            "Occupation_Small Business      0.000000\n",
            "Occupation_Free Lancer         0.000000\n",
            "OwnCar                         0.000000\n",
            "Designation_VP                 0.000000\n"
          ]
        }
      ],
      "source": [
        "# importance of features in the tree building\n",
        "\n",
        "print(pd.DataFrame(ab_tuned.feature_importances_, columns = [\"Imp\"], index = X_train.columns).sort_values(by = 'Imp', ascending = False))"
      ]
    },
    {
      "cell_type": "code",
      "execution_count": 175,
      "metadata": {
        "id": "fEKO-LBWpkfX",
        "outputId": "b6424e21-e60c-4a33-f664-1e644a907291",
        "colab": {
          "base_uri": "https://localhost:8080/",
          "height": 730
        }
      },
      "outputs": [
        {
          "output_type": "display_data",
          "data": {
            "text/plain": [
              "<Figure size 864x864 with 1 Axes>"
            ],
            "image/png": "[encoded data removed]"
          },
          "metadata": {
            "needs_background": "light"
          }
        }
      ],
      "source": [
        "feature_names = X_train.columns\n",
        "importances = ab_tuned.feature_importances_\n",
        "indices = np.argsort(importances)\n",
        "\n",
        "plt.figure(figsize=(12,12))\n",
        "plt.title('Feature Importances')\n",
        "plt.barh(range(len(indices)), importances[indices], color='violet', align='center')\n",
        "plt.yticks(range(len(indices)), [feature_names[i] for i in indices])\n",
        "plt.xlabel('Relative Importance')\n",
        "plt.show()"
      ]
    },
    {
      "cell_type": "markdown",
      "metadata": {
        "id": "OvuElLZ4pkfX"
      },
      "source": [
        "- Passport is the most important features here, followed by Age and ProductPitched."
      ]
    },
    {
      "cell_type": "markdown",
      "metadata": {
        "id": "J0LI-9gKpkfX"
      },
      "source": [
        "### Gradient Boosting Regressor"
      ]
    },
    {
      "cell_type": "code",
      "execution_count": 176,
      "metadata": {
        "id": "c3QIzKLLpkfX",
        "outputId": "cd2cd21f-b93d-48fd-f49c-bf8573d023d5",
        "colab": {
          "base_uri": "https://localhost:8080/"
        }
      },
      "outputs": [
        {
          "output_type": "execute_result",
          "data": {
            "text/plain": [
              "GradientBoostingRegressor(random_state=1)"
            ]
          },
          "metadata": {},
          "execution_count": 176
        }
      ],
      "source": [
        "gb_estimator=GradientBoostingRegressor(random_state=1)\n",
        "gb_estimator.fit(X_train,y_train)"
      ]
    },
    {
      "cell_type": "code",
      "execution_count": 177,
      "metadata": {
        "id": "AuWaEz2gpkfX",
        "outputId": "32402a0b-c307-4769-9471-e403d1ea86ac",
        "colab": {
          "base_uri": "https://localhost:8080/"
        }
      },
      "outputs": [
        {
          "output_type": "stream",
          "name": "stdout",
          "text": [
            "R-sqaure on training set :  0.4071629743287899\n",
            "R-square on test set :  0.34739029619026807\n",
            "RMSE on training set :  0.3009854205047583\n",
            "RMSE on test set :  0.3157236184240531\n"
          ]
        }
      ],
      "source": [
        "gb_estimator_score=get_model_score(gb_estimator)"
      ]
    },
    {
      "cell_type": "markdown",
      "metadata": {
        "id": "aojwgIafpkfY"
      },
      "source": [
        "- Gradient boosting is generalizing well and giving decent results but not as good as random forest."
      ]
    },
    {
      "cell_type": "markdown",
      "metadata": {
        "id": "AbxL7YlzpkfY"
      },
      "source": [
        "### Hyperparameter Tuning"
      ]
    },
    {
      "cell_type": "code",
      "execution_count": 178,
      "metadata": {
        "id": "4ENuCKyhpkfY",
        "outputId": "a33ef345-d3b6-4093-d9ca-db05e77ca3de",
        "colab": {
          "base_uri": "https://localhost:8080/"
        }
      },
      "outputs": [
        {
          "output_type": "execute_result",
          "data": {
            "text/plain": [
              "GradientBoostingRegressor(max_depth=10, max_features=0.9, n_estimators=175,\n",
              "                          random_state=1, subsample=0.7)"
            ]
          },
          "metadata": {},
          "execution_count": 178
        }
      ],
      "source": [
        "# Choose the type of classifier. \n",
        "gb_tuned = GradientBoostingRegressor(random_state=1)\n",
        "\n",
        "# Grid of parameters to choose from\n",
        "parameters = {'n_estimators': np.arange(50,200,25), \n",
        "              'subsample':[0.7,0.8,0.9,1],\n",
        "              'max_features':[0.7,0.8,0.9,1],\n",
        "              'max_depth':[3,5,7,10]\n",
        "              }\n",
        "\n",
        "# Type of scoring used to compare parameter combinations\n",
        "scorer = metrics.make_scorer(metrics.r2_score)\n",
        "\n",
        "# Run the grid search\n",
        "grid_obj = GridSearchCV(gb_tuned, parameters, scoring=scorer,cv=5)\n",
        "grid_obj = grid_obj.fit(X_train, y_train)\n",
        "\n",
        "# Set the clf to the best combination of parameters\n",
        "gb_tuned = grid_obj.best_estimator_\n",
        "\n",
        "# Fit the best algorithm to the data. \n",
        "gb_tuned.fit(X_train, y_train)"
      ]
    },
    {
      "cell_type": "code",
      "execution_count": 179,
      "metadata": {
        "id": "bFhWnKAnpkfY",
        "outputId": "abba794b-ca42-42e7-870f-b630d218d811",
        "colab": {
          "base_uri": "https://localhost:8080/"
        }
      },
      "outputs": [
        {
          "output_type": "stream",
          "name": "stdout",
          "text": [
            "R-sqaure on training set :  0.999891581514565\n",
            "R-square on test set :  0.6599887479102793\n",
            "RMSE on training set :  0.004070328561684061\n",
            "RMSE on test set :  0.2278908838073776\n"
          ]
        }
      ],
      "source": [
        "gb_tuned_score=get_model_score(gb_tuned)"
      ]
    },
    {
      "cell_type": "markdown",
      "metadata": {
        "id": "_mwD6pvppkfY"
      },
      "source": [
        "- We can see that the model has improved significantly in terms of r2 score and RMSE.\n",
        "- The r2 score has increase by approx 31% on the test data.\n",
        "- RMSE has decreased by almost 9 for the test data."
      ]
    },
    {
      "cell_type": "code",
      "execution_count": 180,
      "metadata": {
        "id": "LOp3mewWpkfZ",
        "outputId": "21a6346f-2d33-4159-9af5-69916fcd15f2",
        "colab": {
          "base_uri": "https://localhost:8080/"
        }
      },
      "outputs": [
        {
          "output_type": "stream",
          "name": "stdout",
          "text": [
            "                                        Imp\n",
            "MonthlyIncome                  1.461561e-01\n",
            "DurationOfPitch                1.255903e-01\n",
            "Age                            1.228411e-01\n",
            "NumberOfTrips                  6.248455e-02\n",
            "NumberOfFollowups              5.516134e-02\n",
            "Passport                       5.377036e-02\n",
            "PitchSatisfactionScore         5.134460e-02\n",
            "CityTier                       4.296373e-02\n",
            "ProductPitched                 3.847493e-02\n",
            "PreferredPropertyStar          3.302044e-02\n",
            "Designation_Executive          2.593899e-02\n",
            "NumberOfChildrenVisiting       2.314246e-02\n",
            "NumberOfPersonVisiting         2.237520e-02\n",
            "MaritalStatus_Single           2.204653e-02\n",
            "Occupation_Large Business      1.814339e-02\n",
            "OwnCar                         1.613588e-02\n",
            "TypeofContact_Company Invited  1.525151e-02\n",
            "Occupation_Small Business      1.523239e-02\n",
            "Gender_Female                  1.419498e-02\n",
            "MaritalStatus_Divorced         1.339081e-02\n",
            "MaritalStatus_Married          1.204454e-02\n",
            "MaritalStatus_Unmarried        1.145432e-02\n",
            "TypeofContact_Self Enquiry     1.130937e-02\n",
            "Occupation_Salaried            1.125346e-02\n",
            "Gender_Male                    1.091339e-02\n",
            "Designation_Senior Manager     9.986751e-03\n",
            "Designation_Manager            9.834100e-03\n",
            "Designation_AVP                2.656741e-03\n",
            "Designation_VP                 2.286121e-03\n",
            "TypeofContact_is_missing       6.008154e-04\n",
            "Occupation_Free Lancer         7.645622e-07\n"
          ]
        }
      ],
      "source": [
        "# importance of features in the tree building ( The importance of a feature is computed as the \n",
        "#(normalized) total reduction of the criterion brought by that feature. It is also known as the Gini importance )\n",
        "\n",
        "print(pd.DataFrame(gb_tuned.feature_importances_, columns = [\"Imp\"], index = X_train.columns).sort_values(by = 'Imp', ascending = False))"
      ]
    },
    {
      "cell_type": "code",
      "execution_count": 181,
      "metadata": {
        "id": "CmH17bcVpkfZ",
        "outputId": "13373e23-5500-48d3-da63-f4a6d67ce6da",
        "colab": {
          "base_uri": "https://localhost:8080/",
          "height": 730
        }
      },
      "outputs": [
        {
          "output_type": "display_data",
          "data": {
            "text/plain": [
              "<Figure size 864x864 with 1 Axes>"
            ],
            "image/png": "[encoded data removed]"
          },
          "metadata": {
            "needs_background": "light"
          }
        }
      ],
      "source": [
        "feature_names = X_train.columns\n",
        "importances = gb_tuned.feature_importances_\n",
        "indices = np.argsort(importances)\n",
        "\n",
        "plt.figure(figsize=(12,12))\n",
        "plt.title('Feature Importances')\n",
        "plt.barh(range(len(indices)), importances[indices], color='violet', align='center')\n",
        "plt.yticks(range(len(indices)), [feature_names[i] for i in indices])\n",
        "plt.xlabel('Relative Importance')\n",
        "plt.show()"
      ]
    },
    {
      "cell_type": "markdown",
      "metadata": {
        "id": "D7UFL7ZFpkfZ"
      },
      "source": [
        "- Monthly Income is the most important feature, followed by Number of trips, number of follow ups and passport"
      ]
    },
    {
      "cell_type": "markdown",
      "metadata": {
        "id": "0_kkgb5Opkfc"
      },
      "source": [
        "## <a id = \"link7\"></a>Stacking Model"
      ]
    },
    {
      "cell_type": "markdown",
      "metadata": {
        "id": "z7g7Uo6Spkfc"
      },
      "source": [
        "**Now, let's build a stacking model with the tuned models - decision tree, random forest and gradient boosting, then use XGBoost to get the final prediction.**"
      ]
    },
    {
      "cell_type": "code",
      "execution_count": null,
      "metadata": {
        "id": "DcePq0DBpkfc"
      },
      "outputs": [],
      "source": [
        "estimators=[('Decision Tree', dtree_tuned),('adbaoost', ab_tuned),\n",
        "           ('XGradient Boosting', xgb_tuned)]\n",
        "final_estimator=GradientBoostingRegressor(random_state=1)"
      ]
    },
    {
      "cell_type": "code",
      "execution_count": null,
      "metadata": {
        "id": "FZ6YP0ktpkfc",
        "outputId": "9b3b8d48-5c4c-4a16-8d3b-3d1572bf7a7c"
      },
      "outputs": [
        {
          "data": {
            "text/plain": [
              "StackingRegressor(cv=5,\n",
              "                  estimators=[('Decision Tree',\n",
              "                               DecisionTreeRegressor(max_depth=14,\n",
              "                                                     min_impurity_decrease=0.1,\n",
              "                                                     min_samples_leaf=5,\n",
              "                                                     random_state=1)),\n",
              "                              ('adbaoost',\n",
              "                               AdaBoostRegressor(learning_rate=1,\n",
              "                                                 n_estimators=30,\n",
              "                                                 random_state=1)),\n",
              "                              ('XGradient Boosting',\n",
              "                               XGBRegressor(base_score=0.5, booster='gbtree',\n",
              "                                            colsample_bylevel=0.8,\n",
              "                                            colsample_bynode=1,\n",
              "                                            colsample_bytree...\n",
              "                                            learning_rate=0.300000012,\n",
              "                                            max_delta_step=0, max_depth=6,\n",
              "                                            min_child_weight=1, missing=nan,\n",
              "                                            monotone_constraints='()',\n",
              "                                            n_estimators=150, n_jobs=16,\n",
              "                                            num_parallel_tree=1,\n",
              "                                            predictor='auto', random_state=1,\n",
              "                                            reg_alpha=0, reg_lambda=1,\n",
              "                                            scale_pos_weight=1, subsample=1,\n",
              "                                            tree_method='exact',\n",
              "                                            validate_parameters=1,\n",
              "                                            verbosity=None))],\n",
              "                  final_estimator=GradientBoostingRegressor(random_state=1))"
            ]
          },
          "execution_count": 74,
          "metadata": {},
          "output_type": "execute_result"
        }
      ],
      "source": [
        "stacking_estimator=StackingRegressor(estimators=estimators, final_estimator=final_estimator,cv=5)\n",
        "stacking_estimator.fit(X_train,y_train)"
      ]
    },
    {
      "cell_type": "code",
      "execution_count": null,
      "metadata": {
        "id": "VYnEwdbRpkfd",
        "outputId": "2eb7a230-6f90-4f0b-ae89-a4ea65400006"
      },
      "outputs": [
        {
          "name": "stdout",
          "output_type": "stream",
          "text": [
            "R-sqaure on training set :  0.981081156952059\n",
            "R-square on test set :  0.9528727486722692\n",
            "RMSE on training set :  24.711926633484044\n",
            "RMSE on test set :  40.22389965102671\n"
          ]
        }
      ],
      "source": [
        "stacking_estimator_score=get_model_score(stacking_estimator)"
      ]
    },
    {
      "cell_type": "markdown",
      "metadata": {
        "id": "Iwe66epEJnGR"
      },
      "source": [
        "## Business Insights and Recommendations\n",
        "\n",
        "* I have been able to build a predictive model:\n",
        "  a) that company can deploy  to identify key variables among the clients when marketing their packages to clients .\n",
        "  b) based on which company can take appropriate follow-ups to build increase its revenue in the future \n",
        "\n",
        "* Factors that inform the pacakge choice - Passport, Monthly Income, Number of trips, Age and Number of follow-ups.\n",
        "* Monthly Income: Clients with higher income are mosre likely to take up the packages, as this means they have more disposable income to access and seek to go for tours more\n",
        "\n",
        "* Passport: Those clients with passport are more likely to take thepackages. This basically means, if one has a passport, there is willingness and more room to travel compared to those without a passport.  \n",
        "\n",
        "* Age: Age of a customers tend to play a role in decision to travel, most of the travelers are aged 37yrs and below, showing that the younger generation tend to want to travel more than the older generation. \n",
        "\n",
        "* Number of trips made; Clients who have traveled more than, tend to take up packages, this could mean that there is exposure and thus the desire to travel. \n",
        "\n",
        "* Number of follow ups: The more follow-ups are made on clients, the more likely they are to travel. \n",
        "\n",
        "* Among the products pitched, most of the clients prefered the basic package followed closely by the deluxe package and then the Standard package. \n",
        "\n",
        "* While pitching to the Male, they are more likely to choose the kingsize package, while the Female counterparts are more liely to choose the Super deluxe package\n",
        "\n",
        "* Most clients from City Tier 1 took the Basic package, followed by those that chose the King package. Among the Tier 2 city clients, most chose the King package, while the Tier 3 city clients chose the Deluxe package followed closely by thse that chose Standard and Super deluxe\n",
        "\n",
        "* Most of the self inquiry clients chose the King package, while among those that the company invited took the Deluxe package. "
      ]
    }
  ],
  "metadata": {
    "colab": {
      "collapsed_sections": [
        "53IZ1dkAy4VY"
      ],
      "name": "Ensemble_Project Viola Rop Use.ipynb",
      "provenance": []
    },
    "kernelspec": {
      "display_name": "Python 3",
      "language": "python",
      "name": "python3"
    },
    "language_info": {
      "codemirror_mode": {
        "name": "ipython",
        "version": 3
      },
      "file_extension": ".py",
      "mimetype": "text/x-python",
      "name": "python",
      "nbconvert_exporter": "python",
      "pygments_lexer": "ipython3",
      "version": "3.8.5"
    }
  },
  "nbformat": 4,
  "nbformat_minor": 0
}